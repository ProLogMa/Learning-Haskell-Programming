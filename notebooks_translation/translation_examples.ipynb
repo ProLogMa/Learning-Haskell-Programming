{
 "cells": [
  {
   "cell_type": "markdown",
   "metadata": {},
   "source": [
    "# 번역 용례집 "
   ]
  },
  {
   "cell_type": "markdown",
   "metadata": {},
   "source": [
    "## B "
   ]
  },
  {
   "cell_type": "markdown",
   "metadata": {},
   "source": [
    "* boolean: 부울"
   ]
  },
  {
   "cell_type": "markdown",
   "metadata": {},
   "source": [
    "## C "
   ]
  },
  {
   "cell_type": "markdown",
   "metadata": {},
   "source": [
    "* call: 호출\n",
    "    * function call: 함수 호출\n",
    "* command: 명령문"
   ]
  },
  {
   "cell_type": "markdown",
   "metadata": {},
   "source": [
    "## E"
   ]
  },
  {
   "cell_type": "markdown",
   "metadata": {},
   "source": [
    "* empty list: 공리스트\n",
    "* expression: 표현식"
   ]
  },
  {
   "cell_type": "markdown",
   "metadata": {},
   "source": [
    "## F"
   ]
  },
  {
   "cell_type": "markdown",
   "metadata": {},
   "source": [
    "* function: 함수\n",
    "* functional: 함수형\n",
    "    * functional programming: 함수형 프로그래밍"
   ]
  },
  {
   "cell_type": "markdown",
   "metadata": {},
   "source": [
    "## H"
   ]
  },
  {
   "cell_type": "markdown",
   "metadata": {},
   "source": [
    "* Haskell: 하스켈\n",
    "* head: 머리"
   ]
  },
  {
   "cell_type": "markdown",
   "metadata": {},
   "source": [
    "## I"
   ]
  },
  {
   "cell_type": "markdown",
   "metadata": {},
   "source": [
    "* infinite: 무한\n",
    "    * infinite list: 무한 리스트"
   ]
  },
  {
   "cell_type": "markdown",
   "metadata": {},
   "source": [
    "## L "
   ]
  },
  {
   "cell_type": "markdown",
   "metadata": {},
   "source": [
    "* label: 라벨\n",
    "* list comprehension: 리스트 조건제시법"
   ]
  },
  {
   "cell_type": "markdown",
   "metadata": {},
   "source": [
    "## P"
   ]
  },
  {
   "cell_type": "markdown",
   "metadata": {},
   "source": [
    "* predicate\n",
    "    * 리스트 조건제시법에서: 조건\n",
    "    * 기타 경우에 따라: 서술 명제"
   ]
  },
  {
   "cell_type": "markdown",
   "metadata": {},
   "source": [
    "## S "
   ]
  },
  {
   "cell_type": "markdown",
   "metadata": {},
   "source": [
    "* step: 보폭\n",
    "* statement: 표현식\n",
    "* system: 체계, 시스템\n",
    "    * type system: 유형 체계"
   ]
  },
  {
   "cell_type": "markdown",
   "metadata": {},
   "source": [
    "## T "
   ]
  },
  {
   "cell_type": "markdown",
   "metadata": {},
   "source": [
    "* tail: 꼬리\n",
    "* tuple: 튜플 (쌍 또는 순서쌍 등의 표현 사용하지 않음)\n",
    "* type: 유형"
   ]
  },
  {
   "cell_type": "markdown",
   "metadata": {},
   "source": [
    "## V "
   ]
  },
  {
   "cell_type": "markdown",
   "metadata": {},
   "source": [
    "* value: 값"
   ]
  },
  {
   "cell_type": "markdown",
   "metadata": {},
   "source": [
    "# 주의사항"
   ]
  },
  {
   "cell_type": "markdown",
   "metadata": {},
   "source": [
    "## 2장 "
   ]
  },
  {
   "cell_type": "markdown",
   "metadata": {},
   "source": [
    "* 하스켈에서 if는 명령문에 사용되는 것이 아니라 표현식(expression)을 생성할 때 사용함.\n",
    "* 표현식은 값(value)를 표현함.\n",
    "    * 파이썬 등 명령형 프로그래밍 언어에서 변수에 저장될 수 있는 값을 표현하는 기호들의 나열이라 생각하면 됨.\n",
    "* 오역한 부분이 몇 군데 있음. 확인해볼 것."
   ]
  },
  {
   "cell_type": "markdown",
   "metadata": {},
   "source": [
    "## 3장"
   ]
  },
  {
   "cell_type": "markdown",
   "metadata": {},
   "source": [
    "* "
   ]
  }
 ],
 "metadata": {
  "kernelspec": {
   "display_name": "Haskell",
   "language": "haskell",
   "name": "haskell"
  },
  "language_info": {
   "codemirror_mode": "Haskell",
   "file_extension": ".hs",
   "mimetype": "text/x-haskell",
   "name": "haskell",
   "pygments_lexer": "Haskell",
   "version": "8.8.4"
  }
 },
 "nbformat": 4,
 "nbformat_minor": 4
}
