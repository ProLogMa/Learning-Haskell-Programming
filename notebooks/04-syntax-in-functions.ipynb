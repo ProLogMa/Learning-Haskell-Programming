{
 "cells": [
  {
   "cell_type": "markdown",
   "metadata": {},
   "source": [
    "# 4장 함수의 구문"
   ]
  },
  {
   "cell_type": "markdown",
   "metadata": {},
   "source": [
    "__*아래 주피터 노트북은 James Brock의 [learn-you-a-haskell-notebook](https://github.com/jamesdbrock/learn-you-a-haskell-notebook)을 기본틀로 사용합니다.*__"
   ]
  },
  {
   "cell_type": "markdown",
   "metadata": {},
   "source": [
    "__참고:__ 린팅(linting) 기능 끄기\n",
    "\n",
    "* 린팅(linting): IHaskell에서 HLint라고 불리는 린터(linter)에 의해 보다 적절하다고 판단하는 표현식을 제안하는 기능\n",
    "* 보다 세련된 표현식(expression)을 제안하는 도구임. 하지만 반드시 필요한 기능은 아니다\n",
    "* 참조: [IHaskell의 린팅 기능 설정하기](https://github.com/gibiansky/IHaskell/wiki#opt-no-lint)"
   ]
  },
  {
   "cell_type": "code",
   "execution_count": 1,
   "metadata": {},
   "outputs": [],
   "source": [
    ":opt no-lint"
   ]
  },
  {
   "cell_type": "markdown",
   "metadata": {},
   "source": [
    "__참고: 주피터랩 단축키__\n",
    "\n",
    "주피터랩에서 가장 유용한 단축키 조합은 다음과 같다.\n",
    "\n",
    "| 단축키 조합 | 실행결과 |\n",
    "|-------------:|---------------|\n",
    "|<kbd>Shift</kbd>+<kbd>Enter</kbd> | 선택한 셀을 실행하고 다음 셀로 이동 |\n",
    "|<kbd>Ctrl</kbd>+<kbd>Enter</kbd> | 선택한 셀을 실행. 다음 셀로 이동하지 않음 |\n",
    "|<kbd>Alt</kbd>+<kbd>Enter</kbd> | 선택한 셀을 실행하고 선택한 셀 뒤에 새로운 셀 삽입 |\n",
    "|<kbd>Enter</kbd> | 선택한 셀 편집 |\n",
    "|<kbd>Ctrl</kbd>+<kbd>Shift</kbd>+<kbd>-</kbd> | 커서 위치에서 셀 분할 |\n",
    "\n",
    "모든 가능한 단축키 조합은 왼편 사이드바에 위치한 돋보기 아이콘을 눌러 확인하거나 검색할 수 있다. \n",
    "주피터랩의 단축키 설정 및 주요 단축키에 대한 자세한 설명은 \n",
    "[주피터랩 인터페이스](https://jupyterlab.readthedocs.io/en/stable/user/interface.html#https://jupyterlab.readthedocs.io/en/stable/user/interface.html#)를\n",
    "참조할 수 있다."
   ]
  },
  {
   "cell_type": "markdown",
   "metadata": {},
   "source": [
    "## 4.1 패턴 매칭과 `case` 표현식"
   ]
  },
  {
   "cell_type": "markdown",
   "metadata": {},
   "source": [
    "앞서 함수를 정의하는 기본적인 방식을 다뤘다.\n",
    "여기서는 구문 분석(syntax analysis)과 가드(guard), 지역 함수(local function) 등의 \n",
    "기능을 이용하여 함수를 보다 효율적으로 정의하는 방법을 설명한다.\n",
    "먼저 패턴 매칭에 대해 알아본다. \n",
    "\n",
    "__패턴__은 유형의 값이 가질 수 있는 __정형화된 양식__을 의미하며,\n",
    "그 양식에 따라 함수의 값을 다르게 지정하도록 하는 기능이 __패턴 매칭__(pattern matching)이다. \n",
    "함수의 인자로 사용되는 값이 가질 수 있는 패턴에 따라 함수의 본문을 따로따로 \n",
    "정의하면 코드가 보다 깔끔해지고 가독성이 높아진다.\n",
    "하스켈에서 패턴 매칭은 숫자, 문자, 리스트, 튜플 등 \n",
    "모든 __자료형(data type)__에 대해허용된다.\n"
   ]
  },
  {
   "cell_type": "markdown",
   "metadata": {},
   "source": [
    "__참고:__ 자료형(data type)과 유형(type)은 구분되어야 한다.\n",
    "자료형은 모두 하스켈의 유형인 반면에,\n",
    "예를 들어, 함수의 유형은 일반적으로 자료형이 아니다. \n",
    "앞서 언급된 자료형 이외에 다른 자료형에 대해서는 나중에 자세히 다룬다. "
   ]
  },
  {
   "cell_type": "markdown",
   "metadata": {},
   "source": [
    "**예제** \n",
    "\n",
    "함수의 인자가 7인지 여부를 판단하여 다른 문자열을 반환하는 함수는 다음과 같다.\n",
    "    "
   ]
  },
  {
   "cell_type": "code",
   "execution_count": 2,
   "metadata": {
    "attributes": {
     "classes": [
      "haskell:",
      "hs"
     ],
     "id": "",
     "name": "\"code\""
    }
   },
   "outputs": [],
   "source": [
    "lucky :: (Integral a) => a -> String\n",
    "lucky 7 = \"LUCKY NUMBER SEVEN!\"\n",
    "lucky x = \"Sorry, you're out of luck, pal!\""
   ]
  },
  {
   "cell_type": "markdown",
   "metadata": {},
   "source": [
    "`lucky` 함수를 인자와 함께 호출하면 아래 과정이 차례대로 수행된다.\n",
    "\n",
    "* 사용된 인자에 대한 패턴 매칭은 함수의 정의에서 먼저 언급된 경우부터 순서대로, \n",
    "    즉, 위에서부터 아래로 각 패턴을 확인하면서 실행된다.\n",
    "* 지정된 인자의 패턴에 부합하지 않으면 다음 패턴으로 넘어가고,\n",
    "    부합되는 패턴을 찾으면 거기서 지정된 함수의 본문을 실행한다.    "
   ]
  },
  {
   "cell_type": "markdown",
   "metadata": {},
   "source": [
    "예를 들어, 인자가 7이면 첫 번째 패턴에 부합한다. "
   ]
  },
  {
   "cell_type": "code",
   "execution_count": 3,
   "metadata": {},
   "outputs": [
    {
     "data": {
      "text/plain": [
       "\"LUCKY NUMBER SEVEN!\""
      ]
     },
     "metadata": {},
     "output_type": "display_data"
    }
   ],
   "source": [
    "lucky 7"
   ]
  },
  {
   "cell_type": "markdown",
   "metadata": {},
   "source": [
    "만약 7이 아니면, 두 번째 패턴으로 넘어간다.\n",
    "그리고 이 패턴은 어떤 숫자에 대해서도 매칭이 이루어지도록 설정되어 있다.\n",
    "이와 같이 임의의 매개 변수 형식으로 지정된 패턴은 어떤 값에 대해서도 매칭되며,\n",
    "그 값을 해당 변수가 가리키게 된다.\n",
    "여기서는 물론 7이 아닌 모든 다른 수에 대해서 작동한다.\n",
    "이유는 7은 이전 패턴에서 걸러지기 때문이다."
   ]
  },
  {
   "cell_type": "code",
   "execution_count": 4,
   "metadata": {},
   "outputs": [
    {
     "data": {
      "text/plain": [
       "\"Sorry, you're out of luck, pal!\""
      ]
     },
     "metadata": {},
     "output_type": "display_data"
    }
   ],
   "source": [
    "lucky 17"
   ]
  },
  {
   "cell_type": "code",
   "execution_count": 5,
   "metadata": {},
   "outputs": [
    {
     "data": {
      "text/plain": [
       "\"Sorry, you're out of luck, pal!\""
      ]
     },
     "metadata": {},
     "output_type": "display_data"
    }
   ],
   "source": [
    "lucky 33"
   ]
  },
  {
   "cell_type": "markdown",
   "metadata": {},
   "source": [
    "만약에 패턴 매칭 순서를 아래처럼 바꾸면 모든 숫자가 첫 번째 패턴 매칭에서 처리된다."
   ]
  },
  {
   "cell_type": "code",
   "execution_count": 6,
   "metadata": {
    "attributes": {
     "classes": [
      "haskell:",
      "hs"
     ],
     "id": "",
     "name": "\"code\""
    }
   },
   "outputs": [],
   "source": [
    "notLucky :: (Integral a) => a -> String\n",
    "notLucky x = \"Sorry, you're out of luck, pal!\"\n",
    "notLucky 7 = \"notLucky NUMBER SEVEN!\""
   ]
  },
  {
   "cell_type": "markdown",
   "metadata": {},
   "source": [
    "심지어 7도 첫 번째 패턴에 매칭되어 버린다."
   ]
  },
  {
   "cell_type": "code",
   "execution_count": 7,
   "metadata": {},
   "outputs": [
    {
     "data": {
      "text/plain": [
       "\"Sorry, you're out of luck, pal!\""
      ]
     },
     "metadata": {},
     "output_type": "display_data"
    }
   ],
   "source": [
    "notLucky 7"
   ]
  },
  {
   "cell_type": "markdown",
   "metadata": {},
   "source": [
    "`lucky` 함수를 정의할 때 지정된 유형을 보면 \n",
    "`Integral` 유형 클래스가 클래스 제약으로 사용되었다.\n",
    "따라서 `Int` 또는 `Integer` 등 정수형 값만 인자로 사용되며,\n",
    "아래와 같이 7.0을 사용하면 오류가 발생한다. \n",
    "\n",
    "```haskell\n",
    "lucky 7.0\n",
    "```\n",
    "\n",
    "부동소수점에 대해서도 작동하게 하려면 `lucky` 함수의 유형을 보다 일반화해야 한다.\n",
    "그런데 어떻게 유형을 지정해야할지 모를 때는 아래와 같이 유형을 지정하지 않으면서\n",
    "함수를 정의하면 된다."
   ]
  },
  {
   "cell_type": "code",
   "execution_count": 8,
   "metadata": {
    "attributes": {
     "classes": [
      "haskell:",
      "hs"
     ],
     "id": "",
     "name": "\"code\""
    }
   },
   "outputs": [],
   "source": [
    "lucky' 7 = \"LUCKY NUMBER SEVEN!\"\n",
    "lucky' x = \"Sorry, you're out of luck, pal!\""
   ]
  },
  {
   "cell_type": "markdown",
   "metadata": {},
   "source": [
    "`lucky'` 함수의 유형은 하스켈이 자동으로 유추해낸다."
   ]
  },
  {
   "cell_type": "code",
   "execution_count": 9,
   "metadata": {},
   "outputs": [
    {
     "data": {
      "text/html": [
       "<style>/* Styles used for the Hoogle display in the pager */\n",
       ".hoogle-doc {\n",
       "display: block;\n",
       "padding-bottom: 1.3em;\n",
       "padding-left: 0.4em;\n",
       "}\n",
       ".hoogle-code {\n",
       "display: block;\n",
       "font-family: monospace;\n",
       "white-space: pre;\n",
       "}\n",
       ".hoogle-text {\n",
       "display: block;\n",
       "}\n",
       ".hoogle-name {\n",
       "color: green;\n",
       "font-weight: bold;\n",
       "}\n",
       ".hoogle-head {\n",
       "font-weight: bold;\n",
       "}\n",
       ".hoogle-sub {\n",
       "display: block;\n",
       "margin-left: 0.4em;\n",
       "}\n",
       ".hoogle-package {\n",
       "font-weight: bold;\n",
       "font-style: italic;\n",
       "}\n",
       ".hoogle-module {\n",
       "font-weight: bold;\n",
       "}\n",
       ".hoogle-class {\n",
       "font-weight: bold;\n",
       "}\n",
       ".get-type {\n",
       "color: green;\n",
       "font-weight: bold;\n",
       "font-family: monospace;\n",
       "display: block;\n",
       "white-space: pre-wrap;\n",
       "}\n",
       ".show-type {\n",
       "color: green;\n",
       "font-weight: bold;\n",
       "font-family: monospace;\n",
       "margin-left: 1em;\n",
       "}\n",
       ".mono {\n",
       "font-family: monospace;\n",
       "display: block;\n",
       "}\n",
       ".err-msg {\n",
       "color: red;\n",
       "font-style: italic;\n",
       "font-family: monospace;\n",
       "white-space: pre;\n",
       "display: block;\n",
       "}\n",
       "#unshowable {\n",
       "color: red;\n",
       "font-weight: bold;\n",
       "}\n",
       ".err-msg.in.collapse {\n",
       "padding-top: 0.7em;\n",
       "}\n",
       ".highlight-code {\n",
       "white-space: pre;\n",
       "font-family: monospace;\n",
       "}\n",
       ".suggestion-warning { \n",
       "font-weight: bold;\n",
       "color: rgb(200, 130, 0);\n",
       "}\n",
       ".suggestion-error { \n",
       "font-weight: bold;\n",
       "color: red;\n",
       "}\n",
       ".suggestion-name {\n",
       "font-weight: bold;\n",
       "}\n",
       "</style><span class='get-type'>lucky' :: forall a. (Eq a, Num a) => a -> [Char]</span>"
      ],
      "text/plain": [
       "lucky' :: forall a. (Eq a, Num a) => a -> [Char]"
      ]
     },
     "metadata": {},
     "output_type": "display_data"
    }
   ],
   "source": [
    ":t lucky'"
   ]
  },
  {
   "cell_type": "markdown",
   "metadata": {},
   "source": [
    "`lucky'` 함수는 동치성 검사가 가능한 `Num` 유형 클래스에 포함되는 유형의 값을 인자로 사용한다.\n",
    "다행히도 부동소수점의 유형인 `Float`, `Double` 등이 모두 해당되어 아래 계산이 정상적으로 작동한다."
   ]
  },
  {
   "cell_type": "code",
   "execution_count": 10,
   "metadata": {},
   "outputs": [
    {
     "data": {
      "text/plain": [
       "\"LUCKY NUMBER SEVEN!\""
      ]
     },
     "metadata": {},
     "output_type": "display_data"
    }
   ],
   "source": [
    "lucky' 7.0"
   ]
  },
  {
   "cell_type": "code",
   "execution_count": 11,
   "metadata": {},
   "outputs": [
    {
     "data": {
      "text/plain": [
       "\"LUCKY NUMBER SEVEN!\""
      ]
     },
     "metadata": {},
     "output_type": "display_data"
    }
   ],
   "source": [
    "lucky' 7"
   ]
  },
  {
   "cell_type": "code",
   "execution_count": 12,
   "metadata": {},
   "outputs": [
    {
     "data": {
      "text/plain": [
       "\"Sorry, you're out of luck, pal!\""
      ]
     },
     "metadata": {},
     "output_type": "display_data"
    }
   ],
   "source": [
    "lucky' 33.1"
   ]
  },
  {
   "cell_type": "markdown",
   "metadata": {},
   "source": [
    "### 패턴 매칭 vs. if 표현식"
   ]
  },
  {
   "cell_type": "markdown",
   "metadata": {},
   "source": [
    "`lucky` 함수를 `if` 표현식 사용하여 정의할 수도 있다. "
   ]
  },
  {
   "cell_type": "code",
   "execution_count": 13,
   "metadata": {},
   "outputs": [],
   "source": [
    "lucky :: Integral a => a -> String\n",
    "lucky x = if x == 7 then \"LUCKY NUMBER SEVEN!\" \n",
    "                    else \"Sorry, you're out of luck, pal!\""
   ]
  },
  {
   "cell_type": "code",
   "execution_count": 14,
   "metadata": {},
   "outputs": [
    {
     "data": {
      "text/plain": [
       "\"LUCKY NUMBER SEVEN!\""
      ]
     },
     "metadata": {},
     "output_type": "display_data"
    }
   ],
   "source": [
    "lucky 7"
   ]
  },
  {
   "cell_type": "code",
   "execution_count": 15,
   "metadata": {},
   "outputs": [
    {
     "data": {
      "text/plain": [
       "\"Sorry, you're out of luck, pal!\""
      ]
     },
     "metadata": {},
     "output_type": "display_data"
    }
   ],
   "source": [
    "lucky 13"
   ]
  },
  {
   "cell_type": "markdown",
   "metadata": {},
   "source": [
    "경우의 수를 하나 늘려보자. "
   ]
  },
  {
   "cell_type": "code",
   "execution_count": 16,
   "metadata": {
    "attributes": {
     "classes": [
      "haskell:",
      "hs"
     ],
     "id": "",
     "name": "\"code\""
    }
   },
   "outputs": [],
   "source": [
    "luckyTwice :: (Integral a) => a -> String\n",
    "luckyTwice 7 = \"Lucky NUMBER SEVEN!\"\n",
    "luckyTwice 77 = \"Lucky twice NUMBER SEVENTY SEVEN!\"\n",
    "luckyTwice x = \"Sorry, you're out of luck, pal!\""
   ]
  },
  {
   "cell_type": "code",
   "execution_count": 17,
   "metadata": {},
   "outputs": [
    {
     "data": {
      "text/plain": [
       "\"Lucky NUMBER SEVEN!\""
      ]
     },
     "metadata": {},
     "output_type": "display_data"
    }
   ],
   "source": [
    "luckyTwice 7"
   ]
  },
  {
   "cell_type": "code",
   "execution_count": 18,
   "metadata": {},
   "outputs": [
    {
     "data": {
      "text/plain": [
       "\"Lucky twice NUMBER SEVENTY SEVEN!\""
      ]
     },
     "metadata": {},
     "output_type": "display_data"
    }
   ],
   "source": [
    "luckyTwice 77"
   ]
  },
  {
   "cell_type": "code",
   "execution_count": 19,
   "metadata": {},
   "outputs": [
    {
     "data": {
      "text/plain": [
       "\"Sorry, you're out of luck, pal!\""
      ]
     },
     "metadata": {},
     "output_type": "display_data"
    }
   ],
   "source": [
    "luckyTwice 13"
   ]
  },
  {
   "cell_type": "code",
   "execution_count": 20,
   "metadata": {},
   "outputs": [],
   "source": [
    "luckyTwice x = if x == 7 then \"LUCKY NUMBER SEVEN!\" \n",
    "                         else if x == 77 then \"Lucky twice NUMBER SEVENTY SEVEN!\"\n",
    "                                         else \"Sorry, you're out of luck, pal!\""
   ]
  },
  {
   "cell_type": "code",
   "execution_count": 21,
   "metadata": {},
   "outputs": [
    {
     "data": {
      "text/plain": [
       "\"LUCKY NUMBER SEVEN!\""
      ]
     },
     "metadata": {},
     "output_type": "display_data"
    }
   ],
   "source": [
    "luckyTwice 7"
   ]
  },
  {
   "cell_type": "code",
   "execution_count": 22,
   "metadata": {},
   "outputs": [
    {
     "data": {
      "text/plain": [
       "\"Lucky twice NUMBER SEVENTY SEVEN!\""
      ]
     },
     "metadata": {},
     "output_type": "display_data"
    }
   ],
   "source": [
    "luckyTwice 77"
   ]
  },
  {
   "cell_type": "code",
   "execution_count": 23,
   "metadata": {},
   "outputs": [
    {
     "data": {
      "text/plain": [
       "\"Sorry, you're out of luck, pal!\""
      ]
     },
     "metadata": {},
     "output_type": "display_data"
    }
   ],
   "source": [
    "luckyTwice 13"
   ]
  },
  {
   "cell_type": "markdown",
   "metadata": {},
   "source": [
    "작동하긴 한다. 그런데 다루는 경우의 수가 많아 질 수록 `if` 표현식이 점점 더 복잡해질 것이다.\n",
    "예를 들어, 아래 예제와 같은 경우에는 `if` 표현식은 가급적 사용하지 않아야 한다."
   ]
  },
  {
   "cell_type": "markdown",
   "metadata": {},
   "source": [
    "__예제__\n",
    "\n",
    "인자가 1부터 5까지면 해당 숫자를 문자열로 반환하고, 그렇지 않으면 `\"Not between 1 and 5\"` 를\n",
    "출력하는 함수를 패턴 매칭을 이용하여 간단하게 정의할 수 있다."
   ]
  },
  {
   "cell_type": "code",
   "execution_count": 24,
   "metadata": {
    "attributes": {
     "classes": [
      "haskell:",
      "hs"
     ],
     "id": "",
     "name": "\"code\""
    }
   },
   "outputs": [],
   "source": [
    "sayMe :: (Integral a) => a -> String\n",
    "sayMe 1 = \"One!\"\n",
    "sayMe 2 = \"Two!\"\n",
    "sayMe 3 = \"Three!\"\n",
    "sayMe 4 = \"Four!\"\n",
    "sayMe 5 = \"Five!\"\n",
    "sayMe x = \"Not between 1 and 5\""
   ]
  },
  {
   "cell_type": "markdown",
   "metadata": {},
   "source": [
    "### 불완전 패턴 매칭"
   ]
  },
  {
   "cell_type": "markdown",
   "metadata": {},
   "source": [
    "패턴 매치은 가능한 모든 경우를 다루어야 한다.\n",
    "그렇지 않으면 오류가 발생할 수 있다.\n",
    "아래 함수는 불완전한 패턴 매칭을 사용한다. \n",
    "`a`, `b`, `c` 이외의 문자에 대한 정의가 누락되어 있기 때문이다."
   ]
  },
  {
   "cell_type": "code",
   "execution_count": 25,
   "metadata": {
    "attributes": {
     "classes": [
      "haskell:",
      "hs"
     ],
     "id": "",
     "name": "\"code\""
    }
   },
   "outputs": [],
   "source": [
    "charName :: Char -> String\n",
    "charName 'a' = \"Albert\"\n",
    "charName 'b' = \"Broseph\"\n",
    "charName 'c' = \"Cecil\""
   ]
  },
  {
   "cell_type": "markdown",
   "metadata": {},
   "source": [
    "`a`, `b`, `c` 세 문자에 대해서는 잘 작동한다. "
   ]
  },
  {
   "cell_type": "code",
   "execution_count": 26,
   "metadata": {
    "attributes": {
     "classes": [
      "haskell:",
      "ghci"
     ],
     "id": "",
     "name": "\"code\""
    }
   },
   "outputs": [
    {
     "data": {
      "text/plain": [
       "\"Albert\""
      ]
     },
     "metadata": {},
     "output_type": "display_data"
    }
   ],
   "source": [
    "charName 'a'"
   ]
  },
  {
   "cell_type": "code",
   "execution_count": 27,
   "metadata": {
    "attributes": {
     "classes": [
      "haskell:",
      "ghci"
     ],
     "id": "",
     "name": "\"code\""
    }
   },
   "outputs": [
    {
     "data": {
      "text/plain": [
       "\"Broseph\""
      ]
     },
     "metadata": {},
     "output_type": "display_data"
    }
   ],
   "source": [
    "charName 'b'"
   ]
  },
  {
   "cell_type": "code",
   "execution_count": 28,
   "metadata": {
    "attributes": {
     "classes": [
      "haskell:",
      "ghci"
     ],
     "id": "",
     "name": "\"code\""
    }
   },
   "outputs": [
    {
     "data": {
      "text/plain": [
       "\"Cecil\""
      ]
     },
     "metadata": {},
     "output_type": "display_data"
    }
   ],
   "source": [
    "charName 'c'"
   ]
  },
  {
   "cell_type": "markdown",
   "metadata": {},
   "source": [
    "다른 문자에 대해서는 오류가 발생한다.\n",
    "이유는 기타 문자에 대해서는 어떤 패턴 매칭도 정의되어 있지 않기 때문이다."
   ]
  },
  {
   "cell_type": "code",
   "execution_count": 29,
   "metadata": {
    "attributes": {
     "classes": [
      "haskell:",
      "ghci"
     ],
     "id": "",
     "name": "\"code\""
    }
   },
   "outputs": [
    {
     "ename": "",
     "evalue": "",
     "output_type": "error",
     "traceback": [
      "<interactive>:(2,1)-(4,22): Non-exhaustive patterns in function charName"
     ]
    }
   ],
   "source": [
    "charName 'h'"
   ]
  },
  {
   "cell_type": "markdown",
   "metadata": {},
   "source": [
    "따라서 패턴 매칭을 활용할 때 항상 '기타'에 해당하는 경우를 맨 마지막 패턴 매칭으로 \n",
    "지정하는 것을 잊지 말아야 한다.\n",
    "물론 아래와 같이 기타의 경우가 없는 경우도 있기도 하다."
   ]
  },
  {
   "cell_type": "code",
   "execution_count": 30,
   "metadata": {},
   "outputs": [],
   "source": [
    "sayTruth :: Bool -> String\n",
    "sayTruth True  = \"True\"\n",
    "sayTruth False = \"False\""
   ]
  },
  {
   "cell_type": "code",
   "execution_count": 31,
   "metadata": {},
   "outputs": [
    {
     "data": {
      "text/plain": [
       "\"True\""
      ]
     },
     "metadata": {},
     "output_type": "display_data"
    }
   ],
   "source": [
    "sayTruth (charName 'c' == \"Cecil\")"
   ]
  },
  {
   "cell_type": "code",
   "execution_count": 32,
   "metadata": {},
   "outputs": [
    {
     "data": {
      "text/plain": [
       "\"False\""
      ]
     },
     "metadata": {},
     "output_type": "display_data"
    }
   ],
   "source": [
    "sayTruth (7 > 10)"
   ]
  },
  {
   "cell_type": "markdown",
   "metadata": {},
   "source": [
    "### 튜플 패턴 매칭"
   ]
  },
  {
   "cell_type": "markdown",
   "metadata": {},
   "source": [
    "하스켈의 모든 자료형(data type)에 대해 패턴 매칭을 사용할 수 있다.\n",
    "앞서 숫자와 문자에 대한 패턴 매칭을 살펴 보았는데,\n",
    "이제 튜플에 대한 패턴 매칭 사용법을 예제를 이용하여 확인한다."
   ]
  },
  {
   "cell_type": "markdown",
   "metadata": {},
   "source": [
    "__예제__\n",
    "\n",
    "2차원 벡터 두 개의 덧셈을 구해주는 함수를 정의하자. \n",
    "단, 벡터를 길이가 2인 튜플로 구현되어 있다고 가정한다. \n",
    "튜플에 대한 패턴 매칭은 튜플의 모양에 따라 지정한다. \n",
    "예를 들어, 길이가 2인 튜플은 아래 모양을 갖는다. \n",
    "\n",
    "```haskell\n",
    "(x, y)\n",
    "```\n",
    "\n",
    "위 정보를 이용하여 2차원 벡터의 덧셈 함수를 정의하면 다음과 같으며,\n",
    "두 인자 모두에 대해 패턴 매칭을 적용하였다. \n",
    "(클래스 제약인 `(Num a)`에는 너무 큰 신경을 쓰지 않아도 된다.)"
   ]
  },
  {
   "cell_type": "code",
   "execution_count": 33,
   "metadata": {
    "attributes": {
     "classes": [
      "haskell:",
      "hs"
     ],
     "id": "",
     "name": "\"code\""
    }
   },
   "outputs": [],
   "source": [
    "addVectors :: (Num a) => (a, a) -> (a, a) -> (a, a)\n",
    "addVectors (x1, y1) (x2, y2) = (x1 + x2, y1 + y2)"
   ]
  },
  {
   "cell_type": "markdown",
   "metadata": {},
   "source": [
    "위 정의에서 하나의 패턴만 사용되었어도 충분한 이유는 두 인자 모두 `(a, a)` 유형으로 선언되어 있어서\n",
    "튜플만 인자로 올 수 있기 때문이다.\n",
    "반면에 패턴 매칭을 사용하지 않으려면 아래처럼 `fst`와 `snd` 함수를 이용할 수 있지만\n",
    "상대적으로 덜 직관적이다."
   ]
  },
  {
   "cell_type": "code",
   "execution_count": 34,
   "metadata": {
    "attributes": {
     "classes": [
      "haskell:",
      "hs"
     ],
     "id": "",
     "name": "\"code\""
    }
   },
   "outputs": [],
   "source": [
    "addVectors :: (Num a) => (a, a) -> (a, a) -> (a, a)\n",
    "addVectors a b = (fst a + fst b, snd a + snd b)"
   ]
  },
  {
   "cell_type": "code",
   "execution_count": 35,
   "metadata": {},
   "outputs": [
    {
     "data": {
      "text/plain": [
       "(6,10)"
      ]
     },
     "metadata": {},
     "output_type": "display_data"
    }
   ],
   "source": [
    "addVectors (2, 3) (4, 7)"
   ]
  },
  {
   "cell_type": "markdown",
   "metadata": {},
   "source": [
    "__예제__\n",
    "\n",
    "앞서 언급한 `fst`와 `snd` 함수는 길이가 2인 튜플에 대해서만 동작한다. \n",
    "그런데 패턴 매칭을 이용하면 길이가 3 이상인 튜플에서 각 항목을 추출하는 함수를 간단하게 정의할 수 있다.\n",
    "예를 들어, 길이가 3인 튜플의 패턴은 다음과 같다.\n",
    "\n",
    "```haskell\n",
    "(x, y, z)\n",
    "```\n",
    "\n",
    "다음 `first`, `second`, `third` 함수는 위 패턴을 이용하여 \n",
    "길이가 3인 튜플에서 각각 첫째, 둘째, 셋째 항목을 추출해준다.\n",
    "각 함수의 경우 지정된 위치 이외의 항목은 전혀 관심대상이 아니기에 \n",
    "이전에 리스트 조건제시법을 설명할 때 언급한 것처럼 밑줄(underscore)로 표시하였다."
   ]
  },
  {
   "cell_type": "code",
   "execution_count": 36,
   "metadata": {
    "attributes": {
     "classes": [
      "haskell:",
      "hs"
     ],
     "id": "",
     "name": "\"code\""
    }
   },
   "outputs": [],
   "source": [
    "first :: (a, b, c) -> a\n",
    "first (x, _, _) = x\n",
    "\n",
    "second :: (a, b, c) -> b\n",
    "second (_, y, _) = y\n",
    "\n",
    "third :: (a, b, c) -> c\n",
    "third (_, _, z) = z"
   ]
  },
  {
   "cell_type": "code",
   "execution_count": 37,
   "metadata": {},
   "outputs": [
    {
     "data": {
      "text/plain": [
       "\"abc\""
      ]
     },
     "metadata": {},
     "output_type": "display_data"
    }
   ],
   "source": [
    "first (\"abc\", 1, [7 >10 , 2+3 == 5])"
   ]
  },
  {
   "cell_type": "code",
   "execution_count": 38,
   "metadata": {},
   "outputs": [
    {
     "data": {
      "text/plain": [
       "1"
      ]
     },
     "metadata": {},
     "output_type": "display_data"
    }
   ],
   "source": [
    "second (\"abc\", 1, [7 >10 , 2+3 == 5])"
   ]
  },
  {
   "cell_type": "code",
   "execution_count": 39,
   "metadata": {},
   "outputs": [
    {
     "data": {
      "text/plain": [
       "[False,True]"
      ]
     },
     "metadata": {},
     "output_type": "display_data"
    }
   ],
   "source": [
    "third (\"abc\", 1, [7 >10 , 2+3 == 5])"
   ]
  },
  {
   "cell_type": "markdown",
   "metadata": {},
   "source": [
    "### 리스트 조건제시법과 패턴 매칭"
   ]
  },
  {
   "cell_type": "markdown",
   "metadata": {},
   "source": [
    "패턴 매칭은 가능한 모든 곳에서 활용된다. \n",
    "아래 정의는 리스트 조건제시법의 조건식에서 패턴 매칭을 이용하는 것을 보여준다. "
   ]
  },
  {
   "cell_type": "code",
   "execution_count": 40,
   "metadata": {
    "attributes": {
     "classes": [
      "haskell:",
      "ghci"
     ],
     "id": "",
     "name": "\"code\""
    }
   },
   "outputs": [
    {
     "data": {
      "text/plain": [
       "[4,7,6,8,11,4]"
      ]
     },
     "metadata": {},
     "output_type": "display_data"
    }
   ],
   "source": [
    "let xs = [(1,3), (4,3), (2,4), (5,3), (5,6), (3,1)]\n",
    "[a+b | (a,b) <- xs]"
   ]
  },
  {
   "cell_type": "markdown",
   "metadata": {},
   "source": [
    "리스트 조건 제시법에서 패턴 매칭을 사용한 경우, 특정 항목에 대해 패턴 매칭이 실패하면 그냥 다음 항목으로 넘어간다. \n",
    "예를 들어, 아래의 경우 길이가 2인 리스트에 대해서만 패터 매칭이 적용되며, 다른 항목은 무시된다."
   ]
  },
  {
   "cell_type": "code",
   "execution_count": 41,
   "metadata": {
    "attributes": {
     "classes": [
      "haskell:",
      "ghci"
     ],
     "id": "",
     "name": "\"code\""
    }
   },
   "outputs": [
    {
     "data": {
      "text/plain": [
       "[4,8]"
      ]
     },
     "metadata": {},
     "output_type": "display_data"
    }
   ],
   "source": [
    "ys = [[1,3], [4,3,2], [2,4,1,2], [5,3]]\n",
    "[a+b | [a,b] <- ys]"
   ]
  },
  {
   "cell_type": "markdown",
   "metadata": {},
   "source": [
    "### 리스트 패턴 매칭"
   ]
  },
  {
   "cell_type": "markdown",
   "metadata": {},
   "source": [
    "예를 들어 `[x1,x2,...,xk]`의 원래 정의는 다음과 같다.\n",
    "(단, k는 음이 아닌 정수. k=0이면, 공리스트를 표현함.)\n",
    "\n",
    "```haskell\n",
    "x1:x2:...:xk:[]\n",
    "```\n",
    "\n",
    "즉, 임의의 리스트는 공리스트 `[]` 이거나 아니면 `x:xs` 형식을 갖는다. \n",
    "여기서 `x`는 리스트의 머리를, \n",
    "`xs`는 머리를 제외한 나머지 항목으로 이루어진 리스트를 가리킨다.\n",
    "물론 `xs` 자체는 공리스트가 될 수도 있다. \n",
    "\n",
    "따라서 리스트에 대해서는 아래 두 경우가 가장 일반적인 패턴으로 사용된다.\n",
    "\n",
    "* 공리스트 패턴: `[]`, 또는 `:` 연산과 공리스트를 포함한 어떤 패턴에서든 사용할 수 있음.\n",
    "* 공리스트가 아닌 패턴: `x:xs`\n",
    "\n",
    "이외에 주어진 리스트 또는 원하는 리스트의 패턴에 맞춘 경우를 지정하여 사용할 수도 있다.\n",
    "예를 들어, 세 개 이상의 항목을 갖는 리스트에 대한 패턴은 다음과 같이 지정한다. \n",
    "\n",
    "```haskell\n",
    "x:y:z:zs\n",
    "```"
   ]
  },
  {
   "cell_type": "markdown",
   "metadata": {},
   "source": [
    "`head` 함수를 아래와 같이 직접 정의할 수 있다."
   ]
  },
  {
   "cell_type": "code",
   "execution_count": 42,
   "metadata": {
    "attributes": {
     "classes": [
      "haskell:",
      "hs"
     ],
     "id": "",
     "name": "\"code\""
    }
   },
   "outputs": [],
   "source": [
    "head' :: [a] -> a\n",
    "head' [] = error \"Can't call head on an empty list, dummy!\"\n",
    "head' (x:_) = x"
   ]
  },
  {
   "cell_type": "markdown",
   "metadata": {},
   "source": [
    "`x:xs` 대신에 밑줄을 이용하여 `x:_`를 지정한 이유는 `xs`의 역할이 없기 때문이다.\n",
    "우리가 알고 있는 `head` 함수와 동일하게 작동함을 쉽게 확인할 수 있다.\n",
    "\n",
    "__참고__ \n",
    "\n",
    "* 패턴에 밑줄을 포함하여 여러 개의 변수가 사용되는 경우 패턴 전체를\n",
    "    소괄호로 감싸야 한다. 그렇지 않으면 오류가 발생한다.\n",
    "\n",
    "* `error` 함수: 프로그램 실행중 고의로 오류를, 즉 런타임 에러를 발생시키면서 \n",
    "    동시에 인자로 지정된 문자열을 이용하여 발생한 오류에 대한 정보를 전달한다.\n",
    "    프로그램을 중단시키기 때문에 많이 사용하지는 않아야 한다.\n",
    "    하지만 공리스트의 머리를 요구하는 일은 당연히 피해야 할 일이다."
   ]
  },
  {
   "cell_type": "code",
   "execution_count": 43,
   "metadata": {
    "attributes": {
     "classes": [
      "haskell:",
      "ghci"
     ],
     "id": "",
     "name": "\"code\""
    }
   },
   "outputs": [
    {
     "data": {
      "text/plain": [
       "4"
      ]
     },
     "metadata": {},
     "output_type": "display_data"
    }
   ],
   "source": [
    "head' [4,5,6]"
   ]
  },
  {
   "cell_type": "code",
   "execution_count": 44,
   "metadata": {
    "attributes": {
     "classes": [
      "haskell:",
      "ghci"
     ],
     "id": "",
     "name": "\"code\""
    }
   },
   "outputs": [
    {
     "data": {
      "text/plain": [
       "'H'"
      ]
     },
     "metadata": {},
     "output_type": "display_data"
    }
   ],
   "source": [
    "head' \"Hello\""
   ]
  },
  {
   "cell_type": "code",
   "execution_count": 45,
   "metadata": {},
   "outputs": [
    {
     "ename": "",
     "evalue": "",
     "output_type": "error",
     "traceback": [
      "Can't call head on an empty list, dummy!\nCallStack (from HasCallStack):\n  error, called at <interactive>:2:12 in interactive:Ghci1171"
     ]
    }
   ],
   "source": [
    "head' []"
   ]
  },
  {
   "cell_type": "markdown",
   "metadata": {},
   "source": [
    "__예제__\n",
    "\n",
    "리스트의 첫 두 항목까지를 읽어주는 함수의 패턴 매칭은 아래의 경우로 이루어진다.\n",
    "\n",
    "* `[]`: 공리스트\n",
    "* `(x:[])`: 길이 1인 리스트\n",
    "* `(x:y:[])`: 길이 2인 리스트\n",
    "* `(x:y:_)`: 기타의 경우, 즉, 길이가 3 이상인 리스트. \n",
    "    셋째 항목부터는 관심 대상이 아니기에 밑줄로 표시함."
   ]
  },
  {
   "cell_type": "code",
   "execution_count": 46,
   "metadata": {
    "attributes": {
     "classes": [
      "haskell:",
      "hs"
     ],
     "id": "",
     "name": "\"code\""
    }
   },
   "outputs": [],
   "source": [
    "tell :: (Show a) => [a] -> String\n",
    "tell [] = \"The list is empty.\"\n",
    "tell (x:[]) = \"The list has one element: \" ++ show x\n",
    "tell (x:y:[]) = \"The list has two elements: \" ++ show x ++ \" and \" ++ show y\n",
    "tell (x:y:_) = \"This list is long. The first two elements are: \" ++ show x ++ \" and \" ++ show y"
   ]
  },
  {
   "cell_type": "code",
   "execution_count": 47,
   "metadata": {},
   "outputs": [
    {
     "data": {
      "text/plain": [
       "\"The list is empty.\""
      ]
     },
     "metadata": {},
     "output_type": "display_data"
    }
   ],
   "source": [
    "tell []"
   ]
  },
  {
   "cell_type": "code",
   "execution_count": 48,
   "metadata": {},
   "outputs": [
    {
     "data": {
      "text/plain": [
       "\"The list has one element: 3\""
      ]
     },
     "metadata": {},
     "output_type": "display_data"
    }
   ],
   "source": [
    "tell [3]"
   ]
  },
  {
   "cell_type": "code",
   "execution_count": 49,
   "metadata": {},
   "outputs": [
    {
     "data": {
      "text/plain": [
       "\"The list has two elements: 3 and 7\""
      ]
     },
     "metadata": {},
     "output_type": "display_data"
    }
   ],
   "source": [
    "tell [3, 7]"
   ]
  },
  {
   "cell_type": "code",
   "execution_count": 50,
   "metadata": {},
   "outputs": [
    {
     "data": {
      "text/plain": [
       "\"This list is long. The first two elements are: 3 and 7\""
      ]
     },
     "metadata": {},
     "output_type": "display_data"
    }
   ],
   "source": [
    "tell [3, 7, 9]"
   ]
  },
  {
   "cell_type": "markdown",
   "metadata": {},
   "source": [
    "### `as` 패턴"
   ]
  },
  {
   "cell_type": "markdown",
   "metadata": {},
   "source": [
    "인자의 패턴과 인자 자체를 가리키는 변수를 함께 지정할 때 유용하게 사용되는 방법이다.\n",
    "사용법은 다음과 같다.\n",
    "\n",
    "```haskell\n",
    "변수이름@(패턴)\n",
    "```\n",
    "\n",
    "예를 들어, `xs@(x:y:ys)` 는 `x:y:ys`와 정확히 매칭되는 인자를 지원하며\n",
    "동시에 해당 인자를 `xs`에 연결한다. \n",
    "따라서 함수 본문에 인자 자체를 사용하려면 `xs`를  대신 입력하면 된다.\n",
    "\n",
    "앞서 정의한 `tell` 함수를 `as` 패턴으로 정의하면 다음과 같다."
   ]
  },
  {
   "cell_type": "code",
   "execution_count": 51,
   "metadata": {
    "attributes": {
     "classes": [
      "haskell:",
      "hs"
     ],
     "id": "",
     "name": "\"code\""
    }
   },
   "outputs": [],
   "source": [
    "tell :: (Show a) => [a] -> String\n",
    "tell xs@[] = \"The list \" ++ show xs ++ \" is empty.\"\n",
    "tell xs@(x:[]) = \"The list \" ++ show xs ++ \" has one element: \" ++ show x\n",
    "tell xs@(x:y:[]) = \"The list \" ++ show xs ++ \" has two elements: \" ++ show x ++ \" and \" ++ show y\n",
    "tell xs@(x:y:_) = \"The list \" ++ show xs ++ \" is long. The first two elements are: \" ++ show x ++ \" and \" ++ show y"
   ]
  },
  {
   "cell_type": "code",
   "execution_count": 52,
   "metadata": {},
   "outputs": [
    {
     "data": {
      "text/plain": [
       "\"The list [] is empty.\""
      ]
     },
     "metadata": {},
     "output_type": "display_data"
    }
   ],
   "source": [
    "tell []"
   ]
  },
  {
   "cell_type": "code",
   "execution_count": 53,
   "metadata": {},
   "outputs": [
    {
     "data": {
      "text/plain": [
       "\"The list [3] has one element: 3\""
      ]
     },
     "metadata": {},
     "output_type": "display_data"
    }
   ],
   "source": [
    "tell [3]"
   ]
  },
  {
   "cell_type": "code",
   "execution_count": 54,
   "metadata": {},
   "outputs": [
    {
     "data": {
      "text/plain": [
       "\"The list [3,7] has two elements: 3 and 7\""
      ]
     },
     "metadata": {},
     "output_type": "display_data"
    }
   ],
   "source": [
    "tell [3, 7]"
   ]
  },
  {
   "cell_type": "code",
   "execution_count": 55,
   "metadata": {},
   "outputs": [
    {
     "data": {
      "text/plain": [
       "\"The list [3,7,9] is long. The first two elements are: 3 and 7\""
      ]
     },
     "metadata": {},
     "output_type": "display_data"
    }
   ],
   "source": [
    "tell [3, 7, 9]"
   ]
  },
  {
   "cell_type": "markdown",
   "metadata": {},
   "source": [
    "### 재귀함수와 패턴 매칭"
   ]
  },
  {
   "cell_type": "markdown",
   "metadata": {},
   "source": [
    "패턴 매칭을 활용하면, 재귀함수의 작동 구조를 보다 쉽게 이해할 수 있도록 정의할 수 있다. "
   ]
  },
  {
   "cell_type": "markdown",
   "metadata": {},
   "source": [
    "계승(`n!`)을 계산하는 함수를 이전에 아래와 같이 정의하였다. "
   ]
  },
  {
   "cell_type": "code",
   "execution_count": 56,
   "metadata": {},
   "outputs": [],
   "source": [
    "factorial :: (Integral a) => a -> a\n",
    "factorial n = product [1..n]"
   ]
  },
  {
   "cell_type": "markdown",
   "metadata": {},
   "source": [
    "위 함수를 재귀적으로 구현하면 다음과 같다. \n",
    "재귀함수를 작성할 때 아래 두 사항을 고려해야 한다.\n",
    "\n",
    "* 시작단계: 인자와 반환값을 구체적으로 지정하는 단계\n",
    "* 재귀단계: 인자를 특정 패턴으로 지정한 후 패턴의 구성 요소에 대한 반환값을 활용하는 단계"
   ]
  },
  {
   "cell_type": "markdown",
   "metadata": {},
   "source": [
    "계승 함수를 재귀적으로 정의하려면 다음 특성에 주목한다.\n",
    "\n",
    "$$\n",
    "n! = \n",
    "\\begin{cases}\n",
    "1,             & n = 0 \\\\\n",
    "n\\cdot (n-1)!, & n \\text{은 양의 정수}\n",
    "\\end{cases}\n",
    "$$"
   ]
  },
  {
   "cell_type": "markdown",
   "metadata": {},
   "source": [
    "예를 들어, `3!`는 아래 과정을 통해 계산된다.\n",
    "\n",
    "```haskell\n",
    "3! => 3 * 2! \n",
    "   => 3 * (2 * 1!)\n",
    "   => 3 * (2 * (1 * 0!))\n",
    "   => 3 * (2 * (1 * 1))\n",
    "```"
   ]
  },
  {
   "cell_type": "markdown",
   "metadata": {},
   "source": [
    "따라서 계승 함수의 재귀적 정의에 필요한 시작단계와 재귀단계는 다음과 같다. \n",
    "\n",
    "* 시작단계: 인자가 0일 때 값을 1로 지정\n",
    "* 재귀단계: 지정된 인자보다 1작은 값에 대한 함수값 `factorial (n-1)` 활용"
   ]
  },
  {
   "cell_type": "code",
   "execution_count": 57,
   "metadata": {
    "attributes": {
     "classes": [
      "haskell:",
      "hs"
     ],
     "id": "",
     "name": "\"code\""
    }
   },
   "outputs": [],
   "source": [
    "factorial :: (Integral a) => a -> a\n",
    "factorial 0 = 1\n",
    "factorial n = n * factorial (n - 1)"
   ]
  },
  {
   "cell_type": "markdown",
   "metadata": {},
   "source": [
    "#### 구조적 재귀"
   ]
  },
  {
   "cell_type": "markdown",
   "metadata": {},
   "source": [
    "재귀 함수를 정의할 때 요구되는 시작단계와 재귀단계의 설명은 \n",
    "사실 __구조적 재귀(structural recursion)__에 적용되는 설명이다.\n",
    "\n",
    "엄밀히 따지면 위 `factorial` 함수의 정의는 구조적 재귀를 따르지 않는다.\n",
    "이유는 변수 `n`이 패턴이 아닌 기타의 경우를 다루는 단순한 (패턴)변수이며,\n",
    "따라서 `(n-1)`이 `n`의 __하위 구조(substructure)__는 아니기 때문이다.\n",
    "\n",
    "`(n-1)`이 의미상 `n` 보다 작은 값을 표현한다는 것과 하위 구조라는 것은\n",
    "서로 별개이며, 구조적 재귀로 작성된 함수는 시작단계를 적절하게 정의한 경우\n",
    "기본적으로 모든 계산이 항상 특정 값을 반환하고 실행을 멈춘다.\n",
    "하지만 여기서는 `factorial` 함수의 경우 구조적 재귀 함수로 간주해도 전혀 문제가 없다는 \n",
    "점만 언급하고 자세한 설명은 생략한다. \n",
    "\n",
    "모든 재귀함수를 항상 구조적 재귀 함수로 정의할 수는 없다.\n",
    "구조적 재귀를 사용하지 않는 재귀함수는 경우에 따라 계산 실행이 언제 멈출지 알 수 없는 경우가\n",
    "발생하며, 일반적으로 판단이 불가능하다 \n",
    "([튜링의 정지문제](https://www.youtube.com/watch?v=92WHN-pAFCs&t=389s) 참조). \n",
    "잠시 뒤에 콜라츠 추측(Collatz conjecture)을 설명하면서 계산실행이 언젠가는 멈추기는 하지만 \n",
    "얼마나 오래 걸리는지 예측하는 방법은 아직 알려지지 않은 재귀함수를 살펴볼 것이다.\n",
    "\n",
    "그 전에 먼저 구조적 재귀 방식으로 정의되는 재귀 함수를 몇 개 살펴보자."
   ]
  },
  {
   "cell_type": "markdown",
   "metadata": {},
   "source": [
    "**예제**\n",
    "\n",
    "리스트의 길이를 반환하는 `length` 함수를 직접 재귀함수로 정의하기 위해\n",
    "다음 두 단계를 패턴으로 다룬다.\n",
    "\n",
    "* 시작단계: 공리스트의 경우 0\n",
    "* 재귀단계: 한 개 이상의 항목을 갖는 리스트의 경우 머리를 제외한 꼬리 리스트의 길이에 1을 더한 값\n",
    "\n",
    "따라서 다뤄야 하는 패턴은 두 가지이다. \n",
    "\n",
    "* 공리스트 패턴: `[]`\n",
    "* 공리스트가 아닌 패턴: `x:xs`\n",
    "\n",
    "실제로 구현할 때는 `x:xs` 대신 `_:xs` 를 사용한다. \n",
    "이유는 머리의 이름이 리스트의 길이를 계산할 때 직접 활용되지는 않기 때문이다.\n",
    "반환값은 숫자이어야 하기에 `Num` 유형 클래스의 유형으로 일반화하여 지정한다."
   ]
  },
  {
   "cell_type": "code",
   "execution_count": 58,
   "metadata": {
    "attributes": {
     "classes": [
      "haskell:",
      "hs"
     ],
     "id": "",
     "name": "\"code\""
    }
   },
   "outputs": [],
   "source": [
    "length' :: (Num b) => [a] -> b\n",
    "length' [] = 0\n",
    "length' (_:xs) = 1 + length' xs"
   ]
  },
  {
   "cell_type": "markdown",
   "metadata": {},
   "source": [
    "문자열 `\"ham\"`의 길이를 재귀적으로 구하는 과정은 다음과 같다.\n",
    "\n",
    "```haskell\n",
    "length' \"ham\" => 1 + length' \"am\"\n",
    "              => 1 + (1 + length' \"m\")\n",
    "              => 1 + (1 + (1 + length' \"\"))\n",
    "              => 1 + (1 + (1 + length' []))\n",
    "              => 1 + (1 + (1 + 0))\n",
    "              => 3\n",
    "```"
   ]
  },
  {
   "cell_type": "markdown",
   "metadata": {},
   "source": [
    "함수의 유형을 지정하기 어려운 경우, 함수의 본체만 정의해도 된다.\n",
    "그러면 하스켈이 직접 함수의 유형을 추론한다.\n",
    "`length` 함수를 아래처럼 유형 없이 정의한 후 바로 유형을 확인할 수 있다."
   ]
  },
  {
   "cell_type": "code",
   "execution_count": 59,
   "metadata": {
    "attributes": {
     "classes": [
      "haskell:",
      "hs"
     ],
     "id": "",
     "name": "\"code\""
    }
   },
   "outputs": [],
   "source": [
    "length' [] = 0\n",
    "length' (_:xs) = 1 + length' xs"
   ]
  },
  {
   "cell_type": "code",
   "execution_count": 60,
   "metadata": {},
   "outputs": [
    {
     "data": {
      "text/html": [
       "<style>/* Styles used for the Hoogle display in the pager */\n",
       ".hoogle-doc {\n",
       "display: block;\n",
       "padding-bottom: 1.3em;\n",
       "padding-left: 0.4em;\n",
       "}\n",
       ".hoogle-code {\n",
       "display: block;\n",
       "font-family: monospace;\n",
       "white-space: pre;\n",
       "}\n",
       ".hoogle-text {\n",
       "display: block;\n",
       "}\n",
       ".hoogle-name {\n",
       "color: green;\n",
       "font-weight: bold;\n",
       "}\n",
       ".hoogle-head {\n",
       "font-weight: bold;\n",
       "}\n",
       ".hoogle-sub {\n",
       "display: block;\n",
       "margin-left: 0.4em;\n",
       "}\n",
       ".hoogle-package {\n",
       "font-weight: bold;\n",
       "font-style: italic;\n",
       "}\n",
       ".hoogle-module {\n",
       "font-weight: bold;\n",
       "}\n",
       ".hoogle-class {\n",
       "font-weight: bold;\n",
       "}\n",
       ".get-type {\n",
       "color: green;\n",
       "font-weight: bold;\n",
       "font-family: monospace;\n",
       "display: block;\n",
       "white-space: pre-wrap;\n",
       "}\n",
       ".show-type {\n",
       "color: green;\n",
       "font-weight: bold;\n",
       "font-family: monospace;\n",
       "margin-left: 1em;\n",
       "}\n",
       ".mono {\n",
       "font-family: monospace;\n",
       "display: block;\n",
       "}\n",
       ".err-msg {\n",
       "color: red;\n",
       "font-style: italic;\n",
       "font-family: monospace;\n",
       "white-space: pre;\n",
       "display: block;\n",
       "}\n",
       "#unshowable {\n",
       "color: red;\n",
       "font-weight: bold;\n",
       "}\n",
       ".err-msg.in.collapse {\n",
       "padding-top: 0.7em;\n",
       "}\n",
       ".highlight-code {\n",
       "white-space: pre;\n",
       "font-family: monospace;\n",
       "}\n",
       ".suggestion-warning { \n",
       "font-weight: bold;\n",
       "color: rgb(200, 130, 0);\n",
       "}\n",
       ".suggestion-error { \n",
       "font-weight: bold;\n",
       "color: red;\n",
       "}\n",
       ".suggestion-name {\n",
       "font-weight: bold;\n",
       "}\n",
       "</style><span class='get-type'>length' :: forall p a. Num p => [a] -> p</span>"
      ],
      "text/plain": [
       "length' :: forall p a. Num p => [a] -> p"
      ]
     },
     "metadata": {},
     "output_type": "display_data"
    }
   ],
   "source": [
    ":t length'"
   ]
  },
  {
   "cell_type": "markdown",
   "metadata": {},
   "source": [
    "__참고:__ 유형을 확인할 때 보여지는 `forall p a` 는 \"임의의 유형 p와 a에 대해\" 라는 의미이며,\n",
    "있는 것과 없는 것이 동일한 의미를 나타낸다. \n",
    "예를 들어, `forall a` 등의 표현이 사용되지 않았더라도, 표현식이 `a` 유형 변수가 사용되었다면\n",
    "그 의미는 \"임의의 유형 a에 대해\" 라는 것을 함의한다."
   ]
  },
  {
   "cell_type": "markdown",
   "metadata": {},
   "source": [
    "**예제**\n",
    "\n",
    "리스트에 포함된 수들의 합을 반환하는 `sum` 함수를 직접 재귀함수로 구현하는 방법도\n",
    "동일한 구조적 재귀 패턴을 사용한다. \n",
    "\n",
    "* 시작단계: 공리스트 경우 0.\n",
    "* 재귀단계: 한 개 이상의 항목을 갖는 리스트의 경우 \n",
    "    머리를 제외한 꼬리 리스트에 포함된 항목들의 합과 머리를 더한 값\n",
    "    \n",
    "실제로 구현할 때는 머리도 중요한 역할을 수행하기에 머리에 해당하는 변수도 명시적으로 사용한다.\n",
    "리스트의 항목이 덧셈을 지원해야 하기에 `Num` 유형 클래스의 유형으로 일반화하여 지정한다."
   ]
  },
  {
   "cell_type": "code",
   "execution_count": 61,
   "metadata": {
    "attributes": {
     "classes": [
      "haskell:nogutter:nocontrols:hs"
     ],
     "id": "",
     "name": "\"code\""
    }
   },
   "outputs": [],
   "source": [
    "sum' :: (Num a) => [a] -> a\n",
    "sum' [] = 0\n",
    "sum' (x:xs) = x + sum' xs"
   ]
  },
  {
   "cell_type": "markdown",
   "metadata": {},
   "source": [
    "__주의사항:__ \n",
    "두 개의 리스트를 이어붙인 리스트를 반환하는 `++` 에 대해 패턴 매칭을 사용할 수 없다.\n",
    "이유는 공리스트가 아닌 어떠한 리스트도\n",
    "유일한 방식으로 머리와 꼬리로 구분할 수 있는 반면에,\n",
    "`(xs ++ ys)` 패턴으로 구분하는 방법은 일반적으로 유일하지 않기 때문이다. \n",
    "예를 들어, `[1, 2, 3]`을 `[] ++ [1, 2, 3]`, `[1] ++ [2, 3]`, `[1, 2] ++ [3]`, `[1, 2, 3] ++ []` \n",
    "등 다양한 방식으로 표현할 수 있다."
   ]
  },
  {
   "cell_type": "markdown",
   "metadata": {},
   "source": [
    "### `case` 표현식"
   ]
  },
  {
   "cell_type": "markdown",
   "metadata": {},
   "source": [
    "C, C++, Java 등의 언어에서 지원하는 `case` 구문과 유사하게 작동한다. \n",
    "* case 구문은 어떤 변수를 받아 해당 변수의 특정한 값에 대해 수행하는 코드 블록들을 만들어 놓은 것"
   ]
  },
  {
   "cell_type": "markdown",
   "metadata": {},
   "source": [
    "(매개)변수가 가리킬 수 있는 값에 다른 계산을 수행하도록 지정할 때 사용하는 표현식이다. \n",
    "이때 변수가 가리키는 다른 값은 패턴 매칭을 사용하여 구분한다. \n",
    "`case` 표현식의 일반적인 구문은 다음과 같다."
   ]
  },
  {
   "cell_type": "markdown",
   "metadata": {
    "attributes": {
     "classes": [
      "haskell:hs"
     ],
     "id": "",
     "name": "\"code\""
    }
   },
   "source": [
    "```haskell\n",
    "case expression of pattern -> result\n",
    "                   pattern -> result\n",
    "                   pattern -> result\n",
    "                   ...\n",
    "```"
   ]
  },
  {
   "cell_type": "markdown",
   "metadata": {},
   "source": [
    "`head` 함수를 예를 들어 아래처럼 정의할 수 있다.\n",
    "\n",
    "* 매개변수 `xs`가 가질 수 있는 값들의 패턴에 따른 계산을  `case` 표현식으로 다루었다."
   ]
  },
  {
   "cell_type": "code",
   "execution_count": 4,
   "metadata": {
    "attributes": {
     "classes": [
      "haskell:hs"
     ],
     "id": "",
     "name": "\"code\""
    }
   },
   "outputs": [],
   "source": [
    "head' :: [a] -> a\n",
    "head' xs = case xs of []    -> error \"No head for empty lists!\"\n",
    "                      (x:_) -> x"
   ]
  },
  {
   "cell_type": "markdown",
   "metadata": {},
   "source": [
    "위 정의는 함수를 정의할 때 사용하는 패턴 매칭과 동일한 의미를 갖는다.\n",
    "실제로 아래 정의는 위 정의를 간략하게 표현한 것에 불과하다. "
   ]
  },
  {
   "cell_type": "code",
   "execution_count": 6,
   "metadata": {
    "attributes": {
     "classes": [
      "haskell:hs"
     ],
     "id": "",
     "name": "\"code\""
    }
   },
   "outputs": [],
   "source": [
    "head' :: [a] -> a\n",
    "head' []    = error \"No head for empty lists!\"\n",
    "head' (x:_) = x"
   ]
  },
  {
   "cell_type": "markdown",
   "metadata": {},
   "source": [
    "함수의 매개변수에 대한 패턴 매칭은 함수를 정의할 때만 사용될 수 있다.\n",
    "반면에 `case` 표현식은 거의 어디에서든 사용가능하다. \n",
    "예를 들어, 아래에서처럼 임의의 표현식 중간에 위치할 수도 있다. \n",
    "이것이 가능한 이유는 `case` 표현식이 명령문 등에 사용되는 구문이 아니고 그 자체로 표현식이기 때문이다."
   ]
  },
  {
   "cell_type": "code",
   "execution_count": 8,
   "metadata": {
    "attributes": {
     "classes": [
      "haskell:hs"
     ],
     "id": "",
     "name": "\"code\""
    }
   },
   "outputs": [],
   "source": [
    "describeList :: [a] -> String\n",
    "describeList xs = \"The list is \" ++ case xs of []  -> \"empty.\"\n",
    "                                               [x] -> \"a singleton list.\"\n",
    "                                               xs  -> \"a longer list.\""
   ]
  },
  {
   "cell_type": "markdown",
   "metadata": {},
   "source": [
    "## 4.2 가드(Guards)"
   ]
  },
  {
   "cell_type": "markdown",
   "metadata": {},
   "source": [
    "패턴이 값의 형태에 따른 계산과정을 지정하는 반면에, \n",
    "__가드(guards)__는 값의 성질에 따라 계산과정을 지정한다. \n",
    "즉, 패턴은 구문 분석 결과에 따라 경우를 분류하고,\n",
    "가드는 의미 분석 결과에 따라 경우를 분류한다.\n",
    "가드의 기능은 `if` 표현식의 그것과 유사하지만\n",
    "여러 경우를 동시에 다룰 수 있다는 점에서 보다 높은 가독성을 지원한다. "
   ]
  },
  {
   "cell_type": "markdown",
   "metadata": {},
   "source": [
    "예를 들어, 체질량지수(BMI, Body Mass Index)를 18.5 이하, 25.0 이하, 30.0 이하, 기타의 네 경우에 대해 \n",
    "각기 다른 문장을 반환하는 함수를 정의해보자.\n",
    "\n",
    "* BMI = 몸무게(kg)를 키(m)의 제곱으로 나눈 값\n",
    "\n",
    "함수 정의를 위해 아래 네 경우를 다루어야 한다.\n",
    "\n",
    "* `BMI <= 18.5`\n",
    "* `18.5 < BMI <= 25.0`\n",
    "* `25.0 < BMI <= 30.0`\n",
    "* `30.0 < BMI`\n",
    "\n",
    "위 네 경우를 가드로 표현하면 다음과 같다."
   ]
  },
  {
   "cell_type": "code",
   "execution_count": 66,
   "metadata": {
    "attributes": {
     "classes": [
      "haskell:hs"
     ],
     "id": "",
     "name": "\"code\""
    }
   },
   "outputs": [],
   "source": [
    "bmiTell :: (RealFloat a) => a -> String\n",
    "bmiTell bmi\n",
    "    | bmi <= 18.5 = \"You're underweight, you emo, you!\"\n",
    "    | bmi <= 25.0 = \"You're supposedly normal. Pffft, I bet you're ugly!\"\n",
    "    | bmi <= 30.0 = \"You're fat! Lose some weight, fatty!\"\n",
    "    | otherwise   = \"You're a whale, congratulations!\""
   ]
  },
  {
   "cell_type": "markdown",
   "metadata": {},
   "source": [
    "앞서 사용된 가드의 용법은 다음과 같다.\n",
    "\n",
    "* 함수 이름과 매개변수를 먼저 적는다.\n",
    "\n",
    "* 줄바꿈과 들여쓰기(indent)를 한 다음에 막대기(파이프, `|`)를 사용하여 경우를 구분한다.\n",
    "\n",
    "* 막대기 기호 오른편에 는 부울 논리식, 즉, 참과 거짓으로 판명될 수 있는 표현식이 사용되며,\n",
    "    사용되는 논리식을 __가드__라 부른다.\n",
    "    * 가드가 참(`True`)과 동치이면, 등호 기호 오련편에 지정된 값을 반환한다.\n",
    "    * 가드가 거짓(`False`)과 동치이면, 다음 가드로 넘어간다.\n",
    "    \n",
    "* 둘째 가드를 `18.5 < bmi <= 25.0` 대신에 `bmi <= 25.0`으로 작성한 이유는, \n",
    "    이미 첫째 가드가 성립하지 않는다는 것을 전제하기 때문이다. \n",
    "    셋째 가드 또한 동일하다.\n",
    "    \n",
    "* 마지막 가드는 기타의 경우를 담당하는 `otherwise`가 사용된다.\n",
    "    물론, 이전에 모든 경우를 다루었다면 필요하지 않다."
   ]
  },
  {
   "cell_type": "markdown",
   "metadata": {},
   "source": [
    "__참고__\n",
    "\n",
    "위에서 `bmiTell` 함수의 유형을 지정할 때 사용된 `RealFloat` 유형 클래스는 실수와 관련된\n",
    "숫자들의 유형들로 이루어진 클래스이다. \n",
    "또한 함수의 본문에 크기비교가 사용되기에 유형 `a`가 `Ord` 유형 클래스에 속해야 한다.\n",
    "하지만 `RealFloat` 유형 클래스가 `Ord` 유형 클래스를 확장하기에 \n",
    "굳이 따로 지정하지 않아도 된다.\n",
    "\n",
    "앞서 언급한 대로 아래처럼 함수의 유형을 지정하지 않아도 된다.\n",
    "함수 정의 후에 유형을 확인하면 유형 `a`가 `Ord`와 `Fractional` 유형 클래스에 \n",
    "포함되면 충분하다는 것이 확인된다.\n",
    "`Fractional` 유형 클래스는 나눗셈에 대해 닫혀 있는 수들의 집합을 유형으로 포함한다.\n",
    "여기에는 당연히 실수의 유형도 포함된다."
   ]
  },
  {
   "cell_type": "code",
   "execution_count": 67,
   "metadata": {
    "attributes": {
     "classes": [
      "haskell:hs"
     ],
     "id": "",
     "name": "\"code\""
    }
   },
   "outputs": [],
   "source": [
    "bmiTell bmi \n",
    "    | bmi <= 18.5 = \"You're underweight, you emo, you!\"\n",
    "    | bmi <= 25.0 = \"You're supposedly normal. Pffft, I bet you're ugly!\"\n",
    "    | bmi <= 30.0 = \"You're fat! Lose some weight, fatty!\"\n",
    "    | otherwise   = \"You're a whale, congratulations!\""
   ]
  },
  {
   "cell_type": "code",
   "execution_count": 68,
   "metadata": {},
   "outputs": [
    {
     "data": {
      "text/html": [
       "<style>/* Styles used for the Hoogle display in the pager */\n",
       ".hoogle-doc {\n",
       "display: block;\n",
       "padding-bottom: 1.3em;\n",
       "padding-left: 0.4em;\n",
       "}\n",
       ".hoogle-code {\n",
       "display: block;\n",
       "font-family: monospace;\n",
       "white-space: pre;\n",
       "}\n",
       ".hoogle-text {\n",
       "display: block;\n",
       "}\n",
       ".hoogle-name {\n",
       "color: green;\n",
       "font-weight: bold;\n",
       "}\n",
       ".hoogle-head {\n",
       "font-weight: bold;\n",
       "}\n",
       ".hoogle-sub {\n",
       "display: block;\n",
       "margin-left: 0.4em;\n",
       "}\n",
       ".hoogle-package {\n",
       "font-weight: bold;\n",
       "font-style: italic;\n",
       "}\n",
       ".hoogle-module {\n",
       "font-weight: bold;\n",
       "}\n",
       ".hoogle-class {\n",
       "font-weight: bold;\n",
       "}\n",
       ".get-type {\n",
       "color: green;\n",
       "font-weight: bold;\n",
       "font-family: monospace;\n",
       "display: block;\n",
       "white-space: pre-wrap;\n",
       "}\n",
       ".show-type {\n",
       "color: green;\n",
       "font-weight: bold;\n",
       "font-family: monospace;\n",
       "margin-left: 1em;\n",
       "}\n",
       ".mono {\n",
       "font-family: monospace;\n",
       "display: block;\n",
       "}\n",
       ".err-msg {\n",
       "color: red;\n",
       "font-style: italic;\n",
       "font-family: monospace;\n",
       "white-space: pre;\n",
       "display: block;\n",
       "}\n",
       "#unshowable {\n",
       "color: red;\n",
       "font-weight: bold;\n",
       "}\n",
       ".err-msg.in.collapse {\n",
       "padding-top: 0.7em;\n",
       "}\n",
       ".highlight-code {\n",
       "white-space: pre;\n",
       "font-family: monospace;\n",
       "}\n",
       ".suggestion-warning { \n",
       "font-weight: bold;\n",
       "color: rgb(200, 130, 0);\n",
       "}\n",
       ".suggestion-error { \n",
       "font-weight: bold;\n",
       "color: red;\n",
       "}\n",
       ".suggestion-name {\n",
       "font-weight: bold;\n",
       "}\n",
       "</style><span class='get-type'>bmiTell :: forall a. (Ord a, Fractional a) => a -> [Char]</span>"
      ],
      "text/plain": [
       "bmiTell :: forall a. (Ord a, Fractional a) => a -> [Char]"
      ]
     },
     "metadata": {},
     "output_type": "display_data"
    }
   ],
   "source": [
    ":t bmiTell"
   ]
  },
  {
   "cell_type": "markdown",
   "metadata": {},
   "source": [
    "### 패턴 매칭과 가드"
   ]
  },
  {
   "cell_type": "markdown",
   "metadata": {},
   "source": [
    "패턴과 가드를 혼합해서 사용할 수 있다.\n",
    "예를 들어, 리스트에 포함된 항목 중에서 양의 값만 세는 함수는 다음과 같다."
   ]
  },
  {
   "cell_type": "code",
   "execution_count": 69,
   "metadata": {
    "attributes": {
     "classes": [
      "haskell:",
      "hs"
     ],
     "id": "",
     "name": "\"code\""
    }
   },
   "outputs": [],
   "source": [
    "countPositives :: (Ord a, Num a, Num b) => [a] -> b\n",
    "countPositives [] = 0\n",
    "countPositives (x:xs) | x > 0     = 1 + countPositives xs\n",
    "                      | otherwise = countPositives xs"
   ]
  },
  {
   "cell_type": "code",
   "execution_count": 70,
   "metadata": {},
   "outputs": [
    {
     "data": {
      "text/plain": [
       "3"
      ]
     },
     "metadata": {},
     "output_type": "display_data"
    }
   ],
   "source": [
    "countPositives [0, 2, 3, 0, 6]"
   ]
  },
  {
   "cell_type": "code",
   "execution_count": 71,
   "metadata": {},
   "outputs": [
    {
     "data": {
      "text/plain": [
       "5"
      ]
     },
     "metadata": {},
     "output_type": "display_data"
    }
   ],
   "source": [
    "countPositives [1, 2, 3, 1, 6]"
   ]
  },
  {
   "cell_type": "markdown",
   "metadata": {},
   "source": [
    "### 가드 기본 사용법"
   ]
  },
  {
   "cell_type": "markdown",
   "metadata": {},
   "source": [
    "가드는 여러 개의 인자를 가진 함수에서도 사용할 수 있다. \n",
    "예를 들어, BMI를 직접 입력하는 대신에 몸무게(weight)와 키(height) 두 개의 값을 사용하도록 할 수 있다. \n",
    "그러면, 가드는 `weight`와 `height` 두 변수를 사용하는 논리식으로 지정된다."
   ]
  },
  {
   "cell_type": "code",
   "execution_count": 72,
   "metadata": {
    "attributes": {
     "classes": [
      "haskell:hs"
     ],
     "id": "",
     "name": "\"code\""
    }
   },
   "outputs": [],
   "source": [
    "bmiTell :: (RealFloat a) => a -> a -> String\n",
    "bmiTell weight height\n",
    "    | weight / height ^ 2 <= 18.5 = \"You're underweight, you emo, you!\"\n",
    "    | weight / height ^ 2 <= 25.0 = \"You're supposedly normal. Pffft, I bet you're ugly!\"\n",
    "    | weight / height ^ 2 <= 30.0 = \"You're fat! Lose some weight, fatty!\"\n",
    "    | otherwise                   = \"You're a whale, congratulations!\""
   ]
  },
  {
   "cell_type": "markdown",
   "metadata": {},
   "source": [
    "나의 체질량지수는 정상이라고 판정된다. "
   ]
  },
  {
   "cell_type": "code",
   "execution_count": 73,
   "metadata": {
    "attributes": {
     "classes": [
      "haskell:ghci"
     ],
     "id": "",
     "name": "\"code\""
    }
   },
   "outputs": [
    {
     "data": {
      "text/plain": [
       "\"You're supposedly normal. Pffft, I bet you're ugly!\""
      ]
     },
     "metadata": {},
     "output_type": "display_data"
    }
   ],
   "source": [
    "bmiTell 70 1.78"
   ]
  },
  {
   "cell_type": "markdown",
   "metadata": {},
   "source": [
    "**예제**\n",
    "\n",
    "비교될 수 있는 두 개의 값 중에서 더 큰 값을 반환하는 `max` 함수를 직접 구현한다."
   ]
  },
  {
   "cell_type": "code",
   "execution_count": 74,
   "metadata": {
    "attributes": {
     "classes": [
      "haskell:hs"
     ],
     "id": "",
     "name": "\"code\""
    }
   },
   "outputs": [],
   "source": [
    "max' :: (Ord a) => a -> a -> a\n",
    "max' a b\n",
    "    | a > b     = a\n",
    "    | otherwise = b"
   ]
  },
  {
   "cell_type": "markdown",
   "metadata": {},
   "source": [
    "가드를 위한 들여쓰기는 필수이며 들여쓰기 정도를 일정하게 맞추어야 한다.\n",
    "반면에 줄바꿈은 선택사항이다. \n",
    "물론 아래와 같이 모든 것을 한 줄에 작성하면 가독성이 별로 좋지 않아서\n",
    "가급적 줄바꿈을 사용해야 한다. "
   ]
  },
  {
   "cell_type": "code",
   "execution_count": 75,
   "metadata": {
    "attributes": {
     "classes": [
      "haskell:hs"
     ],
     "id": "",
     "name": "\"code\""
    }
   },
   "outputs": [],
   "source": [
    "max' :: (Ord a) => a -> a -> a\n",
    "max' a b | a > b = a | otherwise = b"
   ]
  },
  {
   "cell_type": "markdown",
   "metadata": {},
   "source": [
    "**예제**\n",
    "\n",
    "두 값의 크기를 비교하는 `compare` 함수를 직접 구현한다."
   ]
  },
  {
   "cell_type": "code",
   "execution_count": 76,
   "metadata": {
    "attributes": {
     "classes": [
      "haskell:hs"
     ],
     "id": "",
     "name": "\"code\""
    }
   },
   "outputs": [],
   "source": [
    "myCompare :: (Ord a) => a -> a -> Ordering\n",
    "a `myCompare` b | a > b     = GT\n",
    "                | a == b    = EQ\n",
    "                | otherwise = LT"
   ]
  },
  {
   "cell_type": "code",
   "execution_count": 77,
   "metadata": {
    "attributes": {
     "classes": [
      "haskell:hs"
     ],
     "id": "",
     "name": "\"code\""
    }
   },
   "outputs": [
    {
     "data": {
      "text/plain": [
       "GT"
      ]
     },
     "metadata": {},
     "output_type": "display_data"
    }
   ],
   "source": [
    "3 `myCompare` 2"
   ]
  },
  {
   "cell_type": "markdown",
   "metadata": {},
   "source": [
    "__참고:__ 위 정의에서 가독성을 높이기 위해 백틱 기호(`` ` ``, backtick)를 사용하여\n",
    "`myCompare` 함수를 중위 함수 형식으로 정의하였다. "
   ]
  },
  {
   "cell_type": "markdown",
   "metadata": {},
   "source": [
    "## 4.3 `where` 절(clause)과 `let` 표현식 "
   ]
  },
  {
   "cell_type": "markdown",
   "metadata": {},
   "source": [
    "몸무게와 키 두개의 인자를 받아 체질량지수를 계산하는 함수 `bmiTell` 함수를 앞서 아래와 같이 정의하였다. "
   ]
  },
  {
   "cell_type": "code",
   "execution_count": 4,
   "metadata": {
    "attributes": {
     "classes": [
      "haskell:hs"
     ],
     "id": "",
     "name": "\"code\""
    }
   },
   "outputs": [],
   "source": [
    "bmiTell :: (RealFloat a) => a -> a -> String\n",
    "bmiTell weight height\n",
    "    | weight / height ^ 2 <= 18.5 = \"You're underweight, you emo, you!\"\n",
    "    | weight / height ^ 2 <= 25.0 = \"You're supposedly normal. Pffft, I bet you're ugly!\"\n",
    "    | weight / height ^ 2 <= 30.0 = \"You're fat! Lose some weight, fatty!\"\n",
    "    | otherwise                   = \"You're a whale, congratulations!\""
   ]
  },
  {
   "cell_type": "markdown",
   "metadata": {},
   "source": [
    "그런데 위 함수는 아래 표현식이 반복적으로 언급되었다. \n",
    "\n",
    "```haskell\n",
    "weight / height ^ 2\n",
    "```\n",
    "\n",
    "이런 경우에 위 표현식에 이름을 주면 함수를 보다 단순하게 작성할 수 있으며,\n",
    "단축 이름은 `where` 절에서 지정한다. "
   ]
  },
  {
   "cell_type": "code",
   "execution_count": 6,
   "metadata": {
    "attributes": {
     "classes": [
      "haskell:hs"
     ],
     "id": "",
     "name": "\"code\""
    }
   },
   "outputs": [],
   "source": [
    "bmiTell :: (RealFloat a) => a -> a -> String\n",
    "bmiTell weight height\n",
    "    | bmi <= 18.5 = \"You're underweight, you emo, you!\"\n",
    "    | bmi <= 25.0 = \"You're supposedly normal. Pffft, I bet you're ugly!\"\n",
    "    | bmi <= 30.0 = \"You're fat! Lose some weight, fatty!\"\n",
    "    | otherwise   = \"You're a whale, congratulations!\"\n",
    "    where bmi = weight / height ^ 2"
   ]
  },
  {
   "cell_type": "markdown",
   "metadata": {},
   "source": [
    "### `where` 절 사용법"
   ]
  },
  {
   "cell_type": "markdown",
   "metadata": {},
   "source": [
    "* 키워드 `where`은 가드 뒤에 붙임.\n",
    "    * `where`은 pipe의 인덴트와 동일한만큼의 인덴트를 주는 것이 좋음\n",
    "    \n",
    "    \n",
    "* `where`에서 여러 개의 이름이나 함수를 정의할 수 있음\n",
    "    * 정의된 이름들은 가드 전체에서 사용할 수 있고, 같은 것을 반복하지 않도록 해줌\n",
    "    \n",
    "    \n",
    "* 위의 예시에서 BMI를 다른 방식으로 계산하고 싶다면, `where` 뒤에 있는 공식을 한 번만 바꿔주면 됨.\n",
    "* 특정한 개체에 이름을 붙임으로써 가독성을 높이고, `bmi` 같은 변수가 한 번만 계산되게 함으로써, 프로그램의 속도를 빠르게 만들어줌\n",
    "* 함수를 아래처럼 표현할 수 있음:"
   ]
  },
  {
   "cell_type": "code",
   "execution_count": 84,
   "metadata": {
    "attributes": {
     "classes": [
      "haskell:hs"
     ],
     "id": "",
     "name": "\"code\""
    }
   },
   "outputs": [],
   "source": [
    "bmiTell :: (RealFloat a) => a -> a -> String\n",
    "bmiTell weight height\n",
    "    | bmi <= skinny = \"You're underweight, you emo, you!\"\n",
    "    | bmi <= normal = \"You're supposedly normal. Pffft, I bet you're ugly!\"\n",
    "    | bmi <= fat    = \"You're fat! Lose some weight, fatty!\"\n",
    "    | otherwise     = \"You're a whale, congratulations!\"\n",
    "    where bmi = weight / height ^ 2\n",
    "          skinny = 18.5\n",
    "          normal = 25.0\n",
    "          fat = 30.0"
   ]
  },
  {
   "cell_type": "markdown",
   "metadata": {},
   "source": [
    "* 어떤 함수의 where 절에서 정의된 이름들은 그 함수 내에서만 사용 가능\n",
    "* 모든 이름들이 같은 줄에 맞춰서 정렬되있어야 함\n",
    "    * 같은 줄에 맞추지 않으면, 하스켈은 어디서 어디까지가 같은 블록의 일부인지를 알 수 없음"
   ]
  },
  {
   "cell_type": "markdown",
   "metadata": {},
   "source": [
    "### where 특징\n",
    "* *where* 절은 함수의 서로 다른 패턴까지 공유되지 않음\n",
    "    * 한 함수 내에 여러 개의 패턴에서 공유되는 이름을 만들고 싶다면, 이름을 전역적인 공간에서 정의해야 함\n",
    "    \n",
    "    \n",
    "* where 절에서도 패턴 매칭을 사용할 수 있음\n",
    "    * 위의 함수를 패턴 매칭을 활용해 표현해보면: "
   ]
  },
  {
   "cell_type": "markdown",
   "metadata": {
    "attributes": {
     "classes": [
      "haskell:hs"
     ],
     "id": "",
     "name": "\"code\""
    }
   },
   "source": [
    "```haskell\n",
    "...\n",
    "    where bmi = weight / height ^ 2\n",
    "          (skinny, normal, fat) = (18.5, 25.0, 30.0)\n",
    "```"
   ]
  },
  {
   "cell_type": "markdown",
   "metadata": {},
   "source": [
    "**예시 1. 사람의 성과 이름을 받아 이니셜을 돌려주는 함수**"
   ]
  },
  {
   "cell_type": "code",
   "execution_count": 85,
   "metadata": {
    "attributes": {
     "classes": [
      "haskell:hs"
     ],
     "id": "",
     "name": "\"code\""
    }
   },
   "outputs": [],
   "source": [
    "initials :: String -> String -> String\n",
    "initials firstname lastname = [f] ++ \". \" ++ [l] ++ \".\"\n",
    "    where (f:_) = firstname\n",
    "          (l:_) = lastname"
   ]
  },
  {
   "cell_type": "markdown",
   "metadata": {},
   "source": [
    "* 패턴 매칭을 함수의 인자에서 직접적으로 수행할 수 있음\n",
    "    * 이렇게 표현하면 더 짧고 직관적임\n",
    "\n",
    "\n",
    "* where 절에서 상수를 정의한 것처럼, 함수도 정의 가능\n",
    "\n",
    "**예시 2. BMI의 리스트를 반환하는 함수**\n",
    "* 몸무게와 키를 항목으로 가지는 튜플의 리스트를 받아와 BMI의 리스트를 반환해주는 함수"
   ]
  },
  {
   "cell_type": "code",
   "execution_count": 86,
   "metadata": {
    "attributes": {
     "classes": [
      "haskell:hs"
     ],
     "id": "",
     "name": "\"code\""
    }
   },
   "outputs": [],
   "source": [
    "calcBmis :: (RealFloat a) => [(a, a)] -> [a]\n",
    "calcBmis xs = [bmi w h | (w, h) <- xs]\n",
    "    where bmi weight height = weight / height ^ 2"
   ]
  },
  {
   "cell_type": "markdown",
   "metadata": {},
   "source": [
    "* `bmi`를 함수의 인자로 소개한 이유는, 함수의 인자로부터 하나의 BMI를 계산할 수 없기 때문. 함수에서 넘어온 인자를 조사해 모든 튜플에 대해 서로 다른 BMI를 각각 계산해야 함."
   ]
  },
  {
   "cell_type": "markdown",
   "metadata": {},
   "source": [
    "`where` 절 안에서 패턴 매칭을 이용한 함수 정의하기 또한 가능하다.\n",
    "앞서 `case` 표현식을 설명할 때 정의했던 `describeList` 함수를 `where` 절를 이용하여\n",
    "다음과 같이 재정의 할 수 있다."
   ]
  },
  {
   "cell_type": "code",
   "execution_count": 3,
   "metadata": {
    "attributes": {
     "classes": [
      "haskell:hs"
     ],
     "id": "",
     "name": "\"code\""
    }
   },
   "outputs": [],
   "source": [
    "describeList :: [a] -> String\n",
    "describeList xs = \"The list is \" ++ what xs\n",
    "    where what []  = \"empty.\"\n",
    "          what [x] = \"a singleton list.\"\n",
    "          what xs  = \"a longer list.\""
   ]
  },
  {
   "cell_type": "markdown",
   "metadata": {},
   "source": [
    "### where 절 중첩 사용\n",
    "* where 절 또한 중첩해서 사용 가능\n",
    "* 함수를 만들 땐 도우미 함수(helper function)를 그 함수의 where 절로 만들고, 도우미 함수가 잘 작동하기 위한 도우미 함수를 다시 그 함수의 where 절에 정의할 수 있음"
   ]
  },
  {
   "cell_type": "markdown",
   "metadata": {},
   "source": [
    "### `let` 표현식"
   ]
  },
  {
   "cell_type": "markdown",
   "metadata": {},
   "source": [
    "* let 절은 where 절과 굉장히 비슷함.\n",
    "    * where 절은 함수의 맨 마지막에서 변수를 묶을 수 있고(bind) 그것을 모든 가드를 포함한 전체 함수 정의에서 사용할 수 있는 구문론적 구조\n",
    "    * let 절은 어디서든 표현식과 변수를 묶을 수 있게 해주지만, 굉장히 지역적이므로 가든 전체에서 사용하지는 못함\n",
    "    \n",
    "    \n",
    "* 하스켈에 있는 값을 그 이름과 묶기 위한 용도로 사용되는 다른 구조들과 마찬가지로, let 바인딩은 패턴 매칭을 위해 사용될 수 있음\n",
    "\n",
    "**예시 1. 원기둥의 겉넓이를 구하는 함수**\n",
    "* 원기둥의 높이와 반지름을 이용해서 원기둥의 겉넓이를 구해주는 함수"
   ]
  },
  {
   "cell_type": "code",
   "execution_count": 87,
   "metadata": {
    "attributes": {
     "classes": [
      "haskell:hs"
     ],
     "id": "",
     "name": "\"code\""
    }
   },
   "outputs": [],
   "source": [
    "cylinder :: (RealFloat a) => a -> a -> a\n",
    "cylinder r h =\n",
    "    let sideArea = 2 * pi * r * h\n",
    "        topArea = pi * r ^2\n",
    "    in  sideArea + 2 * topArea"
   ]
  },
  {
   "cell_type": "markdown",
   "metadata": {},
   "source": [
    "### let의 형태\n",
    "* 기본적인 형태: `let <bindings> in <expression>`\n",
    "* *let* 부분에서 정의한 이름은 *in* 이후 부분에서 나오는 표현식에서 사용 가능\n",
    "* *where* 절을 이용해서도 구현할 수 있음\n",
    "* 이름들이 같은 줄에 맞춰서 정렬되어 있어야함\n",
    "\n",
    "### where과 let 절의 차이점\n",
    "1. *let* 절은 값과 변수를 묶는 작업을 먼저 하고 묶인 변수가 쓰이는 표현식이 나중에 나오는 반면 *where* 절은 순서가 반대\n",
    "2. *let* 절은 그 자체로 표현식이고 *where* 절은 구문론적인 구문임\n",
    "    * if 구문에서 if 구문은 표현식이기 때문에 어디서든 사용 가능했던 것처럼 let 절에서도 똑같이 가능"
   ]
  },
  {
   "cell_type": "code",
   "execution_count": 88,
   "metadata": {
    "attributes": {
     "classes": [
      "haskell:ghci"
     ],
     "id": "",
     "name": "\"code\""
    }
   },
   "outputs": [
    {
     "data": {
      "text/plain": [
       "[\"Woo\",\"Bar\"]"
      ]
     },
     "metadata": {},
     "output_type": "display_data"
    }
   ],
   "source": [
    "[if 5 > 3 then \"Woo\" else \"Boo\", if 'a' > 'b' then \"Foo\" else \"Bar\"]"
   ]
  },
  {
   "cell_type": "code",
   "execution_count": 89,
   "metadata": {
    "attributes": {
     "classes": [
      "haskell:ghci"
     ],
     "id": "",
     "name": "\"code\""
    }
   },
   "outputs": [
    {
     "data": {
      "text/plain": [
       "42"
      ]
     },
     "metadata": {},
     "output_type": "display_data"
    }
   ],
   "source": [
    "4 * (if 10 > 5 then 10 else 0) + 2"
   ]
  },
  {
   "cell_type": "code",
   "execution_count": 90,
   "metadata": {
    "attributes": {
     "classes": [
      "haskell:ghci"
     ],
     "id": "",
     "name": "\"code\""
    }
   },
   "outputs": [
    {
     "data": {
      "text/plain": [
       "42"
      ]
     },
     "metadata": {},
     "output_type": "display_data"
    }
   ],
   "source": [
    "4 * (let a = 9 in a + 1) + 2"
   ]
  },
  {
   "cell_type": "markdown",
   "metadata": {},
   "source": [
    "### let 절의 특징\n",
    "* let 절은 지역적인 범위에서 쓰이는 함수를 만들 때에도 사용"
   ]
  },
  {
   "cell_type": "code",
   "execution_count": 91,
   "metadata": {
    "attributes": {
     "classes": [
      "haskell:ghci"
     ],
     "id": "",
     "name": "\"code\""
    }
   },
   "outputs": [
    {
     "data": {
      "text/plain": [
       "[(25,9,4)]"
      ]
     },
     "metadata": {},
     "output_type": "display_data"
    }
   ],
   "source": [
    "[let square x = x * x in (square 5, square 3, square 2)]"
   ]
  },
  {
   "cell_type": "markdown",
   "metadata": {},
   "source": [
    "* 한 줄에 여러 개의 변수를 묶고 싶다면, 줄을 맞추기 않아도 되지만 세미콜론(;)으로 구분해야함"
   ]
  },
  {
   "cell_type": "code",
   "execution_count": 92,
   "metadata": {
    "attributes": {
     "classes": [
      "haskell:ghci"
     ],
     "id": "",
     "name": "\"code\""
    }
   },
   "outputs": [
    {
     "data": {
      "text/plain": [
       "(6000000,\"Hey there!\")"
      ]
     },
     "metadata": {},
     "output_type": "display_data"
    }
   ],
   "source": [
    "(let a = 100; b = 200; c = 300 in a*b*c, let foo=\"Hey \"; bar = \"there!\" in foo ++ bar)"
   ]
  },
  {
   "cell_type": "markdown",
   "metadata": {},
   "source": [
    "* 마지막 바인딩 뒤에는 세미콜론을 붙일 필요 없지만, 붙여도 상관 없음\n",
    "\n",
    "* let 바인딩과 함께 패턴 매칭을 사용할 수 있음\n",
    "    * 튜플을 항목들로 빠르게 분해해서 이름을 붙이는 것 같은 작업에 굉장히 유용함"
   ]
  },
  {
   "cell_type": "code",
   "execution_count": 93,
   "metadata": {
    "attributes": {
     "classes": [
      "haskell:ghci"
     ],
     "id": "",
     "name": "\"code\""
    }
   },
   "outputs": [
    {
     "data": {
      "text/plain": [
       "600"
      ]
     },
     "metadata": {},
     "output_type": "display_data"
    }
   ],
   "source": [
    "(let (a,b,c) = (1,2,3) in a+b+c) * 100"
   ]
  },
  {
   "cell_type": "markdown",
   "metadata": {},
   "source": [
    "* *let* 절은 리스트 조건 제시법에서도 사용 가능\n",
    "\n",
    "**예시 2. BMI 계산 함수**\n",
    "* 몸무게와 키를 항목으로 가지는 튜플의 리스트를 받아서 BMI를 계산하는 이전의 예제를 *where* 절에서 보조 함수를 정의해서 쓰는 대신 리스트 조건 제시법 안에서 *let*절을 이용하도록 수정"
   ]
  },
  {
   "cell_type": "code",
   "execution_count": 94,
   "metadata": {
    "attributes": {
     "classes": [
      "haskell:hs"
     ],
     "id": "",
     "name": "\"code\""
    }
   },
   "outputs": [],
   "source": [
    "calcBmis :: (RealFloat a) => [(a, a)] -> [a]\n",
    "calcBmis xs = [bmi | (w, h) <- xs, let bmi = w / h ^ 2]"
   ]
  },
  {
   "cell_type": "markdown",
   "metadata": {},
   "source": [
    "* *let* 절을 리스트 조건 제시법에서 술어를 쓰듯이 포함시킬 수 있음\n",
    "    * 이 경우 리스트를 필터링하지 않음. 이름과 값을 묶는 역할만 수행\n",
    "    \n",
    "    \n",
    "* 리스트 조건 제시법의 내부의 *let*절에서 정의된 이름들은 출력 함수(파이프(|) 전부분)와 해당 바인딩(let 절) 이후에 오는 섹션들, 술어들에서만 사용할 수 있음\n",
    "* 따라서 위 함수를 뚱뚱한 사람들의 BMI만 반환하도록 만들 수 있음"
   ]
  },
  {
   "cell_type": "code",
   "execution_count": 95,
   "metadata": {
    "attributes": {
     "classes": [
      "haskell:hs"
     ],
     "id": "",
     "name": "\"code\""
    }
   },
   "outputs": [],
   "source": [
    "calcBmis :: (RealFloat a) => [(a, a)] -> [a]\n",
    "calcBmis xs = [bmi | (w, h) <- xs, let bmi = w / h ^ 2, bmi >= 25.0]"
   ]
  },
  {
   "cell_type": "markdown",
   "metadata": {},
   "source": [
    "* `bmi`라는 이름을 `(w, h) <- xs` 부분에서는 사용할 수 없음.\n",
    "    * 이유: *let* 절보다 앞에서 정의됐기 때문\n",
    "    \n",
    "\n",
    "* *let* 절을 리스트 조건 제시법에서 사용할 때 해당 이름이 사용되는 범위가 리스트 내부로 이미 정의되어 있기 때문에 `in`을 빼먹어도 상관없음\n",
    "* 하지만, 술어에서 *let in* 절을 사용할 수도 있고, 이렇게 되면 *let* 절에서 정의된 이름들은 해당 술어부에서만 사용할 수 있음\n",
    "* *in* 부분은 GHCI에서 함수나 상수를 직접 정의할 때 빼먹을 수 있음. 그렇게 되면, 이 이름들은 전체 상호작용 세션 내내 사용 가능하게 됨"
   ]
  },
  {
   "cell_type": "code",
   "execution_count": 96,
   "metadata": {
    "attributes": {
     "classes": [
      "haskell:ghci"
     ],
     "id": "",
     "name": "\"code\""
    }
   },
   "outputs": [],
   "source": [
    "let zoot x y z = x * y + z"
   ]
  },
  {
   "cell_type": "code",
   "execution_count": 97,
   "metadata": {
    "attributes": {
     "classes": [
      "haskell:ghci"
     ],
     "id": "",
     "name": "\"code\""
    }
   },
   "outputs": [
    {
     "data": {
      "text/plain": [
       "29"
      ]
     },
     "metadata": {},
     "output_type": "display_data"
    }
   ],
   "source": [
    "zoot 3 9 2"
   ]
  },
  {
   "cell_type": "code",
   "execution_count": 98,
   "metadata": {
    "attributes": {
     "classes": [
      "haskell:ghci"
     ],
     "id": "",
     "name": "\"code\""
    }
   },
   "outputs": [
    {
     "data": {
      "text/plain": [
       "14"
      ]
     },
     "metadata": {},
     "output_type": "display_data"
    }
   ],
   "source": [
    "let boot x y z = x * y + z in boot 3 4 2"
   ]
  },
  {
   "cell_type": "code",
   "execution_count": 99,
   "metadata": {
    "attributes": {
     "classes": [
      "haskell:ghci"
     ],
     "id": "",
     "name": "\"code\""
    }
   },
   "outputs": [
    {
     "ename": "",
     "evalue": "",
     "output_type": "error",
     "traceback": [
      "<interactive>:1:1: error:\n    • Variable not in scope: boot\n    • Perhaps you meant ‘zoot’ (line 1)"
     ]
    }
   ],
   "source": [
    "boot"
   ]
  },
  {
   "cell_type": "markdown",
   "metadata": {},
   "source": [
    "### where 절을 사용하는 이유\n",
    "* *let* 절이 편리하지만, 모든 *where* 절 대신 *let* 절을 사용하지 않는 이유:\n",
    "    * *let* 절은 표현식이고 굉장히 지역적이기 때문에, 모든 가드 내에서 통용되어 사용할 수 없음\n",
    "\n",
    "\n",
    "* *where* 절이 이름을 쓰는 부분이 정의하는 부분보다 함수에서 앞에 있기 때문에 `where` 절을 선호함\n",
    "\n",
    "* `where` 절을 사용하면, 함수의 본체가 함수의 이름과 유형 선언에 더 가까워지고 이것이 가독성이 좋아 보임"
   ]
  },
  {
   "cell_type": "markdown",
   "metadata": {},
   "source": [
    "## 4.4 부록: 재귀함수의 정지문제"
   ]
  },
  {
   "cell_type": "markdown",
   "metadata": {},
   "source": [
    "[콜라츠 추측(Collatz Conjecture)](https://ko.wikipedia.org/wiki/콜라츠_추측)에서\n",
    "언급된 함수를 이용하여 구조적 재귀를 사용하지 않는 재귀함수의 정지문제의 판단이 \n",
    "매우 어렵거나 경우에 따라 판단이 불가능할 수 있음을 설명한다.\n",
    "\n",
    "콜라츠 추측에서 소개된 함수는 다음과 같다.\n",
    "\n",
    "$$\n",
    "f(n) = \n",
    "\\begin{cases}\n",
    "1,           & n = 1 \\\\\n",
    "f(\\frac{n}{2}), & n \\text{은 짝수} \\\\\n",
    "f(3 n + 1),     &  n \\text{은 1보다 큰 홀수}\n",
    "\\end{cases}\n",
    "$$\n",
    "\n",
    "예를 들어, $f(3)$이 계산되는 과정은 다음과 같다."
   ]
  },
  {
   "cell_type": "markdown",
   "metadata": {},
   "source": [
    "```haskell\n",
    "f(3) => 3*3+1 = 10 \n",
    "     => 10/2  = 5\n",
    "     => 3*5+1 = 16\n",
    "     => 16/2  = 8\n",
    "     => 8/2   = 4\n",
    "     => 4/2   = 2\n",
    "     => 2/2   = 1\n",
    "     => 1\n",
    "```"
   ]
  },
  {
   "cell_type": "markdown",
   "metadata": {},
   "source": [
    "콜라츠 추측은 함수 $f$가 임의의 양의 정수 $n$에 대해 항상 1을 반환하며 \n",
    "실행을 멈춘다는 내용이다. \n",
    "하지만 이에 대한 어떤 증명도 지금까지 알려지지 않았다.\n",
    "\n",
    "아래 함수는 위 함수 $f$가 각 인자에 대해 재귀적으로 몇 번 호출되는가를 세어주는 함수이며\n",
    "가드를 활용한다. "
   ]
  },
  {
   "cell_type": "code",
   "execution_count": 78,
   "metadata": {},
   "outputs": [],
   "source": [
    "collatz :: Integer -> Integer\n",
    "collatz n\n",
    "    | n <= 1           = 1\n",
    "    | (n `mod` 2) == 0 = collatz (n `div` 2) + 1\n",
    "    | (n `mod` 2) == 1 = collatz (3 * n + 1) + 1"
   ]
  },
  {
   "cell_type": "markdown",
   "metadata": {},
   "source": [
    "콜라츠 추측에서 주장하듯이 몇 개의 입력값을 사용해 보면 모두 실행이 끝남을 \n",
    "확인할 수 있다.\n",
    "사실 지금까지 콜라츠 추측이 틀렸음을 입증하는 반례가 알려지지 않았다.\n",
    "하지만 임의의 수를 입력할 때 실행이 언제 멈출 것인가 또한 \n",
    "앞서 언급한 대로 아직 아무도 모른다.\n",
    "\n",
    "예를 들어, 3을 인자로 사용하면 8번 먼에 실행을 멈춘다."
   ]
  },
  {
   "cell_type": "code",
   "execution_count": 79,
   "metadata": {},
   "outputs": [
    {
     "data": {
      "text/plain": [
       "8"
      ]
     },
     "metadata": {},
     "output_type": "display_data"
    }
   ],
   "source": [
    "collatz 3"
   ]
  },
  {
   "cell_type": "markdown",
   "metadata": {},
   "source": [
    "인자 100에 대해서는 함수 $f$가 26번 호출된다."
   ]
  },
  {
   "cell_type": "code",
   "execution_count": 80,
   "metadata": {},
   "outputs": [
    {
     "data": {
      "text/plain": [
       "26"
      ]
     },
     "metadata": {},
     "output_type": "display_data"
    }
   ],
   "source": [
    "collatz 100"
   ]
  },
  {
   "cell_type": "markdown",
   "metadata": {},
   "source": [
    "인자 171에 대해서는 125번 호출된다."
   ]
  },
  {
   "cell_type": "code",
   "execution_count": 81,
   "metadata": {},
   "outputs": [
    {
     "data": {
      "text/plain": [
       "125"
      ]
     },
     "metadata": {},
     "output_type": "display_data"
    }
   ],
   "source": [
    "collatz 171"
   ]
  }
 ],
 "metadata": {
  "kernelspec": {
   "display_name": "Haskell",
   "language": "haskell",
   "name": "haskell"
  },
  "language_info": {
   "codemirror_mode": "Haskell",
   "file_extension": ".hs",
   "mimetype": "text/x-haskell",
   "name": "haskell",
   "pygments_lexer": "Haskell",
   "version": "8.8.4"
  }
 },
 "nbformat": 4,
 "nbformat_minor": 4
}
