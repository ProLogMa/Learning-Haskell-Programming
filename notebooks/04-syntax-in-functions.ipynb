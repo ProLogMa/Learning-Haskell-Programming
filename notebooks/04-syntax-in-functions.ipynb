{
 "cells": [
  {
   "cell_type": "markdown",
   "metadata": {},
   "source": [
    "# 4장 함수의 구문"
   ]
  },
  {
   "cell_type": "markdown",
   "metadata": {},
   "source": [
    "__*아래 주피터 노트북은 James Brock의 [learn-you-a-haskell-notebook](https://github.com/jamesdbrock/learn-you-a-haskell-notebook)을 기본틀로 사용합니다.*__"
   ]
  },
  {
   "cell_type": "markdown",
   "metadata": {},
   "source": [
    "__참고:__ 린팅(linting) 기능 끄기\n",
    "\n",
    "* 린팅(linting): IHaskell에서 HLint라고 불리는 린터(linter)에 의해 보다 적절하다고 판단하는 표현식을 제안하는 기능\n",
    "* 보다 세련된 표현식(expression)을 제안하는 도구임. 하지만 반드시 필요한 기능은 아니다\n",
    "* 참조: [IHaskell의 린팅 기능 설정하기](https://github.com/gibiansky/IHaskell/wiki#opt-no-lint)"
   ]
  },
  {
   "cell_type": "code",
   "execution_count": 1,
   "metadata": {},
   "outputs": [],
   "source": [
    ":opt no-lint"
   ]
  },
  {
   "cell_type": "markdown",
   "metadata": {},
   "source": [
    "__참고: 주피터랩 단축키__\n",
    "\n",
    "주피터랩에서 가장 유용한 단축키 조합은 다음과 같다.\n",
    "\n",
    "| 단축키 조합 | 실행결과 |\n",
    "|-------------:|---------------|\n",
    "|<kbd>Shift</kbd>+<kbd>Enter</kbd> | 선택한 셀을 실행하고 다음 셀로 이동 |\n",
    "|<kbd>Ctrl</kbd>+<kbd>Enter</kbd> | 선택한 셀을 실행. 다음 셀로 이동하지 않음 |\n",
    "|<kbd>Alt</kbd>+<kbd>Enter</kbd> | 선택한 셀을 실행하고 선택한 셀 뒤에 새로운 셀 삽입 |\n",
    "|<kbd>Enter</kbd> | 선택한 셀 편집 |\n",
    "|<kbd>Ctrl</kbd>+<kbd>Shift</kbd>+<kbd>-</kbd> | 커서 위치에서 셀 분할 |\n",
    "\n",
    "모든 가능한 단축키 조합은 왼편 사이드바에 위치한 돋보기 아이콘을 눌러 확인하거나 검색할 수 있다. \n",
    "주피터랩의 단축키 설정 및 주요 단축키에 대한 자세한 설명은 \n",
    "[주피터랩 인터페이스](https://jupyterlab.readthedocs.io/en/stable/user/interface.html#https://jupyterlab.readthedocs.io/en/stable/user/interface.html#)를\n",
    "참조할 수 있다."
   ]
  },
  {
   "cell_type": "markdown",
   "metadata": {},
   "source": [
    "## 4.1 패턴 매칭(Pattern Matching)"
   ]
  },
  {
   "cell_type": "markdown",
   "metadata": {},
   "source": [
    "앞서 함수를 정의하는 기본적인 방식을 다뤘다.\n",
    "여기서는 구문 분석(syntax analysis)과 가드(guard), 지역 함수(local function) 등의 \n",
    "기능을 이용하여 함수를 보다 효율적으로 정의하는 방법을 설명한다.\n",
    "먼저 패턴 매칭에 대해 알아본다. \n",
    "\n",
    "__패턴__은 유형의 값이 가질 수 있는 __정형화된 양식__을 의미하며,\n",
    "그 양식에 따라 함수의 값을 다르게 지정하도록 하는 기능이 __패턴 매칭__이다. \n",
    "함수의 인자로 사용되는 값이 가질 수 있는 패턴에 따라 함수의 본문을 따로따로 \n",
    "정의하면 코드가 보다 깔끔해지고 가독성이 높아진다.\n",
    "하스켈에서 패턴 매칭은 숫자, 문자, 리스트, 튜플 등 \n",
    "모든 __자료형(data type)__에 대해허용된다.\n"
   ]
  },
  {
   "cell_type": "markdown",
   "metadata": {},
   "source": [
    "__참고:__ 자료형(data type)과 유형(type)은 구분되어야 한다.\n",
    "자료형은 모두 하스켈의 유형인 반면에,\n",
    "예를 들어, 함수의 유형은 일반적으로 자료형이 아니다. \n",
    "앞서 언급된 자료형 이외에 다른 자료형에 대해서는 나중에 자세히 다룬다. "
   ]
  },
  {
   "cell_type": "markdown",
   "metadata": {},
   "source": [
    "**예제** \n",
    "\n",
    "함수의 인자가 7인지 여부를 판단하여 다른 문자열을 반환하는 함수는 다음과 같다.\n",
    "    "
   ]
  },
  {
   "cell_type": "code",
   "execution_count": 2,
   "metadata": {
    "attributes": {
     "classes": [
      "haskell:",
      "hs"
     ],
     "id": "",
     "name": "\"code\""
    }
   },
   "outputs": [],
   "source": [
    "lucky :: (Integral a) => a -> String\n",
    "lucky 7 = \"LUCKY NUMBER SEVEN!\"\n",
    "lucky x = \"Sorry, you're out of luck, pal!\""
   ]
  },
  {
   "cell_type": "markdown",
   "metadata": {},
   "source": [
    "`lucky` 함수를 인자와 함께 호출하면 아래 과정이 차례대로 수행된다.\n",
    "\n",
    "* 사용된 인자에 대한 패턴 매칭은 함수의 정의에서 먼저 언급된 경우부터 순서대로, \n",
    "    즉, 위에서부터 아래로 각 패턴을 확인하면서 실행된다.\n",
    "* 지정된 인자의 패턴에 부합하지 않으면 다음 패턴으로 넘어가고,\n",
    "    부합되는 패턴을 찾으면 거기서 지정된 함수의 본문을 실행한다.    "
   ]
  },
  {
   "cell_type": "markdown",
   "metadata": {},
   "source": [
    "예를 들어, 인자가 7이면 첫 번째 패턴에 부합한다. "
   ]
  },
  {
   "cell_type": "code",
   "execution_count": 5,
   "metadata": {},
   "outputs": [
    {
     "data": {
      "text/plain": [
       "\"LUCKY NUMBER SEVEN!\""
      ]
     },
     "metadata": {},
     "output_type": "display_data"
    }
   ],
   "source": [
    "lucky 7"
   ]
  },
  {
   "cell_type": "markdown",
   "metadata": {},
   "source": [
    "만약 7이 아니면, 두 번째 패턴으로 넘어간다.\n",
    "그리고 이 패턴은 어떤 숫자에 대해서도 매칭이 이루어지도록 설정되어 있다.\n",
    "이와 같이 임의의 매개 변수 형식으로 지정된 패턴은 어떤 값에 대해서도 매칭되며,\n",
    "그 값을 해당 변수가 가리키게 된다.\n",
    "여기서는 물론 7이 아닌 모든 다른 수에 대해서 작동한다.\n",
    "이유는 7은 이전 패턴에서 걸러지기 때문이다."
   ]
  },
  {
   "cell_type": "code",
   "execution_count": 6,
   "metadata": {},
   "outputs": [
    {
     "data": {
      "text/plain": [
       "\"Sorry, you're out of luck, pal!\""
      ]
     },
     "metadata": {},
     "output_type": "display_data"
    }
   ],
   "source": [
    "lucky 17"
   ]
  },
  {
   "cell_type": "code",
   "execution_count": 8,
   "metadata": {},
   "outputs": [
    {
     "data": {
      "text/plain": [
       "\"Sorry, you're out of luck, pal!\""
      ]
     },
     "metadata": {},
     "output_type": "display_data"
    }
   ],
   "source": [
    "lucky 33"
   ]
  },
  {
   "cell_type": "markdown",
   "metadata": {},
   "source": [
    "만약에 패터 매칭 순서를 아래처럼 바꾸면 모든 숫자가 첫 번째 패턴 매칭에서 처리된다."
   ]
  },
  {
   "cell_type": "code",
   "execution_count": 30,
   "metadata": {
    "attributes": {
     "classes": [
      "haskell:",
      "hs"
     ],
     "id": "",
     "name": "\"code\""
    }
   },
   "outputs": [],
   "source": [
    "notLucky :: (Integral a) => a -> String\n",
    "notLucky x = \"Sorry, you're out of luck, pal!\"\n",
    "notLucky 7 = \"notLucky NUMBER SEVEN!\""
   ]
  },
  {
   "cell_type": "markdown",
   "metadata": {},
   "source": [
    "심지어 7도 첫 번째 패턴에 매칭되어 버린다."
   ]
  },
  {
   "cell_type": "code",
   "execution_count": 31,
   "metadata": {},
   "outputs": [
    {
     "data": {
      "text/plain": [
       "\"Sorry, you're out of luck, pal!\""
      ]
     },
     "metadata": {},
     "output_type": "display_data"
    }
   ],
   "source": [
    "notLucky 7"
   ]
  },
  {
   "cell_type": "markdown",
   "metadata": {},
   "source": [
    "`lucky` 함수를 정의할 때 지정된 유형을 보면 \n",
    "`Integral` 유형 클래스가 클래스 제약으로 사용되었다.\n",
    "따라서 `Int` 또는 `Integer` 등 정수형 값만 인자로 사용되며,\n",
    "아래와 같이 7.0을 사용하면 오류가 발생한다. \n",
    "\n",
    "```haskell\n",
    "lucky 7.0\n",
    "```\n",
    "\n",
    "부동소수점에 대해서도 작동하게 하려면 `lucky` 함수의 유형을 보다 일반화해야 한다.\n",
    "그런데 어떻게 유형을 지정해야할지 모를 때는 아래와 같이 유형을 지정하지 않으면서\n",
    "함수를 정의하면 된다."
   ]
  },
  {
   "cell_type": "code",
   "execution_count": 19,
   "metadata": {
    "attributes": {
     "classes": [
      "haskell:",
      "hs"
     ],
     "id": "",
     "name": "\"code\""
    }
   },
   "outputs": [],
   "source": [
    "lucky' 7 = \"LUCKY NUMBER SEVEN!\"\n",
    "lucky' x = \"Sorry, you're out of luck, pal!\""
   ]
  },
  {
   "cell_type": "markdown",
   "metadata": {},
   "source": [
    "`lucky'` 함수의 유형은 하스켈이 자동으로 유추해낸다."
   ]
  },
  {
   "cell_type": "code",
   "execution_count": 21,
   "metadata": {},
   "outputs": [
    {
     "data": {
      "text/html": [
       "<style>/* Styles used for the Hoogle display in the pager */\n",
       ".hoogle-doc {\n",
       "display: block;\n",
       "padding-bottom: 1.3em;\n",
       "padding-left: 0.4em;\n",
       "}\n",
       ".hoogle-code {\n",
       "display: block;\n",
       "font-family: monospace;\n",
       "white-space: pre;\n",
       "}\n",
       ".hoogle-text {\n",
       "display: block;\n",
       "}\n",
       ".hoogle-name {\n",
       "color: green;\n",
       "font-weight: bold;\n",
       "}\n",
       ".hoogle-head {\n",
       "font-weight: bold;\n",
       "}\n",
       ".hoogle-sub {\n",
       "display: block;\n",
       "margin-left: 0.4em;\n",
       "}\n",
       ".hoogle-package {\n",
       "font-weight: bold;\n",
       "font-style: italic;\n",
       "}\n",
       ".hoogle-module {\n",
       "font-weight: bold;\n",
       "}\n",
       ".hoogle-class {\n",
       "font-weight: bold;\n",
       "}\n",
       ".get-type {\n",
       "color: green;\n",
       "font-weight: bold;\n",
       "font-family: monospace;\n",
       "display: block;\n",
       "white-space: pre-wrap;\n",
       "}\n",
       ".show-type {\n",
       "color: green;\n",
       "font-weight: bold;\n",
       "font-family: monospace;\n",
       "margin-left: 1em;\n",
       "}\n",
       ".mono {\n",
       "font-family: monospace;\n",
       "display: block;\n",
       "}\n",
       ".err-msg {\n",
       "color: red;\n",
       "font-style: italic;\n",
       "font-family: monospace;\n",
       "white-space: pre;\n",
       "display: block;\n",
       "}\n",
       "#unshowable {\n",
       "color: red;\n",
       "font-weight: bold;\n",
       "}\n",
       ".err-msg.in.collapse {\n",
       "padding-top: 0.7em;\n",
       "}\n",
       ".highlight-code {\n",
       "white-space: pre;\n",
       "font-family: monospace;\n",
       "}\n",
       ".suggestion-warning { \n",
       "font-weight: bold;\n",
       "color: rgb(200, 130, 0);\n",
       "}\n",
       ".suggestion-error { \n",
       "font-weight: bold;\n",
       "color: red;\n",
       "}\n",
       ".suggestion-name {\n",
       "font-weight: bold;\n",
       "}\n",
       "</style><span class='get-type'>lucky' :: forall a. (Eq a, Num a) => a -> [Char]</span>"
      ],
      "text/plain": [
       "lucky' :: forall a. (Eq a, Num a) => a -> [Char]"
      ]
     },
     "metadata": {},
     "output_type": "display_data"
    }
   ],
   "source": [
    ":t lucky'"
   ]
  },
  {
   "cell_type": "markdown",
   "metadata": {},
   "source": [
    "`lucky'` 함수는 동치성 검사가 가능한 `Num` 유형 클래스에 포함되는 유형의 값을 인자로 사용한다.\n",
    "다행히도 부동소수점의 유형인 `Float`, `Double` 등이 모두 해당되어 아래 계산이 정상적으로 작동한다."
   ]
  },
  {
   "cell_type": "code",
   "execution_count": 22,
   "metadata": {},
   "outputs": [
    {
     "data": {
      "text/plain": [
       "\"LUCKY NUMBER SEVEN!\""
      ]
     },
     "metadata": {},
     "output_type": "display_data"
    }
   ],
   "source": [
    "lucky' 7.0"
   ]
  },
  {
   "cell_type": "code",
   "execution_count": 23,
   "metadata": {},
   "outputs": [
    {
     "data": {
      "text/plain": [
       "\"LUCKY NUMBER SEVEN!\""
      ]
     },
     "metadata": {},
     "output_type": "display_data"
    }
   ],
   "source": [
    "lucky' 7"
   ]
  },
  {
   "cell_type": "code",
   "execution_count": 24,
   "metadata": {},
   "outputs": [
    {
     "data": {
      "text/plain": [
       "\"Sorry, you're out of luck, pal!\""
      ]
     },
     "metadata": {},
     "output_type": "display_data"
    }
   ],
   "source": [
    "lucky' 33.1"
   ]
  },
  {
   "cell_type": "markdown",
   "metadata": {},
   "source": [
    "### 패턴 매칭 vs. if 표현식"
   ]
  },
  {
   "cell_type": "markdown",
   "metadata": {},
   "source": [
    "`lucky` 함수를 `if` 표현식 사용하여 정의할 수도 있다. "
   ]
  },
  {
   "cell_type": "code",
   "execution_count": 33,
   "metadata": {},
   "outputs": [],
   "source": [
    "lucky :: Integral a => a -> String\n",
    "lucky x = if x == 7 then \"LUCKY NUMBER SEVEN!\" \n",
    "                    else \"Sorry, you're out of luck, pal!\""
   ]
  },
  {
   "cell_type": "code",
   "execution_count": 34,
   "metadata": {},
   "outputs": [
    {
     "data": {
      "text/plain": [
       "\"LUCKY NUMBER SEVEN!\""
      ]
     },
     "metadata": {},
     "output_type": "display_data"
    }
   ],
   "source": [
    "lucky 7"
   ]
  },
  {
   "cell_type": "code",
   "execution_count": 35,
   "metadata": {},
   "outputs": [
    {
     "data": {
      "text/plain": [
       "\"Sorry, you're out of luck, pal!\""
      ]
     },
     "metadata": {},
     "output_type": "display_data"
    }
   ],
   "source": [
    "lucky 13"
   ]
  },
  {
   "cell_type": "markdown",
   "metadata": {},
   "source": [
    "경우의 수를 하나 늘려보자. "
   ]
  },
  {
   "cell_type": "code",
   "execution_count": 48,
   "metadata": {
    "attributes": {
     "classes": [
      "haskell:",
      "hs"
     ],
     "id": "",
     "name": "\"code\""
    }
   },
   "outputs": [],
   "source": [
    "luckyTwice :: (Integral a) => a -> String\n",
    "luckyTwice 7 = \"Lucky NUMBER SEVEN!\"\n",
    "luckyTwice 77 = \"Lucky twice NUMBER SEVENTY SEVEN!\"\n",
    "luckyTwice x = \"Sorry, you're out of luck, pal!\""
   ]
  },
  {
   "cell_type": "code",
   "execution_count": 49,
   "metadata": {},
   "outputs": [
    {
     "data": {
      "text/plain": [
       "\"Lucky NUMBER SEVEN!\""
      ]
     },
     "metadata": {},
     "output_type": "display_data"
    },
    {
     "data": {
      "text/plain": []
     },
     "metadata": {},
     "output_type": "display_data"
    }
   ],
   "source": [
    "luckyTwice 7"
   ]
  },
  {
   "cell_type": "code",
   "execution_count": 50,
   "metadata": {},
   "outputs": [
    {
     "data": {
      "text/plain": [
       "\"Lucky twice NUMBER SEVENTY SEVEN!\""
      ]
     },
     "metadata": {},
     "output_type": "display_data"
    }
   ],
   "source": [
    "luckyTwice 77"
   ]
  },
  {
   "cell_type": "code",
   "execution_count": 51,
   "metadata": {},
   "outputs": [
    {
     "data": {
      "text/plain": [
       "\"Sorry, you're out of luck, pal!\""
      ]
     },
     "metadata": {},
     "output_type": "display_data"
    }
   ],
   "source": [
    "luckyTwice 13"
   ]
  },
  {
   "cell_type": "code",
   "execution_count": 53,
   "metadata": {},
   "outputs": [],
   "source": [
    "luckyTwice x = if x == 7 then \"LUCKY NUMBER SEVEN!\" \n",
    "                         else if x == 77 then \"Lucky twice NUMBER SEVENTY SEVEN!\"\n",
    "                                         else \"Sorry, you're out of luck, pal!\""
   ]
  },
  {
   "cell_type": "code",
   "execution_count": 54,
   "metadata": {},
   "outputs": [
    {
     "data": {
      "text/plain": [
       "\"LUCKY NUMBER SEVEN!\""
      ]
     },
     "metadata": {},
     "output_type": "display_data"
    }
   ],
   "source": [
    "luckyTwice 7"
   ]
  },
  {
   "cell_type": "code",
   "execution_count": 55,
   "metadata": {},
   "outputs": [
    {
     "data": {
      "text/plain": [
       "\"Lucky twice NUMBER SEVENTY SEVEN!\""
      ]
     },
     "metadata": {},
     "output_type": "display_data"
    }
   ],
   "source": [
    "luckyTwice 77"
   ]
  },
  {
   "cell_type": "code",
   "execution_count": 56,
   "metadata": {},
   "outputs": [
    {
     "data": {
      "text/plain": [
       "\"Sorry, you're out of luck, pal!\""
      ]
     },
     "metadata": {},
     "output_type": "display_data"
    }
   ],
   "source": [
    "luckyTwice 13"
   ]
  },
  {
   "cell_type": "markdown",
   "metadata": {},
   "source": [
    "작동하긴 한다. 그런데 다루는 경우의 수가 많아 질 수록 `if` 표현식이 점점 더 복잡해질 것이다.\n",
    "예를 들어, 아래 예제와 같은 경우에는 `if` 표현식은 가급적 사용하지 않아야 한다."
   ]
  },
  {
   "cell_type": "markdown",
   "metadata": {},
   "source": [
    "__예제__\n",
    "\n",
    "인자가 1부터 5까지면 해당 숫자를 문자열로 반환하고, 그렇지 않으면 `\"Not between 1 and 5\"` 를\n",
    "출력하는 함수를 패턴 매칭을 이용하여 간단하게 정의할 수 있다."
   ]
  },
  {
   "cell_type": "code",
   "execution_count": 57,
   "metadata": {
    "attributes": {
     "classes": [
      "haskell:",
      "hs"
     ],
     "id": "",
     "name": "\"code\""
    }
   },
   "outputs": [],
   "source": [
    "sayMe :: (Integral a) => a -> String\n",
    "sayMe 1 = \"One!\"\n",
    "sayMe 2 = \"Two!\"\n",
    "sayMe 3 = \"Three!\"\n",
    "sayMe 4 = \"Four!\"\n",
    "sayMe 5 = \"Five!\"\n",
    "sayMe x = \"Not between 1 and 5\""
   ]
  },
  {
   "cell_type": "markdown",
   "metadata": {},
   "source": [
    "### 불완전 패턴 매칭"
   ]
  },
  {
   "cell_type": "markdown",
   "metadata": {},
   "source": [
    "패턴 매치은 가능한 모든 경우를 다루어야 한다.\n",
    "그렇지 않으면 오류가 발생할 수 있다.\n",
    "아래 함수는 불완전한 패턴 매칭을 사용한다. \n",
    "`a`, `b`, `c` 이외의 문자에 대한 정의가 누락되어 있기 때문이다."
   ]
  },
  {
   "cell_type": "code",
   "execution_count": 59,
   "metadata": {
    "attributes": {
     "classes": [
      "haskell:",
      "hs"
     ],
     "id": "",
     "name": "\"code\""
    }
   },
   "outputs": [],
   "source": [
    "charName :: Char -> String\n",
    "charName 'a' = \"Albert\"\n",
    "charName 'b' = \"Broseph\"\n",
    "charName 'c' = \"Cecil\""
   ]
  },
  {
   "cell_type": "markdown",
   "metadata": {},
   "source": [
    "`a`, `b`, `c` 세 문자에 대해서는 잘 작동한다. "
   ]
  },
  {
   "cell_type": "code",
   "execution_count": 5,
   "metadata": {
    "attributes": {
     "classes": [
      "haskell:",
      "ghci"
     ],
     "id": "",
     "name": "\"code\""
    }
   },
   "outputs": [
    {
     "data": {
      "text/plain": [
       "\"Albert\""
      ]
     },
     "metadata": {},
     "output_type": "display_data"
    }
   ],
   "source": [
    "charName 'a'"
   ]
  },
  {
   "cell_type": "code",
   "execution_count": 6,
   "metadata": {
    "attributes": {
     "classes": [
      "haskell:",
      "ghci"
     ],
     "id": "",
     "name": "\"code\""
    }
   },
   "outputs": [
    {
     "data": {
      "text/plain": [
       "\"Broseph\""
      ]
     },
     "metadata": {},
     "output_type": "display_data"
    }
   ],
   "source": [
    "charName 'b'"
   ]
  },
  {
   "cell_type": "code",
   "execution_count": 60,
   "metadata": {
    "attributes": {
     "classes": [
      "haskell:",
      "ghci"
     ],
     "id": "",
     "name": "\"code\""
    }
   },
   "outputs": [
    {
     "data": {
      "text/plain": [
       "\"Cecil\""
      ]
     },
     "metadata": {},
     "output_type": "display_data"
    }
   ],
   "source": [
    "charName 'c'"
   ]
  },
  {
   "cell_type": "markdown",
   "metadata": {},
   "source": [
    "다른 문자에 대해서는 오류가 발생한다.\n",
    "이유는 기타 문자에 대해서는 어떤 패턴 매칭도 정의되어 있지 않기 때문이다."
   ]
  },
  {
   "cell_type": "code",
   "execution_count": 61,
   "metadata": {
    "attributes": {
     "classes": [
      "haskell:",
      "ghci"
     ],
     "id": "",
     "name": "\"code\""
    }
   },
   "outputs": [
    {
     "ename": "",
     "evalue": "",
     "output_type": "error",
     "traceback": [
      "<interactive>:(2,1)-(4,22): Non-exhaustive patterns in function charName"
     ]
    }
   ],
   "source": [
    "charName 'h'"
   ]
  },
  {
   "cell_type": "markdown",
   "metadata": {},
   "source": [
    "따라서 패턴 매칭을 활용할 때 항상 '기타'에 해당하는 경우를 맨 마지막 패턴 매칭으로 \n",
    "지정하는 것을 잊지 말아야 한다.\n",
    "물론 아래와 같이 기타의 경우가 없는 경우도 있기도 하다."
   ]
  },
  {
   "cell_type": "code",
   "execution_count": 64,
   "metadata": {},
   "outputs": [],
   "source": [
    "sayTruth :: Bool -> String\n",
    "sayTruth True  = \"True\"\n",
    "sayTruth False = \"False\""
   ]
  },
  {
   "cell_type": "code",
   "execution_count": 70,
   "metadata": {},
   "outputs": [
    {
     "data": {
      "text/plain": [
       "\"True\""
      ]
     },
     "metadata": {},
     "output_type": "display_data"
    }
   ],
   "source": [
    "sayTruth (charName 'c' == \"Cecil\")"
   ]
  },
  {
   "cell_type": "code",
   "execution_count": 71,
   "metadata": {},
   "outputs": [
    {
     "data": {
      "text/plain": [
       "\"False\""
      ]
     },
     "metadata": {},
     "output_type": "display_data"
    }
   ],
   "source": [
    "sayTruth (7 > 10)"
   ]
  },
  {
   "cell_type": "markdown",
   "metadata": {},
   "source": [
    "### 튜플 패턴 매칭"
   ]
  },
  {
   "cell_type": "markdown",
   "metadata": {},
   "source": [
    "하스켈의 모든 자료형(data type)에 대해 패턴 매칭을 사용할 수 있다.\n",
    "앞서 숫자와 문자에 대한 패턴 매칭을 살펴 보았는데,\n",
    "이제 튜플에 대한 패턴 매칭 사용법을 예제를 이용하여 확인한다."
   ]
  },
  {
   "cell_type": "markdown",
   "metadata": {},
   "source": [
    "__예제__\n",
    "\n",
    "2D 공간에서 두 개의 항목을 가진 튜플의 형태를 띄고 있는 두 개의 벡터을 가져와 두 벡터를 더해주는 함수\n",
    "=> 두 개의 벡터를 더하기 위해선 x 항목과 y 항목을 각각 더해야함\n",
    "\n",
    "1. 패턴 매칭을 모르는 경우"
   ]
  },
  {
   "cell_type": "code",
   "execution_count": 8,
   "metadata": {
    "attributes": {
     "classes": [
      "haskell:",
      "hs"
     ],
     "id": "",
     "name": "\"code\""
    }
   },
   "outputs": [
    {
     "data": {
      "text/html": [
       "<style>/* Styles used for the Hoogle display in the pager */\n",
       ".hoogle-doc {\n",
       "display: block;\n",
       "padding-bottom: 1.3em;\n",
       "padding-left: 0.4em;\n",
       "}\n",
       ".hoogle-code {\n",
       "display: block;\n",
       "font-family: monospace;\n",
       "white-space: pre;\n",
       "}\n",
       ".hoogle-text {\n",
       "display: block;\n",
       "}\n",
       ".hoogle-name {\n",
       "color: green;\n",
       "font-weight: bold;\n",
       "}\n",
       ".hoogle-head {\n",
       "font-weight: bold;\n",
       "}\n",
       ".hoogle-sub {\n",
       "display: block;\n",
       "margin-left: 0.4em;\n",
       "}\n",
       ".hoogle-package {\n",
       "font-weight: bold;\n",
       "font-style: italic;\n",
       "}\n",
       ".hoogle-module {\n",
       "font-weight: bold;\n",
       "}\n",
       ".hoogle-class {\n",
       "font-weight: bold;\n",
       "}\n",
       ".get-type {\n",
       "color: green;\n",
       "font-weight: bold;\n",
       "font-family: monospace;\n",
       "display: block;\n",
       "white-space: pre-wrap;\n",
       "}\n",
       ".show-type {\n",
       "color: green;\n",
       "font-weight: bold;\n",
       "font-family: monospace;\n",
       "margin-left: 1em;\n",
       "}\n",
       ".mono {\n",
       "font-family: monospace;\n",
       "display: block;\n",
       "}\n",
       ".err-msg {\n",
       "color: red;\n",
       "font-style: italic;\n",
       "font-family: monospace;\n",
       "white-space: pre;\n",
       "display: block;\n",
       "}\n",
       "#unshowable {\n",
       "color: red;\n",
       "font-weight: bold;\n",
       "}\n",
       ".err-msg.in.collapse {\n",
       "padding-top: 0.7em;\n",
       "}\n",
       ".highlight-code {\n",
       "white-space: pre;\n",
       "font-family: monospace;\n",
       "}\n",
       ".suggestion-warning { \n",
       "font-weight: bold;\n",
       "color: rgb(200, 130, 0);\n",
       "}\n",
       ".suggestion-error { \n",
       "font-weight: bold;\n",
       "color: red;\n",
       "}\n",
       ".suggestion-name {\n",
       "font-weight: bold;\n",
       "}\n",
       "</style><div class=\"suggestion-name\" style=\"clear:both;\">Use bimap</div><div class=\"suggestion-row\" style=\"float: left;\"><div class=\"suggestion-warning\">Found:</div><div class=\"highlight-code\" id=\"haskell\">(fst a + fst b, snd a + snd b)</div></div><div class=\"suggestion-row\" style=\"float: left;\"><div class=\"suggestion-warning\">Why Not:</div><div class=\"highlight-code\" id=\"haskell\">Data.Bifunctor.bimap ((+) (fst a)) ((+) (snd a)) b</div></div>"
      ],
      "text/plain": [
       "Line 2: Use bimap\n",
       "Found:\n",
       "(fst a + fst b, snd a + snd b)\n",
       "Why not:\n",
       "Data.Bifunctor.bimap ((+) (fst a)) ((+) (snd a)) b"
      ]
     },
     "metadata": {},
     "output_type": "display_data"
    }
   ],
   "source": [
    "addVectors :: (Num a) => (a, a) -> (a, a) -> (a, a)\n",
    "addVectors a b = (fst a + fst b, snd a + snd b)"
   ]
  },
  {
   "cell_type": "markdown",
   "metadata": {},
   "source": [
    "2. 패턴 매칭을 사용한 경우"
   ]
  },
  {
   "cell_type": "code",
   "execution_count": 9,
   "metadata": {
    "attributes": {
     "classes": [
      "haskell:",
      "hs"
     ],
     "id": "",
     "name": "\"code\""
    }
   },
   "outputs": [],
   "source": [
    "addVectors :: (Num a) => (a, a) -> (a, a) -> (a, a)\n",
    "addVectors (x1, y1) (x2, y2) = (x1 + x2, y1 + y2)"
   ]
  },
  {
   "cell_type": "markdown",
   "metadata": {},
   "source": [
    "* 이 코드는 이 자체로 모든 종류의 패턴과 매칭 됨.\n",
    "    * 이유: `addVectors`는 두 케이스에서 모두 `addVectors :: (Num a) => (a, a) -> (a, a) -> (a, a)`로 작동하고, 따라서 항상 각각 두 개의 항목을 갖는 두 개의 튜플을 인자로 받는게 보장되기 때문\n",
    "\n",
    "**예시 2. 세 개의 항목을 가지는 튜플에서 항목을 출력해주는 함수**\n",
    "* [`fst`](https://hackage.haskell.org/package/base/docs/Prelude.html#v:fst)와 [`snd`](https://hackage.haskell.org/package/base/docs/Prelude.html#v:snd)는 두 개의 항목을 가진 튜플의 항목을 추출해냄.\n",
    "* 세 개의 항목을 가진 튜플에 대해서는 제공되는 함수가 없으므로 만들어 써야함."
   ]
  },
  {
   "cell_type": "code",
   "execution_count": 10,
   "metadata": {
    "attributes": {
     "classes": [
      "haskell:",
      "hs"
     ],
     "id": "",
     "name": "\"code\""
    }
   },
   "outputs": [],
   "source": [
    "first :: (a, b, c) -> a\n",
    "first (x, _, _) = x\n",
    "\n",
    "second :: (a, b, c) -> b\n",
    "second (_, y, _) = y\n",
    "\n",
    "third :: (a, b, c) -> c\n",
    "third (_, _, z) = z"
   ]
  },
  {
   "cell_type": "markdown",
   "metadata": {},
   "source": [
    "* `_` 기호는 리스트 조건 제시법에서 사용했던 것과 같은 의미"
   ]
  },
  {
   "cell_type": "markdown",
   "metadata": {},
   "source": [
    "### 리스트 조건 제시법에서의 패턴 매칭"
   ]
  },
  {
   "cell_type": "code",
   "execution_count": 11,
   "metadata": {
    "attributes": {
     "classes": [
      "haskell:",
      "ghci"
     ],
     "id": "",
     "name": "\"code\""
    }
   },
   "outputs": [
    {
     "data": {
      "text/plain": [
       "[4,7,6,8,11,4]"
      ]
     },
     "metadata": {},
     "output_type": "display_data"
    }
   ],
   "source": [
    "let xs = [(1,3), (4,3), (2,4), (5,3), (5,6), (3,1)]\n",
    "[a+b | (a,b) <- xs]"
   ]
  },
  {
   "cell_type": "markdown",
   "metadata": {},
   "source": [
    "* 리스트 조건 제시법에서 패턴 매칭을 사용한 경우, 패턴 매칭에 실패하면 다음 원소로 넘어가서 패턴 매칭을 수행\n",
    "\n",
    "* 리스트는 그 자체로 패턴 매칭에 사용될 수 있음\n",
    "* 공리스트 `[]`, 또는 `:` 연산과 공리스트를 포함한 어떤 패턴에서든 사용할 수 있음.\n",
    "    * `[1,2,3]`은 `1:2:3:[]`의 간단한 표현이므로 좀 더 형식화된 패턴도 사용할 수 있음. \n",
    "    * `x:xs` 같은 패턴은 리스트의 머리를 `x`로, 그리고 나머지는 `xs`로 취급함. 만약 해당 리스트에 원소가 하나밖에 없다면 `xs`는 공리스트가 됨\n",
    "\n",
    "> __참고:__ `x:xs` 패턴이 주로 이용되고, 특히 재귀 함수에서는 더 많이 이용됨. 하지만 `:` 연산자를 사용하는 패턴은 길이가 1 이상인 리스트에 대해서만 매칭됨\n",
    "\n",
    "* 처음 세 개의 원소를 변수로 지정하고, 리스트의 나머지 부분을 별도의 변수로 지정하는 것도 `x:y:z:zs` 형태로 표기하면 됨. 이 표현은 길이가 3 이상인 원소에 대해서만 대응되는 패턴임"
   ]
  },
  {
   "cell_type": "markdown",
   "metadata": {},
   "source": [
    "### 리스트에서의 패턴 매칭\n",
    "* [`head`](https://hackage.haskell.org/package/base/docs/Prelude.html#v:head) 함수를 직접 만들어보면"
   ]
  },
  {
   "cell_type": "code",
   "execution_count": 12,
   "metadata": {
    "attributes": {
     "classes": [
      "haskell:",
      "hs"
     ],
     "id": "",
     "name": "\"code\""
    }
   },
   "outputs": [],
   "source": [
    "head' :: [a] -> a\n",
    "head' [] = error \"Can't call head on an empty list, dummy!\"\n",
    "head' (x:_) = x"
   ]
  },
  {
   "cell_type": "markdown",
   "metadata": {},
   "source": [
    "잘 작동하는 것을 확인 가능"
   ]
  },
  {
   "cell_type": "code",
   "execution_count": 13,
   "metadata": {
    "attributes": {
     "classes": [
      "haskell:",
      "ghci"
     ],
     "id": "",
     "name": "\"code\""
    }
   },
   "outputs": [
    {
     "data": {
      "text/plain": [
       "4"
      ]
     },
     "metadata": {},
     "output_type": "display_data"
    }
   ],
   "source": [
    "head' [4,5,6]"
   ]
  },
  {
   "cell_type": "code",
   "execution_count": 14,
   "metadata": {
    "attributes": {
     "classes": [
      "haskell:",
      "ghci"
     ],
     "id": "",
     "name": "\"code\""
    }
   },
   "outputs": [
    {
     "data": {
      "text/plain": [
       "'H'"
      ]
     },
     "metadata": {},
     "output_type": "display_data"
    }
   ],
   "source": [
    "head' \"Hello\""
   ]
  },
  {
   "cell_type": "markdown",
   "metadata": {},
   "source": [
    "* 만약 여러 개의 변수를 지정하고 싶다면(변수 중 하나가 `_`이고 실제로는 전부 변수로 지정되는게 아니라 할지라도), 변수들을 소괄호로 둘러 싸야함 \n",
    "\n",
    "* [`error`](https://hackage.haskell.org/package/base/docs/Prelude.html#v:error) 함수\n",
    "    * 이 함수는 문자열을 인자로 받아 런타임 에러를 발생시키고, 해당 문자열을 어떤 종류의 오류가 발생했는지 알려주는 정보로 사용\n",
    "    * 이건 프로그램을 중단시키기 때문에 너무 많이 사용하는 것은 좋은 방법이 아님\n",
    "    * [`head`](https://hackage.haskell.org/package/base/docs/Prelude.html#v:head) 함수를 빈 리스트에 사용했을 경우 프로그램은 당연히 오류를 발생시킴.\n",
    "\n",
    "**예시 1. 리스트의 처음 원소들을 영어 형태로 보여주는 함수**"
   ]
  },
  {
   "cell_type": "code",
   "execution_count": 15,
   "metadata": {
    "attributes": {
     "classes": [
      "haskell:",
      "hs"
     ],
     "id": "",
     "name": "\"code\""
    }
   },
   "outputs": [
    {
     "data": {
      "text/html": [
       "<style>/* Styles used for the Hoogle display in the pager */\n",
       ".hoogle-doc {\n",
       "display: block;\n",
       "padding-bottom: 1.3em;\n",
       "padding-left: 0.4em;\n",
       "}\n",
       ".hoogle-code {\n",
       "display: block;\n",
       "font-family: monospace;\n",
       "white-space: pre;\n",
       "}\n",
       ".hoogle-text {\n",
       "display: block;\n",
       "}\n",
       ".hoogle-name {\n",
       "color: green;\n",
       "font-weight: bold;\n",
       "}\n",
       ".hoogle-head {\n",
       "font-weight: bold;\n",
       "}\n",
       ".hoogle-sub {\n",
       "display: block;\n",
       "margin-left: 0.4em;\n",
       "}\n",
       ".hoogle-package {\n",
       "font-weight: bold;\n",
       "font-style: italic;\n",
       "}\n",
       ".hoogle-module {\n",
       "font-weight: bold;\n",
       "}\n",
       ".hoogle-class {\n",
       "font-weight: bold;\n",
       "}\n",
       ".get-type {\n",
       "color: green;\n",
       "font-weight: bold;\n",
       "font-family: monospace;\n",
       "display: block;\n",
       "white-space: pre-wrap;\n",
       "}\n",
       ".show-type {\n",
       "color: green;\n",
       "font-weight: bold;\n",
       "font-family: monospace;\n",
       "margin-left: 1em;\n",
       "}\n",
       ".mono {\n",
       "font-family: monospace;\n",
       "display: block;\n",
       "}\n",
       ".err-msg {\n",
       "color: red;\n",
       "font-style: italic;\n",
       "font-family: monospace;\n",
       "white-space: pre;\n",
       "display: block;\n",
       "}\n",
       "#unshowable {\n",
       "color: red;\n",
       "font-weight: bold;\n",
       "}\n",
       ".err-msg.in.collapse {\n",
       "padding-top: 0.7em;\n",
       "}\n",
       ".highlight-code {\n",
       "white-space: pre;\n",
       "font-family: monospace;\n",
       "}\n",
       ".suggestion-warning { \n",
       "font-weight: bold;\n",
       "color: rgb(200, 130, 0);\n",
       "}\n",
       ".suggestion-error { \n",
       "font-weight: bold;\n",
       "color: red;\n",
       "}\n",
       ".suggestion-name {\n",
       "font-weight: bold;\n",
       "}\n",
       "</style><div class=\"suggestion-name\" style=\"clear:both;\">Use list literal pattern</div><div class=\"suggestion-row\" style=\"float: left;\"><div class=\"suggestion-warning\">Found:</div><div class=\"highlight-code\" id=\"haskell\">(x : [])</div></div><div class=\"suggestion-row\" style=\"float: left;\"><div class=\"suggestion-warning\">Why Not:</div><div class=\"highlight-code\" id=\"haskell\">[x]</div></div><div class=\"suggestion-name\" style=\"clear:both;\">Use list literal pattern</div><div class=\"suggestion-row\" style=\"float: left;\"><div class=\"suggestion-warning\">Found:</div><div class=\"highlight-code\" id=\"haskell\">(x : y : [])</div></div><div class=\"suggestion-row\" style=\"float: left;\"><div class=\"suggestion-warning\">Why Not:</div><div class=\"highlight-code\" id=\"haskell\">[x, y]</div></div>"
      ],
      "text/plain": [
       "Line 3: Use list literal pattern\n",
       "Found:\n",
       "(x : [])\n",
       "Why not:\n",
       "[x]Line 4: Use list literal pattern\n",
       "Found:\n",
       "(x : y : [])\n",
       "Why not:\n",
       "[x, y]"
      ]
     },
     "metadata": {},
     "output_type": "display_data"
    }
   ],
   "source": [
    "tell :: (Show a) => [a] -> String\n",
    "tell [] = \"The list is empty\"\n",
    "tell (x:[]) = \"The list has one element: \" ++ show x\n",
    "tell (x:y:[]) = \"The list has two elements: \" ++ show x ++ \" and \" ++ show y\n",
    "tell (x:y:_) = \"This list is long. The first two elements are: \" ++ show x ++ \" and \" ++ show y"
   ]
  },
  {
   "cell_type": "markdown",
   "metadata": {},
   "source": [
    "* 이 함수는 텅 빈 리스트, 원소가 하나인 리스트, 두 개인 리스트, 그리고 두 개 이상의 리스트에 대해서 모두 확인\n",
    "* `(x:[])`와 `(x:y:[])`는 `[x]`, `[x,y]`로도 쓸 수 있음. 이 표현은 간략한 표기법이기 때문에, 소괄호는 사용할 필요 없음\n",
    "* `(x:y:_)`는 크기가 2 이상인 모든 종류의 리스트에 대응되기 때문에 대괄호를 사용하는 표기법으로 바꿔쓸 수 없음"
   ]
  },
  {
   "cell_type": "markdown",
   "metadata": {},
   "source": [
    "### 패턴 매칭과 재귀 함수"
   ]
  },
  {
   "cell_type": "markdown",
   "metadata": {},
   "source": [
    "**예시: 팩토리얼 함수**\n",
    "* `n!`은 `product [1..n]`으로 구현했었음\n",
    "* 팩토리얼 함수는 *재귀적(recursively)* 으로 정의 가능\n",
    "* 팩토리얼을 재귀적으로 정의할 때 `0! = 1`이라고 정의하는 걸로 시작\n",
    "* 어떤 양수의 팩토리얼은 그 정수와 그 정수보다 1 작은 수 팩토리얼의 곱으로 정의할 수 있음"
   ]
  },
  {
   "cell_type": "code",
   "execution_count": 3,
   "metadata": {
    "attributes": {
     "classes": [
      "haskell:",
      "hs"
     ],
     "id": "",
     "name": "\"code\""
    }
   },
   "outputs": [],
   "source": [
    "factorial :: (Integral a) => a -> a\n",
    "factorial 0 = 1\n",
    "factorial n = n * factorial (n - 1)"
   ]
  },
  {
   "cell_type": "markdown",
   "metadata": {},
   "source": [
    "* 3!를 구하려고 한다면 아래와 같은 과정을 거침:\n",
    "\n",
    "    ```haskell\n",
    "    3 * factorial 2 => 3 * (2 * factorial 1)\n",
    "                    => 3 * (2 * (1 * factorial 0))\n",
    "                    => 3 * (2 * (1 * 1))\n",
    "    ```\n",
    "    \n",
    "    * 첫 번째 패턴으로 `0! = 1`이라고 정의했으므로 `factorial 0 `은 1을 반환\n",
    "    * 만약 두 번째 패턴을 먼저 썼다면, 항상 0을 포함한 숫자들과 매칭되기 때문에 계산이 끝나지 않음\n",
    "    * 따라서 패턴을 매칭할 때는 순서가 중요함: 가장 명확한 것에 대한 패턴을 앞에 두고, 일반적인 것들에 대한 패턴을 나중에 두는 것이 좋은 방법"
   ]
  },
  {
   "cell_type": "markdown",
   "metadata": {},
   "source": [
    "**예시 2. 재귀와 패턴 매칭을 이용한 [`length`](https://hackage.haskell.org/package/base/docs/Prelude.html#v:length) 함수**"
   ]
  },
  {
   "cell_type": "code",
   "execution_count": 58,
   "metadata": {
    "attributes": {
     "classes": [
      "haskell:",
      "hs"
     ],
     "id": "",
     "name": "\"code\""
    }
   },
   "outputs": [],
   "source": [
    "length' :: (Num b) => [a] -> b\n",
    "length' [] = 0\n",
    "length' (_:xs) = 1 + length' xs"
   ]
  },
  {
   "cell_type": "markdown",
   "metadata": {},
   "source": [
    "* 이 코드는 앞서 작성한 팩토리얼 함수와 비슷\n",
    "\n",
    "* 첫 번째 패턴은 공리스트와 매칭되고 두 번째 패턴은 공리스트가 아닌 모든 패턴에 대해 매칭됨\n",
    "\n",
    "* 먼저 답이 알려진 입력(공리스트)에 대한 결과를 정의\n",
    "    * 이것을 경계 조건(edge condition)이라 함.\n",
    "    \n",
    "    \n",
    "* 두 번째 패턴에서는 리스트를 머리와 꼬리로 분리\n",
    "    * 두 번째 패턴은 어떤 리스트의 length는 1과 그 리스트의 꼬리의 length를 더한 값과 같다는 것을 의미\n",
    "    * 리스트의 머리를 함수에서 사용하지 않으므로 이걸 `_` 기호를 사용해 표시함\n",
    "    * 이 함수가 리스트에서 가능한 모든 종류의 패턴을 다루고 있다는 것도 참고\n",
    "    \n",
    "\n",
    "\n",
    "**예시 3. `\"ham\"`에서 `length'`을 호출한 경우**\n",
    "* 먼저, 공리스트인지 확인\n",
    "* 공리스트가 아니라면, 두 번째 패턴으로 이동\n",
    "* 두 번째 패턴과 매칭이 된다면 리스트의 길이를 `1 + length' \"am\"`라고 알려줌\n",
    "* 작동 과정:\n",
    "```haskell\n",
    "length' \"ham\" => 1 + length' \"am\"\n",
    "              => 1 + (1 + length' \"m\")\n",
    "              => 1 + (1 + (1 + length' \"\"))\n",
    "              => 1 + (1 + (1 + length' []))\n",
    "              => 1 + (1 + (1 + 0))\n",
    "```\n",
    "\n",
    "**예시 4. [`sum`](https://hackage.haskell.org/package/base/docs/Prelude.html#v:sum) 함수 구현**\n",
    "* 공리스트의 합은 0. 아래 코드셀에 이 패턴을 작성해놓음\n",
    "* 어떤 리스트의 원소의 합은 그 머리의 값과 리스트의 나머지 부분의 합으로 구할 수 있음\n",
    "* 위의 패턴을 코드로 작성해보면:"
   ]
  },
  {
   "cell_type": "code",
   "execution_count": 17,
   "metadata": {
    "attributes": {
     "classes": [
      "haskell:nogutter:nocontrols:hs"
     ],
     "id": "",
     "name": "\"code\""
    }
   },
   "outputs": [
    {
     "data": {
      "text/html": [
       "<style>/* Styles used for the Hoogle display in the pager */\n",
       ".hoogle-doc {\n",
       "display: block;\n",
       "padding-bottom: 1.3em;\n",
       "padding-left: 0.4em;\n",
       "}\n",
       ".hoogle-code {\n",
       "display: block;\n",
       "font-family: monospace;\n",
       "white-space: pre;\n",
       "}\n",
       ".hoogle-text {\n",
       "display: block;\n",
       "}\n",
       ".hoogle-name {\n",
       "color: green;\n",
       "font-weight: bold;\n",
       "}\n",
       ".hoogle-head {\n",
       "font-weight: bold;\n",
       "}\n",
       ".hoogle-sub {\n",
       "display: block;\n",
       "margin-left: 0.4em;\n",
       "}\n",
       ".hoogle-package {\n",
       "font-weight: bold;\n",
       "font-style: italic;\n",
       "}\n",
       ".hoogle-module {\n",
       "font-weight: bold;\n",
       "}\n",
       ".hoogle-class {\n",
       "font-weight: bold;\n",
       "}\n",
       ".get-type {\n",
       "color: green;\n",
       "font-weight: bold;\n",
       "font-family: monospace;\n",
       "display: block;\n",
       "white-space: pre-wrap;\n",
       "}\n",
       ".show-type {\n",
       "color: green;\n",
       "font-weight: bold;\n",
       "font-family: monospace;\n",
       "margin-left: 1em;\n",
       "}\n",
       ".mono {\n",
       "font-family: monospace;\n",
       "display: block;\n",
       "}\n",
       ".err-msg {\n",
       "color: red;\n",
       "font-style: italic;\n",
       "font-family: monospace;\n",
       "white-space: pre;\n",
       "display: block;\n",
       "}\n",
       "#unshowable {\n",
       "color: red;\n",
       "font-weight: bold;\n",
       "}\n",
       ".err-msg.in.collapse {\n",
       "padding-top: 0.7em;\n",
       "}\n",
       ".highlight-code {\n",
       "white-space: pre;\n",
       "font-family: monospace;\n",
       "}\n",
       ".suggestion-warning { \n",
       "font-weight: bold;\n",
       "color: rgb(200, 130, 0);\n",
       "}\n",
       ".suggestion-error { \n",
       "font-weight: bold;\n",
       "color: red;\n",
       "}\n",
       ".suggestion-name {\n",
       "font-weight: bold;\n",
       "}\n",
       "</style><div class=\"suggestion-name\" style=\"clear:both;\">Use foldr</div><div class=\"suggestion-row\" style=\"float: left;\"><div class=\"suggestion-warning\">Found:</div><div class=\"highlight-code\" id=\"haskell\">sum' [] = 0\n",
       "sum' (x : xs) = x + sum' xs</div></div><div class=\"suggestion-row\" style=\"float: left;\"><div class=\"suggestion-warning\">Why Not:</div><div class=\"highlight-code\" id=\"haskell\">sum' xs = foldr (+) 0 xs</div></div>"
      ],
      "text/plain": [
       "Line 2: Use foldr\n",
       "Found:\n",
       "sum' [] = 0\n",
       "sum' (x : xs) = x + sum' xs\n",
       "Why not:\n",
       "sum' xs = foldr (+) 0 xs"
      ]
     },
     "metadata": {},
     "output_type": "display_data"
    }
   ],
   "source": [
    "sum' :: (Num a) => [a] -> a\n",
    "sum' [] = 0\n",
    "sum' (x:xs) = x + sum' xs"
   ]
  },
  {
   "cell_type": "markdown",
   "metadata": {},
   "source": [
    "### 패턴들(as patterns)\n",
    "* 패턴들은 전체에 대한 이름을 유지하면서 그걸 패턴에 따라 분리해 여러 개의 변수로 사용하고 싶을 때 유용한 방법\n",
    "* 패턴의 앞에 이름과 `@`를 붙이는 것으로 이 방법을 사용 가능\n",
    "    * 예: `xs@(x:y:ys)`. 이 패턴은 `x:y:ys`와 정확히 매칭됨. 함수의 본체에 리스트 전체에 대한 참조를 `x:y:ys`로 반복적으로 작성하는 대신 `xs`로 작성하면 됨\n",
    "\n",
    "**예시**"
   ]
  },
  {
   "cell_type": "code",
   "execution_count": 18,
   "metadata": {
    "attributes": {
     "classes": [
      "haskell:nogutter:nocontrols:hs"
     ],
     "id": "",
     "name": "\"code\""
    }
   },
   "outputs": [],
   "source": [
    "capital :: String -> String\n",
    "capital \"\" = \"Empty string, whoops!\"\n",
    "capital all@(x:xs) = \"The first letter of \" ++ all ++ \" is \" ++ [x]"
   ]
  },
  {
   "cell_type": "code",
   "execution_count": 19,
   "metadata": {
    "attributes": {
     "classes": [
      "haskell:ghci"
     ],
     "id": "",
     "name": "\"code\""
    }
   },
   "outputs": [
    {
     "data": {
      "text/plain": [
       "\"The first letter of Dracula is D\""
      ]
     },
     "metadata": {},
     "output_type": "display_data"
    }
   ],
   "source": [
    "capital \"Dracula\""
   ]
  },
  {
   "cell_type": "markdown",
   "metadata": {},
   "source": [
    "* 일반적으로 큰 패턴에 대해 다시 매칭할 때 함수 본체에서 해당 개체 전체를 다시 쓸 필요가 없으므로 패턴 전체를 다시 반복해서 쓰는 걸 피하고 싶을 때 패턴들(patterns)을 사용\n",
    "\n",
    "### 패턴 매칭에서 사용 불가능한 연산자\n",
    "* 패턴 매칭에서는 [`++`](https://hackage.haskell.org/package/base/docs/Prelude.html#v:-43--43-)는 사용할 수 없음.\n",
    "    * 이유: `(xs ++ ys)`를 매칭하려한다면, 리스트의 어디까지가 `xs`이고 `ys`인지 알 수 없기 때문\n",
    "    * `(xs ++ ys)`를 매칭하고 싶다면, `(xs ++ [x,y,z])` 혹은 `(xs ++ [x])`로 작성해야함. 하지만 리스트의 특성 때문에 이렇게는 사용할 수 없음."
   ]
  },
  {
   "cell_type": "markdown",
   "metadata": {},
   "source": [
    "# 2. 가드(Guards)\n",
    "---------------\n",
    "* 패턴이 값을 특정 형태에 맞는지 확인하고 그걸 분해하는 방법이라면, 가드(Guards)는 값의 특정 성질(들)이 참인지 혹은 거짓인지 판단하는 방법\n",
    "* if 표현식과 비슷함. 가드는 여러 개의 조건을 쓸 때 훨씬 가독성이 좋고 패턴과 같이 사용하기도 함.\n",
    "\n",
    "**예시 1. [BMI](http://en.wikipedia.org/wiki/Body_mass_index) 지수에 따라 다른 멘트를 출력해주는 함수**\n",
    "* BMI 지수는 몸무게를 키의 제곱근으로 나눈 값\n",
    "* BMI가 18.5보다 작다면 \"You're underweight, you emo, you!\", 18.5에서 25사이면 \"You're supposedly normal. Pffft, I bet you're ugly!\", 25에서 30은 \"You're fat! Lose some weight, fatty!\", 30 이상은 \"You're a whale, congratulations!\"으로 출력해줌\n",
    "    * BMI는 지금 계산하지 않음. 아래 함수는 BMI 지수를 받아와 값에 따른 결과를 출력해줌"
   ]
  },
  {
   "cell_type": "code",
   "execution_count": 20,
   "metadata": {
    "attributes": {
     "classes": [
      "haskell:hs"
     ],
     "id": "",
     "name": "\"code\""
    }
   },
   "outputs": [],
   "source": [
    "bmiTell :: (RealFloat a) => a -> String\n",
    "bmiTell bmi\n",
    "    | bmi <= 18.5 = \"You're underweight, you emo, you!\"\n",
    "    | bmi <= 25.0 = \"You're supposedly normal. Pffft, I bet you're ugly!\"\n",
    "    | bmi <= 30.0 = \"You're fat! Lose some weight, fatty!\"\n",
    "    | otherwise   = \"You're a whale, congratulations!\""
   ]
  },
  {
   "cell_type": "markdown",
   "metadata": {},
   "source": [
    "### 가드 사용법\n",
    "* 가드는 함수 이름과 인자 다음에 파이프(`|`)를 사용해 나타냄\n",
    "* 보통 가드는 오른쪽으로 조금 인덴트(indent)를 준 다음 줄을 세워 표현\n",
    "* 가드는 기본적으로 논리 표현식임.\n",
    "    * 가드가 [`True`](https://hackage.haskell.org/package/base/docs/Prelude.html#v:True)로 평가되면, 거기에 부합되는 함수의 본체가 실행됨\n",
    "    * 가드가 [`False`](https://hackage.haskell.org/package/base/docs/Prelude.html#v:False)로 평가되면, 다음 가드로 이동해서 평가하고 이 과정이 반복됨\n",
    "    \n",
    "    \n",
    "* 만약 위 함수에서 24.3이라는 인자를 호출하면, 우선 18.5 이하인지 검사하고 결과 값이 `False`이므로 다음 가드로 이동해서 평가. 두 번째 가드에서는 25 이하인지 검사하고 결과 값이 `True`이므로 두 번째 가드의 문자열이 반환됨\n",
    "\n",
    "* 가드는 명령형 언어에서의 if-else문을 대체해주기 좋은 구문\n",
    "    * 가드가 if-else문보다 가독성이 좋음\n",
    "    \n",
    "    \n",
    "* 대부분의 경우 맨 마지막 가드는 [`otherwise`](https://hackage.haskell.org/package/base/docs/Prelude.html#v:otherwise)로 구성됨.\n",
    "    * [`otherwise`](https://hackage.haskell.org/package/base/docs/Prelude.html#v:otherwise)는 단순히 `otherwise = True`로 정의되어 있어 모든 경우를 잡아냄\n",
    "\n",
    "\n",
    "* 패턴이랑 매우 유사하지만, 패턴 매칭이 주어진 입력이 패턴을 만족하는지 검사한다면 가드는 논리 조건식을 검사함\n",
    "\n",
    "* 패턴과 가드는 서로 함께 작동함. 만약 어떤 적합한 가드도 패턴도 없다면 에러가 발생함.\n",
    "    * 함수의 모든 가드가 [`False`](https://hackage.haskell.org/package/base/docs/Prelude.html#v:False)로 평가된다면(모든 경우를 잡아내는 [`otherwise`](https://hackage.haskell.org/package/base/docs/Prelude.html#v:otherwise) 가드를 만들지 않은 경우), 평가는 실패하고 다음 패턴으로 넘어가게 됨\n",
    "\n",
    "\n",
    "* 가드는 여러 개의 인자를 가진 함수에서도 사용할 수 있음. \n",
    "\n",
    "**예시 2. BMI 지수에 따라 다른 멘트를 출력해주는 함수 2**\n",
    "* 키와 몸무게를 받아와 BMI를 계산해주는 기능을 포함하도록 함수를 수정함."
   ]
  },
  {
   "cell_type": "code",
   "execution_count": 21,
   "metadata": {
    "attributes": {
     "classes": [
      "haskell:hs"
     ],
     "id": "",
     "name": "\"code\""
    }
   },
   "outputs": [],
   "source": [
    "bmiTell :: (RealFloat a) => a -> a -> String\n",
    "bmiTell weight height\n",
    "    | weight / height ^ 2 <= 18.5 = \"You're underweight, you emo, you!\"\n",
    "    | weight / height ^ 2 <= 25.0 = \"You're supposedly normal. Pffft, I bet you're ugly!\"\n",
    "    | weight / height ^ 2 <= 30.0 = \"You're fat! Lose some weight, fatty!\"\n",
    "    | otherwise                 = \"You're a whale, congratulations!\""
   ]
  },
  {
   "cell_type": "code",
   "execution_count": 22,
   "metadata": {
    "attributes": {
     "classes": [
      "haskell:ghci"
     ],
     "id": "",
     "name": "\"code\""
    }
   },
   "outputs": [
    {
     "data": {
      "text/plain": [
       "\"You're supposedly normal. Pffft, I bet you're ugly!\""
      ]
     },
     "metadata": {},
     "output_type": "display_data"
    }
   ],
   "source": [
    "bmiTell 85 1.90"
   ]
  },
  {
   "cell_type": "markdown",
   "metadata": {},
   "source": [
    "Yay! I'm not fat! But Haskell just called me ugly. Whatever!\n",
    "\n",
    "* 가드를 사용할 때 함수 이름과 인자 바로 옆에 `=`가 붙지 않는다는 것에 주의할 것\n",
    "\n",
    "**예시 3.[`max`](https://hackage.haskell.org/package/base/docs/Prelude.html#v:max) 함수**\n",
    "* `max` 함수는 비교될 수 있는 두 개의 인자를 받아서 그 중 더 큰 값을 반환"
   ]
  },
  {
   "cell_type": "code",
   "execution_count": 23,
   "metadata": {
    "attributes": {
     "classes": [
      "haskell:hs"
     ],
     "id": "",
     "name": "\"code\""
    }
   },
   "outputs": [],
   "source": [
    "max' :: (Ord a) => a -> a -> a\n",
    "max' a b\n",
    "    | a > b     = a\n",
    "    | otherwise = b"
   ]
  },
  {
   "cell_type": "markdown",
   "metadata": {},
   "source": [
    "가드는 한 줄로도 표현 가능함\n",
    "* 가독성이 떨어지기 때문에, 정말 짧은 함수가 아니라면 사용하지 않는 것이 좋음\n",
    "\n",
    "* `max` 함수를 한 줄로 쓴다면 아래처럼 표현 가능:"
   ]
  },
  {
   "cell_type": "code",
   "execution_count": 24,
   "metadata": {
    "attributes": {
     "classes": [
      "haskell:hs"
     ],
     "id": "",
     "name": "\"code\""
    }
   },
   "outputs": [],
   "source": [
    "max' :: (Ord a) => a -> a -> a\n",
    "max' a b | a > b = a | otherwise = b"
   ]
  },
  {
   "cell_type": "markdown",
   "metadata": {},
   "source": [
    "**예제 4. [`compare`](https://hackage.haskell.org/package/base/docs/Prelude.html#v:compare)**\n",
    "* 가드를 사용해\n",
    "[`compare`](https://hackage.haskell.org/package/base/docs/Prelude.html#v:compare)를 구현"
   ]
  },
  {
   "cell_type": "code",
   "execution_count": 25,
   "metadata": {
    "attributes": {
     "classes": [
      "haskell:hs"
     ],
     "id": "",
     "name": "\"code\""
    }
   },
   "outputs": [],
   "source": [
    "myCompare :: (Ord a) => a -> a -> Ordering\n",
    "a `myCompare` b\n",
    "    | a > b     = GT\n",
    "    | a == b    = EQ\n",
    "    | otherwise = LT"
   ]
  },
  {
   "cell_type": "code",
   "execution_count": 26,
   "metadata": {
    "attributes": {
     "classes": [
      "haskell:hs"
     ],
     "id": "",
     "name": "\"code\""
    }
   },
   "outputs": [
    {
     "data": {
      "text/plain": [
       "GT"
      ]
     },
     "metadata": {},
     "output_type": "display_data"
    }
   ],
   "source": [
    "3 `myCompare` 2"
   ]
  },
  {
   "cell_type": "markdown",
   "metadata": {},
   "source": [
    "> __주의:__ 백틱 기호를 이용해 함수를 중위 호출할 수 있을 뿐만 아니라, 백틱을 이용해 중위 함수로도 정의할 수 있음. 때론 이것이 가독성이 더 좋음"
   ]
  },
  {
   "cell_type": "markdown",
   "metadata": {},
   "source": [
    "# 3. 키워드 Where\n",
    "-------\n",
    "이전 섹션에서, BMI 계산 함수를 정의했음"
   ]
  },
  {
   "cell_type": "code",
   "execution_count": 27,
   "metadata": {
    "attributes": {
     "classes": [
      "haskell:hs"
     ],
     "id": "",
     "name": "\"code\""
    }
   },
   "outputs": [],
   "source": [
    "bmiTell :: (RealFloat a) => a -> a -> String\n",
    "bmiTell weight height\n",
    "    | weight / height ^ 2 <= 18.5 = \"You're underweight, you emo, you!\"\n",
    "    | weight / height ^ 2 <= 25.0 = \"You're supposedly normal. Pffft, I bet you're ugly!\"\n",
    "    | weight / height ^ 2 <= 30.0 = \"You're fat! Lose some weight, fatty!\"\n",
    "    | otherwise                   = \"You're a whale, congratulations!\""
   ]
  },
  {
   "cell_type": "markdown",
   "metadata": {},
   "source": [
    "* 이 함수는 같은 과정을 3번이나 반복함\n",
    "* 같은 표현식이 세 번이나 반복되므로, 한 번만 계산한 다음 이 값에 이름을 붙여 표현식 대신에 사용하는 것이 좋음\n",
    "* 함수를 수정해보면:"
   ]
  },
  {
   "cell_type": "code",
   "execution_count": 28,
   "metadata": {
    "attributes": {
     "classes": [
      "haskell:hs"
     ],
     "id": "",
     "name": "\"code\""
    }
   },
   "outputs": [],
   "source": [
    "bmiTell :: (RealFloat a) => a -> a -> String\n",
    "bmiTell weight height\n",
    "    | bmi <= 18.5 = \"You're underweight, you emo, you!\"\n",
    "    | bmi <= 25.0 = \"You're supposedly normal. Pffft, I bet you're ugly!\"\n",
    "    | bmi <= 30.0 = \"You're fat! Lose some weight, fatty!\"\n",
    "    | otherwise   = \"You're a whale, congratulations!\"\n",
    "    where bmi = weight / height ^ 2"
   ]
  },
  {
   "cell_type": "markdown",
   "metadata": {},
   "source": [
    "### where 사용법\n",
    "* 키워드 `where`은 가드 뒤에 붙임.\n",
    "    * `where`은 pipe의 인덴트와 동일한만큼의 인덴트를 주는 것이 좋음\n",
    "    \n",
    "    \n",
    "* `where`에서 여러 개의 이름이나 함수를 정의할 수 있음\n",
    "    * 정의된 이름들은 가드 전체에서 사용할 수 있고, 같은 것을 반복하지 않도록 해줌\n",
    "    \n",
    "    \n",
    "* 위의 예시에서 BMI를 다른 방식으로 계산하고 싶다면, `where` 뒤에 있는 공식을 한 번만 바꿔주면 됨.\n",
    "* 특정한 개체에 이름을 붙임으로써 가독성을 높이고, `bmi` 같은 변수가 한 번만 계산되게 함으로써, 프로그램의 속도를 빠르게 만들어줌\n",
    "* 함수를 아래처럼 표현할 수 있음:"
   ]
  },
  {
   "cell_type": "code",
   "execution_count": 29,
   "metadata": {
    "attributes": {
     "classes": [
      "haskell:hs"
     ],
     "id": "",
     "name": "\"code\""
    }
   },
   "outputs": [],
   "source": [
    "bmiTell :: (RealFloat a) => a -> a -> String\n",
    "bmiTell weight height\n",
    "    | bmi <= skinny = \"You're underweight, you emo, you!\"\n",
    "    | bmi <= normal = \"You're supposedly normal. Pffft, I bet you're ugly!\"\n",
    "    | bmi <= fat    = \"You're fat! Lose some weight, fatty!\"\n",
    "    | otherwise     = \"You're a whale, congratulations!\"\n",
    "    where bmi = weight / height ^ 2\n",
    "          skinny = 18.5\n",
    "          normal = 25.0\n",
    "          fat = 30.0"
   ]
  },
  {
   "cell_type": "markdown",
   "metadata": {},
   "source": [
    "* 어떤 함수의 where 절에서 정의된 이름들은 그 함수 내에서만 사용 가능\n",
    "* 모든 이름들이 같은 줄에 맞춰서 정렬되있어야 함\n",
    "    * 같은 줄에 맞추지 않으면, 하스켈은 어디서 어디까지가 같은 블록의 일부인지를 알 수 없음"
   ]
  },
  {
   "cell_type": "markdown",
   "metadata": {},
   "source": [
    "### where 특징\n",
    "* *where* 절은 함수의 서로 다른 패턴까지 공유되지 않음\n",
    "    * 한 함수 내에 여러 개의 패턴에서 공유되는 이름을 만들고 싶다면, 이름을 전역적인 공간에서 정의해야 함\n",
    "    \n",
    "    \n",
    "* where 절에서도 패턴 매칭을 사용할 수 있음\n",
    "    * 위의 함수를 패턴 매칭을 활용해 표현해보면: "
   ]
  },
  {
   "cell_type": "raw",
   "metadata": {
    "attributes": {
     "classes": [
      "haskell:hs"
     ],
     "id": "",
     "name": "\"code\""
    }
   },
   "source": [
    "...\n",
    "    where bmi = weight / height ^ 2\n",
    "          (skinny, normal, fat) = (18.5, 25.0, 30.0)"
   ]
  },
  {
   "cell_type": "markdown",
   "metadata": {},
   "source": [
    "**예시 1. 사람의 성과 이름을 받아 이니셜을 돌려주는 함수**"
   ]
  },
  {
   "cell_type": "code",
   "execution_count": 30,
   "metadata": {
    "attributes": {
     "classes": [
      "haskell:hs"
     ],
     "id": "",
     "name": "\"code\""
    }
   },
   "outputs": [],
   "source": [
    "initials :: String -> String -> String\n",
    "initials firstname lastname = [f] ++ \". \" ++ [l] ++ \".\"\n",
    "    where (f:_) = firstname\n",
    "          (l:_) = lastname"
   ]
  },
  {
   "cell_type": "markdown",
   "metadata": {},
   "source": [
    "* 패턴 매칭을 함수의 인자에서 직접적으로 수행할 수 있음\n",
    "    * 이렇게 표현하면 더 짧고 직관적임\n",
    "\n",
    "\n",
    "* where 절에서 상수를 정의한 것처럼, 함수도 정의 가능\n",
    "\n",
    "**예시 2. BMI의 리스트를 반환하는 함수**\n",
    "* 몸무게와 키를 항목으로 가지는 튜플의 리스트를 받아와 BMI의 리스트를 반환해주는 함수"
   ]
  },
  {
   "cell_type": "code",
   "execution_count": 31,
   "metadata": {
    "attributes": {
     "classes": [
      "haskell:hs"
     ],
     "id": "",
     "name": "\"code\""
    }
   },
   "outputs": [],
   "source": [
    "calcBmis :: (RealFloat a) => [(a, a)] -> [a]\n",
    "calcBmis xs = [bmi w h | (w, h) <- xs]\n",
    "    where bmi weight height = weight / height ^ 2"
   ]
  },
  {
   "cell_type": "markdown",
   "metadata": {},
   "source": [
    "* `bmi`를 함수의 인자로 소개한 이유는, 함수의 인자로부터 하나의 BMI를 계산할 수 없기 때문. 함수에서 넘어온 인자를 조사해 모든 튜플에 대해 서로 다른 BMI를 각각 계산해야 함."
   ]
  },
  {
   "cell_type": "markdown",
   "metadata": {},
   "source": [
    "### where 절 중첩 사용\n",
    "* where 절 또한 중첩해서 사용 가능\n",
    "* 함수를 만들 땐 도우미 함수(helper function)를 그 함수의 where 절로 만들고, 도우미 함수가 잘 작동하기 위한 도우미 함수를 다시 그 함수의 where 절에 정의할 수 있음"
   ]
  },
  {
   "cell_type": "markdown",
   "metadata": {},
   "source": [
    "# 4. let\n",
    "---------\n",
    "* let 절은 where 절과 굉장히 비슷함.\n",
    "    * where 절은 함수의 맨 마지막에서 변수를 묶을 수 있고(bind) 그것을 모든 가드를 포함한 전체 함수 정의에서 사용할 수 있는 구문론적 구조\n",
    "    * let 절은 어디서든 표현식과 변수를 묶을 수 있게 해주지만, 굉장히 지역적이므로 가든 전체에서 사용하지는 못함\n",
    "    \n",
    "    \n",
    "* 하스켈에 있는 값을 그 이름과 묶기 위한 용도로 사용되는 다른 구조들과 마찬가지로, let 바인딩은 패턴 매칭을 위해 사용될 수 있음\n",
    "\n",
    "**예시 1. 원기둥의 겉넓이를 구하는 함수**\n",
    "* 원기둥의 높이와 반지름을 이용해서 원기둥의 겉넓이를 구해주는 함수"
   ]
  },
  {
   "cell_type": "code",
   "execution_count": 32,
   "metadata": {
    "attributes": {
     "classes": [
      "haskell:hs"
     ],
     "id": "",
     "name": "\"code\""
    }
   },
   "outputs": [],
   "source": [
    "cylinder :: (RealFloat a) => a -> a -> a\n",
    "cylinder r h =\n",
    "    let sideArea = 2 * pi * r * h\n",
    "        topArea = pi * r ^2\n",
    "    in  sideArea + 2 * topArea"
   ]
  },
  {
   "cell_type": "markdown",
   "metadata": {},
   "source": [
    "### let의 형태\n",
    "* 기본적인 형태: `let <bindings> in <expression>`\n",
    "* *let* 부분에서 정의한 이름은 *in* 이후 부분에서 나오는 표현식에서 사용 가능\n",
    "* *where* 절을 이용해서도 구현할 수 있음\n",
    "* 이름들이 같은 줄에 맞춰서 정렬되어 있어야함\n",
    "\n",
    "### where과 let 절의 차이점\n",
    "1. *let* 절은 값과 변수를 묶는 작업을 먼저 하고 묶인 변수가 쓰이는 표현식이 나중에 나오는 반면 *where* 절은 순서가 반대\n",
    "2. *let* 절은 그 자체로 표현식이고 *where* 절은 구문론적인 구문임\n",
    "    * if 구문에서 if 구문은 표현식이기 때문에 어디서든 사용 가능했던 것처럼 let 절에서도 똑같이 가능"
   ]
  },
  {
   "cell_type": "code",
   "execution_count": 33,
   "metadata": {
    "attributes": {
     "classes": [
      "haskell:ghci"
     ],
     "id": "",
     "name": "\"code\""
    }
   },
   "outputs": [
    {
     "data": {
      "text/plain": [
       "[\"Woo\",\"Bar\"]"
      ]
     },
     "metadata": {},
     "output_type": "display_data"
    }
   ],
   "source": [
    "[if 5 > 3 then \"Woo\" else \"Boo\", if 'a' > 'b' then \"Foo\" else \"Bar\"]"
   ]
  },
  {
   "cell_type": "code",
   "execution_count": 34,
   "metadata": {
    "attributes": {
     "classes": [
      "haskell:ghci"
     ],
     "id": "",
     "name": "\"code\""
    }
   },
   "outputs": [
    {
     "data": {
      "text/plain": [
       "42"
      ]
     },
     "metadata": {},
     "output_type": "display_data"
    }
   ],
   "source": [
    "4 * (if 10 > 5 then 10 else 0) + 2"
   ]
  },
  {
   "cell_type": "code",
   "execution_count": 35,
   "metadata": {
    "attributes": {
     "classes": [
      "haskell:ghci"
     ],
     "id": "",
     "name": "\"code\""
    }
   },
   "outputs": [
    {
     "data": {
      "text/plain": [
       "42"
      ]
     },
     "metadata": {},
     "output_type": "display_data"
    }
   ],
   "source": [
    "4 * (let a = 9 in a + 1) + 2"
   ]
  },
  {
   "cell_type": "markdown",
   "metadata": {},
   "source": [
    "### let 절의 특징\n",
    "* let 절은 지역적인 범위에서 쓰이는 함수를 만들 때에도 사용"
   ]
  },
  {
   "cell_type": "code",
   "execution_count": 36,
   "metadata": {
    "attributes": {
     "classes": [
      "haskell:ghci"
     ],
     "id": "",
     "name": "\"code\""
    }
   },
   "outputs": [
    {
     "data": {
      "text/plain": [
       "[(25,9,4)]"
      ]
     },
     "metadata": {},
     "output_type": "display_data"
    }
   ],
   "source": [
    "[let square x = x * x in (square 5, square 3, square 2)]"
   ]
  },
  {
   "cell_type": "markdown",
   "metadata": {},
   "source": [
    "* 한 줄에 여러 개의 변수를 묶고 싶다면, 줄을 맞추기 않아도 되지만 세미콜론(;)으로 구분해야함"
   ]
  },
  {
   "cell_type": "code",
   "execution_count": 37,
   "metadata": {
    "attributes": {
     "classes": [
      "haskell:ghci"
     ],
     "id": "",
     "name": "\"code\""
    }
   },
   "outputs": [
    {
     "data": {
      "text/plain": [
       "(6000000,\"Hey there!\")"
      ]
     },
     "metadata": {},
     "output_type": "display_data"
    }
   ],
   "source": [
    "(let a = 100; b = 200; c = 300 in a*b*c, let foo=\"Hey \"; bar = \"there!\" in foo ++ bar)"
   ]
  },
  {
   "cell_type": "markdown",
   "metadata": {},
   "source": [
    "* 마지막 바인딩 뒤에는 세미콜론을 붙일 필요 없지만, 붙여도 상관 없음\n",
    "\n",
    "* let 바인딩과 함께 패턴 매칭을 사용할 수 있음\n",
    "    * 튜플을 항목들로 빠르게 분해해서 이름을 붙이는 것 같은 작업에 굉장히 유용함"
   ]
  },
  {
   "cell_type": "code",
   "execution_count": 38,
   "metadata": {
    "attributes": {
     "classes": [
      "haskell:ghci"
     ],
     "id": "",
     "name": "\"code\""
    }
   },
   "outputs": [
    {
     "data": {
      "text/plain": [
       "600"
      ]
     },
     "metadata": {},
     "output_type": "display_data"
    }
   ],
   "source": [
    "(let (a,b,c) = (1,2,3) in a+b+c) * 100"
   ]
  },
  {
   "cell_type": "markdown",
   "metadata": {},
   "source": [
    "* *let* 절은 리스트 조건 제시법에서도 사용 가능\n",
    "\n",
    "**예시 2. BMI 계산 함수**\n",
    "* 몸무게와 키를 항목으로 가지는 튜플의 리스트를 받아서 BMI를 계산하는 이전의 예제를 *where* 절에서 보조 함수를 정의해서 쓰는 대신 리스트 조건 제시법 안에서 *let*절을 이용하도록 수정"
   ]
  },
  {
   "cell_type": "code",
   "execution_count": 39,
   "metadata": {
    "attributes": {
     "classes": [
      "haskell:hs"
     ],
     "id": "",
     "name": "\"code\""
    }
   },
   "outputs": [],
   "source": [
    "calcBmis :: (RealFloat a) => [(a, a)] -> [a]\n",
    "calcBmis xs = [bmi | (w, h) <- xs, let bmi = w / h ^ 2]"
   ]
  },
  {
   "cell_type": "markdown",
   "metadata": {},
   "source": [
    "* *let* 절을 리스트 조건 제시법에서 술어를 쓰듯이 포함시킬 수 있음\n",
    "    * 이 경우 리스트를 필터링하지 않음. 이름과 값을 묶는 역할만 수행\n",
    "    \n",
    "    \n",
    "* 리스트 조건 제시법의 내부의 *let*절에서 정의된 이름들은 출력 함수(파이프(|) 전부분)와 해당 바인딩(let 절) 이후에 오는 섹션들, 술어들에서만 사용할 수 있음\n",
    "* 따라서 위 함수를 뚱뚱한 사람들의 BMI만 반환하도록 만들 수 있음"
   ]
  },
  {
   "cell_type": "code",
   "execution_count": 40,
   "metadata": {
    "attributes": {
     "classes": [
      "haskell:hs"
     ],
     "id": "",
     "name": "\"code\""
    }
   },
   "outputs": [],
   "source": [
    "calcBmis :: (RealFloat a) => [(a, a)] -> [a]\n",
    "calcBmis xs = [bmi | (w, h) <- xs, let bmi = w / h ^ 2, bmi >= 25.0]"
   ]
  },
  {
   "cell_type": "markdown",
   "metadata": {},
   "source": [
    "* `bmi`라는 이름을 `(w, h) <- xs` 부분에서는 사용할 수 없음.\n",
    "    * 이유: *let* 절보다 앞에서 정의됐기 때문\n",
    "    \n",
    "\n",
    "* *let* 절을 리스트 조건 제시법에서 사용할 때 해당 이름이 사용되는 범위가 리스트 내부로 이미 정의되어 있기 때문에 `in`을 빼먹어도 상관없음\n",
    "* 하지만, 술어에서 *let in* 절을 사용할 수도 있고, 이렇게 되면 *let* 절에서 정의된 이름들은 해당 술어부에서만 사용할 수 있음\n",
    "* *in* 부분은 GHCI에서 함수나 상수를 직접 정의할 때 빼먹을 수 있음. 그렇게 되면, 이 이름들은 전체 상호작용 세션 내내 사용 가능하게 됨"
   ]
  },
  {
   "cell_type": "code",
   "execution_count": 41,
   "metadata": {
    "attributes": {
     "classes": [
      "haskell:ghci"
     ],
     "id": "",
     "name": "\"code\""
    }
   },
   "outputs": [],
   "source": [
    "let zoot x y z = x * y + z"
   ]
  },
  {
   "cell_type": "code",
   "execution_count": 42,
   "metadata": {
    "attributes": {
     "classes": [
      "haskell:ghci"
     ],
     "id": "",
     "name": "\"code\""
    }
   },
   "outputs": [
    {
     "data": {
      "text/plain": [
       "29"
      ]
     },
     "metadata": {},
     "output_type": "display_data"
    }
   ],
   "source": [
    "zoot 3 9 2"
   ]
  },
  {
   "cell_type": "code",
   "execution_count": 43,
   "metadata": {
    "attributes": {
     "classes": [
      "haskell:ghci"
     ],
     "id": "",
     "name": "\"code\""
    }
   },
   "outputs": [
    {
     "data": {
      "text/plain": [
       "14"
      ]
     },
     "metadata": {},
     "output_type": "display_data"
    }
   ],
   "source": [
    "let boot x y z = x * y + z in boot 3 4 2"
   ]
  },
  {
   "cell_type": "code",
   "execution_count": 44,
   "metadata": {
    "attributes": {
     "classes": [
      "haskell:ghci"
     ],
     "id": "",
     "name": "\"code\""
    }
   },
   "outputs": [
    {
     "ename": "",
     "evalue": "",
     "output_type": "error",
     "traceback": [
      "<interactive>:1:1: error:\n    • Variable not in scope: boot\n    • Perhaps you meant ‘zoot’ (line 1)"
     ]
    }
   ],
   "source": [
    "boot"
   ]
  },
  {
   "cell_type": "markdown",
   "metadata": {},
   "source": [
    "### where 절을 사용하는 이유\n",
    "* *let* 절이 편리하지만, 모든 *where* 절 대신 *let* 절을 사용하지 않는 이유:\n",
    "    * *let* 절은 표현식이고 굉장히 지역적이기 때문에, 모든 가드 내에서 통용되어 사용할 수 없음\n",
    "\n",
    "\n",
    "* *where* 절이 이름을 쓰는 부분이 정의하는 부분보다 함수에서 앞에 있기 때문에 `where` 절을 선호함\n",
    "\n",
    "* `where` 절을 사용하면, 함수의 본체가 함수의 이름과 유형 선언에 더 가까워지고 이것이 가독성이 좋아 보임"
   ]
  },
  {
   "cell_type": "markdown",
   "metadata": {},
   "source": [
    "# 5. 케이스 표현식(Case expressions)\n",
    "----------------\n",
    "* 많은 명령형 언어(C, C++, Java 등등)는 case 구문을 갖고 있음\n",
    "    * case 구문은 어떤 변수를 받아 해당 변수의 특정한 값에 대해 수행하는 코드 블록들을 만들어 놓은 것\n",
    "    \n",
    "    \n",
    "* 하스켈은 이 개념을 받아 한 단계 업그레이드 시킴\n",
    "    * 케이스 표현식은 if else 표현식이나 let 절과 마찬가지로 표현식임\n",
    "\n",
    "\n",
    "* 값이 가능한 경우에 기반해서 평가하는 표현식일 뿐만 아니라, 매턴 매칭도 가능\n",
    "\n",
    "* 함수 정의에서 인자에 따라 패턴 매칭하는 것과 똑같이 변수를 취해서, 패턴 매칭을 하고, 그 값에 따라서 코드 조각을 평가함\n",
    "    * 함수 정의는 케이스 표현식의 간략화된 표현\n",
    "\n",
    "\n",
    "* 아래 두 코드 조각은 완전히 같고 서로 바꿔쓸 수 있음"
   ]
  },
  {
   "cell_type": "code",
   "execution_count": 45,
   "metadata": {
    "attributes": {
     "classes": [
      "haskell:hs"
     ],
     "id": "",
     "name": "\"code\""
    }
   },
   "outputs": [],
   "source": [
    "head' :: [a] -> a\n",
    "head' [] = error \"No head for empty lists!\"\n",
    "head' (x:_) = x"
   ]
  },
  {
   "cell_type": "code",
   "execution_count": 46,
   "metadata": {
    "attributes": {
     "classes": [
      "haskell:hs"
     ],
     "id": "",
     "name": "\"code\""
    }
   },
   "outputs": [],
   "source": [
    "head' :: [a] -> a\n",
    "head' xs = case xs of [] -> error \"No head for empty lists!\"\n",
    "                      (x:_) -> x"
   ]
  },
  {
   "cell_type": "markdown",
   "metadata": {},
   "source": [
    "### 케이스 표현식 구문\n",
    "* 케이스 표현식 구문은 굉장히 단순함"
   ]
  },
  {
   "cell_type": "raw",
   "metadata": {
    "attributes": {
     "classes": [
      "haskell:hs"
     ],
     "id": "",
     "name": "\"code\""
    }
   },
   "source": [
    "case expression of pattern -> result\n",
    "                   pattern -> result\n",
    "                   pattern -> result\n",
    "                   ..."
   ]
  },
  {
   "cell_type": "markdown",
   "metadata": {},
   "source": [
    "* `expression`은 패턴에 대응해서 매칭됨\n",
    "* 패턴 매칭은 예측한 것 그대로 동작함\n",
    "    * 첫 번째 패턴이 표현식과 매칭되는지 확인하고, 아닐 경우 두 번째, 세 번째.. 패턴으로 넘어가면서 매칭되는지 확인. 맞는 패턴이 없다면 런타임 에러가 발생함\n",
    "    \n",
    "\n",
    "* 함수 인자에서의 패턴 매칭이 함수를 정의하는 것에만 사용될 수 있는 반면에, 케이스 표현식은 거의 어디에서든 사용가능 함. 예시를 살펴보면:"
   ]
  },
  {
   "cell_type": "code",
   "execution_count": 47,
   "metadata": {
    "attributes": {
     "classes": [
      "haskell:hs"
     ],
     "id": "",
     "name": "\"code\""
    }
   },
   "outputs": [],
   "source": [
    "describeList :: [a] -> String\n",
    "describeList xs = \"The list is \" ++ case xs of [] -> \"empty.\"\n",
    "                                               [x] -> \"a singleton list.\"\n",
    "                                               xs -> \"a longer list.\""
   ]
  },
  {
   "cell_type": "markdown",
   "metadata": {},
   "source": [
    "* 표현식 중간에서 어떤 것에 대한 패턴 매칭을 하고 싶을 때 유용하게 사용 가능\n",
    "    * 이유: 함수 정의에서의 패턴 매칭이 케이스 표현식의 간략화된 표현이기 때문\n",
    "\n",
    "\n",
    "* 위 함수를 아래처럼도 정의할 수 있음"
   ]
  },
  {
   "cell_type": "code",
   "execution_count": 48,
   "metadata": {
    "attributes": {
     "classes": [
      "haskell:hs"
     ],
     "id": "",
     "name": "\"code\""
    }
   },
   "outputs": [],
   "source": [
    "describeList :: [a] -> String\n",
    "describeList xs = \"The list is \" ++ what xs\n",
    "    where what [] = \"empty.\"\n",
    "          what [x] = \"a singleton list.\"\n",
    "          what xs = \"a longer list.\""
   ]
  }
 ],
 "metadata": {
  "kernelspec": {
   "display_name": "Haskell",
   "language": "haskell",
   "name": "haskell"
  },
  "language_info": {
   "codemirror_mode": "Haskell",
   "file_extension": ".hs",
   "mimetype": "text/x-haskell",
   "name": "haskell",
   "pygments_lexer": "Haskell",
   "version": "8.8.4"
  }
 },
 "nbformat": 4,
 "nbformat_minor": 4
}
