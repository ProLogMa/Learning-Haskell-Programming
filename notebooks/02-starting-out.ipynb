{
 "cells": [
  {
   "cell_type": "markdown",
   "metadata": {},
   "source": [
    "# 2장 하스켈 프로그래밍 시작하기"
   ]
  },
  {
   "cell_type": "markdown",
   "metadata": {},
   "source": [
    "__*아래 주피터 노트북은 James Brock의 [learn-you-a-haskell-notebook](https://github.com/jamesdbrock/learn-you-a-haskell-notebook)을 기본틀로 사용합니다.*__"
   ]
  },
  {
   "cell_type": "markdown",
   "metadata": {},
   "source": [
    "__참고:__ 린팅(linting) 기능 끄기\n",
    "\n",
    "* 린팅(linting): IHaskell에서 HLint라고 불리는 린터(linter)에 의해 보다 적절하다고 판단하는 표현식을 제안하는 기능\n",
    "* 보다 세련된 표현식(expression)을 제안하는 도구이지만 반드시 필요한 기능은 아니다.\n",
    "* 참조: [IHaskell의 린팅 기능 설정하기](https://github.com/gibiansky/IHaskell/wiki#opt-no-lint)"
   ]
  },
  {
   "cell_type": "code",
   "execution_count": 1,
   "metadata": {
    "attributes": {
     "classes": [
      "haskell:",
      "ghci"
     ],
     "id": "",
     "name": "\"code\""
    }
   },
   "outputs": [],
   "source": [
    ":opt no-lint"
   ]
  },
  {
   "cell_type": "markdown",
   "metadata": {},
   "source": [
    "__참고: 주피터 노트북 단축키__\n",
    "\n",
    "주피터 노트북에서 가장 유용한 단축키 조합은 다음과 같다.\n",
    "\n",
    "| 단축키 조합 | 실행결과 |\n",
    "|-------------:|---------------|\n",
    "|<kbd>Shift</kbd>+<kbd>Enter</kbd> | 선택한 셀을 실행하고 다음 셀로 이동 |\n",
    "|<kbd>Ctrl</kbd>+<kbd>Enter</kbd> | 선택한 셀을 실행. 다음 셀로 이동하지 않음 |\n",
    "|<kbd>Alt</kbd>+<kbd>Enter</kbd> | 선택한 셀을 실행하고 선택한 셀 뒤에 새로운 셀 삽입 |\n",
    "|<kbd>Enter</kbd> | 선택한 셀 편집 |\n",
    "|<kbd>Ctrl</kbd>+<kbd>Shift</kbd>+<kbd>-</kbd> | 커서 위치에서 셀 분할 |\n",
    "\n",
    "* 코드 셀을 실행시키면 셀 아래에 결과를 출력한다.\n",
    "\n",
    "* 모든 가능한 단축키 조합은 <kbd>H</kbd>를 누르면 확인 가능하다."
   ]
  },
  {
   "cell_type": "markdown",
   "metadata": {},
   "source": [
    "## 2.1 간단한 연산"
   ]
  },
  {
   "cell_type": "markdown",
   "metadata": {},
   "source": [
    "### 사칙연산 "
   ]
  },
  {
   "cell_type": "code",
   "execution_count": 2,
   "metadata": {
    "attributes": {
     "classes": [
      "haskell:",
      "ghci"
     ],
     "id": "",
     "name": "\"code\""
    }
   },
   "outputs": [
    {
     "data": {
      "text/plain": [
       "17"
      ]
     },
     "metadata": {},
     "output_type": "display_data"
    }
   ],
   "source": [
    "2 + 15"
   ]
  },
  {
   "cell_type": "code",
   "execution_count": 3,
   "metadata": {
    "attributes": {
     "classes": [
      "haskell:",
      "ghci"
     ],
     "id": "",
     "name": "\"code\""
    }
   },
   "outputs": [
    {
     "data": {
      "text/plain": [
       "4900"
      ]
     },
     "metadata": {},
     "output_type": "display_data"
    }
   ],
   "source": [
    "49 * 100"
   ]
  },
  {
   "cell_type": "code",
   "execution_count": 4,
   "metadata": {
    "attributes": {
     "classes": [
      "haskell:",
      "ghci"
     ],
     "id": "",
     "name": "\"code\""
    }
   },
   "outputs": [
    {
     "data": {
      "text/plain": [
       "420"
      ]
     },
     "metadata": {},
     "output_type": "display_data"
    }
   ],
   "source": [
    "1892 - 1472"
   ]
  },
  {
   "cell_type": "code",
   "execution_count": 5,
   "metadata": {
    "attributes": {
     "classes": [
      "haskell:",
      "ghci"
     ],
     "id": "",
     "name": "\"code\""
    }
   },
   "outputs": [
    {
     "data": {
      "text/plain": [
       "2.5"
      ]
     },
     "metadata": {},
     "output_type": "display_data"
    }
   ],
   "source": [
    "5 / 2"
   ]
  },
  {
   "cell_type": "markdown",
   "metadata": {},
   "source": [
    "일반적으로 알려진 연산자 우선순위가 적용된다."
   ]
  },
  {
   "cell_type": "code",
   "execution_count": 6,
   "metadata": {
    "attributes": {
     "classes": [
      "haskell:",
      "ghci"
     ],
     "id": "",
     "name": "\"code\""
    }
   },
   "outputs": [
    {
     "data": {
      "text/plain": [
       "1"
      ]
     },
     "metadata": {},
     "output_type": "display_data"
    }
   ],
   "source": [
    "(50 * 100) - 4999"
   ]
  },
  {
   "cell_type": "code",
   "execution_count": 7,
   "metadata": {
    "attributes": {
     "classes": [
      "haskell:",
      "ghci"
     ],
     "id": "",
     "name": "\"code\""
    }
   },
   "outputs": [
    {
     "data": {
      "text/plain": [
       "1"
      ]
     },
     "metadata": {},
     "output_type": "display_data"
    }
   ],
   "source": [
    "50 * 100 - 4999"
   ]
  },
  {
   "cell_type": "code",
   "execution_count": 8,
   "metadata": {
    "attributes": {
     "classes": [
      "haskell:",
      "ghci"
     ],
     "id": "",
     "name": "\"code\""
    }
   },
   "outputs": [
    {
     "data": {
      "text/plain": [
       "-244950"
      ]
     },
     "metadata": {},
     "output_type": "display_data"
    }
   ],
   "source": [
    "50 * (100 - 4999)"
   ]
  },
  {
   "cell_type": "markdown",
   "metadata": {},
   "source": [
    "__주의사항__ \n",
    "\n",
    "* 음수를 사용할 때 괄호로 묶어 주어야 한다.\n",
    "* 예를 들어, `5 * -3` 를 실행하면 오류 발생하지만, `5 * (-3)` 은 적절하게 실행된다."
   ]
  },
  {
   "cell_type": "markdown",
   "metadata": {},
   "source": [
    "### 부울 연산"
   ]
  },
  {
   "cell_type": "markdown",
   "metadata": {},
   "source": [
    "부울 연산도 일반적으로 알려진대로 사용되며, 부울 연산자는 다음과 같다.\n",
    "\n",
    "| 부울 연산자 | 의미 |\n",
    "|-------------:|---------------|\n",
    "| `&&` | 그리고(and)|\n",
    "| <code>&#124;&#124;</code> | 또는(or) |\n",
    "| `not` | 부정(negation) |"
   ]
  },
  {
   "cell_type": "code",
   "execution_count": 9,
   "metadata": {
    "attributes": {
     "classes": [
      "haskell:",
      "ghci"
     ],
     "id": "",
     "name": "\"code\""
    }
   },
   "outputs": [
    {
     "data": {
      "text/plain": [
       "False"
      ]
     },
     "metadata": {},
     "output_type": "display_data"
    }
   ],
   "source": [
    "True && False"
   ]
  },
  {
   "cell_type": "code",
   "execution_count": 10,
   "metadata": {
    "attributes": {
     "classes": [
      "haskell:",
      "ghci"
     ],
     "id": "",
     "name": "\"code\""
    }
   },
   "outputs": [
    {
     "data": {
      "text/plain": [
       "True"
      ]
     },
     "metadata": {},
     "output_type": "display_data"
    }
   ],
   "source": [
    "True && True"
   ]
  },
  {
   "cell_type": "code",
   "execution_count": 11,
   "metadata": {
    "attributes": {
     "classes": [
      "haskell:",
      "ghci"
     ],
     "id": "",
     "name": "\"code\""
    }
   },
   "outputs": [
    {
     "data": {
      "text/plain": [
       "True"
      ]
     },
     "metadata": {},
     "output_type": "display_data"
    }
   ],
   "source": [
    "False || True"
   ]
  },
  {
   "cell_type": "code",
   "execution_count": 12,
   "metadata": {
    "attributes": {
     "classes": [
      "haskell:",
      "ghci"
     ],
     "id": "",
     "name": "\"code\""
    }
   },
   "outputs": [
    {
     "data": {
      "text/plain": [
       "True"
      ]
     },
     "metadata": {},
     "output_type": "display_data"
    }
   ],
   "source": [
    "not False"
   ]
  },
  {
   "cell_type": "code",
   "execution_count": 13,
   "metadata": {
    "attributes": {
     "classes": [
      "haskell:",
      "ghci"
     ],
     "id": "",
     "name": "\"code\""
    }
   },
   "outputs": [
    {
     "data": {
      "text/plain": [
       "False"
      ]
     },
     "metadata": {},
     "output_type": "display_data"
    }
   ],
   "source": [
    "not (True && True)"
   ]
  },
  {
   "cell_type": "markdown",
   "metadata": {},
   "source": [
    "### 동치성 검사(Equality Test)"
   ]
  },
  {
   "cell_type": "markdown",
   "metadata": {},
   "source": [
    "주어진 표현식 두 개가 동일한 값을 표현하는지 검사하기 위해 `==`와 `/=` 두 기호를 사용한다."
   ]
  },
  {
   "cell_type": "code",
   "execution_count": 14,
   "metadata": {
    "attributes": {
     "classes": [
      "haskell:",
      "ghci"
     ],
     "id": "",
     "name": "\"code\""
    }
   },
   "outputs": [
    {
     "data": {
      "text/plain": [
       "True"
      ]
     },
     "metadata": {},
     "output_type": "display_data"
    }
   ],
   "source": [
    "5 == 5"
   ]
  },
  {
   "cell_type": "code",
   "execution_count": 15,
   "metadata": {
    "attributes": {
     "classes": [
      "haskell:",
      "ghci"
     ],
     "id": "",
     "name": "\"code\""
    }
   },
   "outputs": [
    {
     "data": {
      "text/plain": [
       "True"
      ]
     },
     "metadata": {},
     "output_type": "display_data"
    }
   ],
   "source": [
    "2 + 3 == 5"
   ]
  },
  {
   "cell_type": "code",
   "execution_count": 16,
   "metadata": {
    "attributes": {
     "classes": [
      "haskell:",
      "ghci"
     ],
     "id": "",
     "name": "\"code\""
    }
   },
   "outputs": [
    {
     "data": {
      "text/plain": [
       "False"
      ]
     },
     "metadata": {},
     "output_type": "display_data"
    }
   ],
   "source": [
    "1 == 0"
   ]
  },
  {
   "cell_type": "code",
   "execution_count": 17,
   "metadata": {
    "attributes": {
     "classes": [
      "haskell:",
      "ghci"
     ],
     "id": "",
     "name": "\"code\""
    }
   },
   "outputs": [
    {
     "data": {
      "text/plain": [
       "False"
      ]
     },
     "metadata": {},
     "output_type": "display_data"
    }
   ],
   "source": [
    "5 /= 3 + 2"
   ]
  },
  {
   "cell_type": "code",
   "execution_count": 18,
   "metadata": {
    "attributes": {
     "classes": [
      "haskell:",
      "ghci"
     ],
     "id": "",
     "name": "\"code\""
    }
   },
   "outputs": [
    {
     "data": {
      "text/plain": [
       "True"
      ]
     },
     "metadata": {},
     "output_type": "display_data"
    }
   ],
   "source": [
    "5 /= 4"
   ]
  },
  {
   "cell_type": "code",
   "execution_count": 19,
   "metadata": {
    "attributes": {
     "classes": [
      "haskell:",
      "ghci"
     ],
     "id": "",
     "name": "\"code\""
    }
   },
   "outputs": [
    {
     "data": {
      "text/plain": [
       "True"
      ]
     },
     "metadata": {},
     "output_type": "display_data"
    }
   ],
   "source": [
    "\"hello\" == \"hello\""
   ]
  },
  {
   "cell_type": "markdown",
   "metadata": {},
   "source": [
    "__주의사항:__ \n",
    "연산에 사용되는 값들의 유형(type)에 주의해야 한다.\n",
    "예를 들어, `5 + \"llama\"` 혹은 `5 == True`를 실행하면 오류가 발생한다."
   ]
  },
  {
   "cell_type": "code",
   "execution_count": 20,
   "metadata": {
    "attributes": {
     "classes": [
      "haskell:",
      "ghci"
     ],
     "id": "",
     "name": "\"code\""
    }
   },
   "outputs": [
    {
     "ename": "",
     "evalue": "",
     "output_type": "error",
     "traceback": [
      "<interactive>:1:1: error:\n    • No instance for (Num String) arising from a use of ‘+’\n    • In the expression: 5 + \"llama\"\n      In an equation for ‘it’: it = 5 + \"llama\""
     ]
    }
   ],
   "source": [
    "5 + \"llama\""
   ]
  },
  {
   "cell_type": "code",
   "execution_count": 21,
   "metadata": {
    "attributes": {
     "classes": [
      "haskell:",
      "ghci"
     ],
     "id": "",
     "name": "\"code\""
    }
   },
   "outputs": [
    {
     "ename": "",
     "evalue": "",
     "output_type": "error",
     "traceback": [
      "<interactive>:1:1: error:\n    • No instance for (Num String) arising from the literal ‘5’\n    • In the first argument of ‘(==)’, namely ‘5’\n      In the expression: 5 == \"llama\"\n      In an equation for ‘it’: it = 5 == \"llama\""
     ]
    }
   ],
   "source": [
    "5 == \"llama\""
   ]
  },
  {
   "cell_type": "markdown",
   "metadata": {},
   "source": [
    "오류가 발생하는 이유는 정수 5와 문자열 `\"llama\"`를 서로 더하거나 동치성 검사을 위해 비교할 수 없기 때문이다.\n",
    "\n",
    "* `+`: 동일한 유형(type)을 갖는 값들만 더할 수 있음. \n",
    "* `==`: 동일한 유형(type)을 갖는 값들만을 대상으로 동치성을 검사할 수 있음. "
   ]
  },
  {
   "cell_type": "markdown",
   "metadata": {},
   "source": [
    "__참고:__ 유형(type)에 대해서는 이후에 자세히 다룬다."
   ]
  },
  {
   "cell_type": "markdown",
   "metadata": {},
   "source": [
    "반면에 `5 + 4.0`는 연산이 가능하며 `9.0`으로 계산된다.\n",
    "`5`는 문맥에 따라 정수 또는 부동소수점으로 취급될 수 있는데\n",
    "`4.0` 은 정수로 간주될 수 없기에 부동소수점의 합 `9.0`을 계산하는 것이다."
   ]
  },
  {
   "cell_type": "code",
   "execution_count": 22,
   "metadata": {},
   "outputs": [
    {
     "data": {
      "text/plain": [
       "9.0"
      ]
     },
     "metadata": {},
     "output_type": "display_data"
    }
   ],
   "source": [
    "5 + 4.0"
   ]
  },
  {
   "cell_type": "markdown",
   "metadata": {},
   "source": [
    "## 2.2 함수"
   ]
  },
  {
   "cell_type": "markdown",
   "metadata": {},
   "source": [
    "### 함수 호출"
   ]
  },
  {
   "cell_type": "markdown",
   "metadata": {},
   "source": [
    "앞서 살펴 본 연산 모두 함수이다. \n",
    "예를 들어, `*` 은 두 개의 숫자를 받아 두 수의 곱을 계산하여 반환하는 함수이다."
   ]
  },
  {
   "cell_type": "markdown",
   "metadata": {},
   "source": [
    "#### 전위 함수 대 중위 함수"
   ]
  },
  {
   "cell_type": "markdown",
   "metadata": {},
   "source": [
    "`+` 처럼 인자를 양쪽에 표현하는 함수를 __중위 함수__ 라 부른다.\n",
    "반면에 함수 이름 다음에 인자를 적용하는 방식으로 사용하는 함수는 __전위 함수__ 이다. \n",
    "사칙연산 등 일반적으로 사용되는 함수는 중위 함수로, 기타 일반적인 경우는 전위 함수를 사용한다. \n",
    "\n",
    "점위 함수는 함수 이름 다음에 공백을 이용하여 매개변수 또는 인자를 이어서 작성하여 호출한다. \n",
    "\n",
    "```haskell\n",
    "foo, bar 1, baz 3 \"haha\", bar (bar 3)\n",
    "```\n",
    "\n",
    "위에서 `bar (bar 3)` 의 경우 반드시 괄호를 사용해야 함에 주의해야 한다. \n",
    "그렇지 않으면 `bar` 가 하나가 아닌 두 개의 인자를 받는 것으로 인식되어 오류 발생가 발생한다."
   ]
  },
  {
   "cell_type": "markdown",
   "metadata": {},
   "source": [
    "__참고:__ \n",
    "대부분의 명령형 언어에서 함수는 함수 이름을 작성한 후 괄호 안에 매개변수 또는 인자를 쉼표로 구분해 작성한다.\n",
    "\n",
    "```\n",
    "foo(), bar(1), baz(3, \"haha\"), bar(bar(3))\n",
    "```"
   ]
  },
  {
   "cell_type": "markdown",
   "metadata": {},
   "source": [
    "예를 들어, `+1`에 해당하는 함수인 `succ`의 사용법은 다음과 같다."
   ]
  },
  {
   "cell_type": "code",
   "execution_count": 23,
   "metadata": {
    "attributes": {
     "classes": [
      "haskell:",
      "ghci"
     ],
     "id": "",
     "name": "\"code\""
    }
   },
   "outputs": [
    {
     "data": {
      "text/plain": [
       "9"
      ]
     },
     "metadata": {},
     "output_type": "display_data"
    }
   ],
   "source": [
    "succ 8"
   ]
  },
  {
   "cell_type": "markdown",
   "metadata": {},
   "source": [
    "여러 개의 파라미터/인자를 사용하는 함수를 호출하는 것도 앞서 설명한대로 공백을 이용하여 나열하면 된다. \n",
    "예를 들어, [`min`](https://hackage.haskell.org/package/base/docs/Prelude.html#v:min) 과\n",
    "[`max`](https://hackage.haskell.org/package/base/docs/Prelude.html#v:max) \n",
    "함수는 숫자처럼 크기 순서가 비교 가능한 두 개의 값을 인자로 사용하며, \n",
    "아래와 같이 호출된다."
   ]
  },
  {
   "cell_type": "code",
   "execution_count": 24,
   "metadata": {
    "attributes": {
     "classes": [
      "haskell:",
      "ghci"
     ],
     "id": "",
     "name": "\"code\""
    }
   },
   "outputs": [
    {
     "data": {
      "text/plain": [
       "9"
      ]
     },
     "metadata": {},
     "output_type": "display_data"
    }
   ],
   "source": [
    "min 9 10"
   ]
  },
  {
   "cell_type": "code",
   "execution_count": 25,
   "metadata": {
    "attributes": {
     "classes": [
      "haskell:",
      "ghci"
     ],
     "id": "",
     "name": "\"code\""
    }
   },
   "outputs": [
    {
     "data": {
      "text/plain": [
       "3.2"
      ]
     },
     "metadata": {},
     "output_type": "display_data"
    }
   ],
   "source": [
    "min 3.4 3.2"
   ]
  },
  {
   "cell_type": "code",
   "execution_count": 26,
   "metadata": {
    "attributes": {
     "classes": [
      "haskell:",
      "ghci"
     ],
     "id": "",
     "name": "\"code\""
    }
   },
   "outputs": [
    {
     "data": {
      "text/plain": [
       "101"
      ]
     },
     "metadata": {},
     "output_type": "display_data"
    }
   ],
   "source": [
    "max 100 101"
   ]
  },
  {
   "cell_type": "markdown",
   "metadata": {},
   "source": [
    "#### 전위 함수의 호출 우선순위"
   ]
  },
  {
   "cell_type": "markdown",
   "metadata": {},
   "source": [
    "전위 함수에 인자를 적용하는 것이 가장 높은 우선순위를 갖는다. \n",
    "예를 들어, 아래의 두 표현식은 동일한 결과를 계산한다."
   ]
  },
  {
   "cell_type": "code",
   "execution_count": 27,
   "metadata": {
    "attributes": {
     "classes": [
      "haskell:",
      "ghci"
     ],
     "id": "",
     "name": "\"code\""
    }
   },
   "outputs": [
    {
     "data": {
      "text/plain": [
       "16"
      ]
     },
     "metadata": {},
     "output_type": "display_data"
    }
   ],
   "source": [
    "succ 9 + max 5 4 + 1"
   ]
  },
  {
   "cell_type": "code",
   "execution_count": 28,
   "metadata": {
    "attributes": {
     "classes": [
      "haskell:",
      "ghci"
     ],
     "id": "",
     "name": "\"code\""
    }
   },
   "outputs": [
    {
     "data": {
      "text/plain": [
       "16"
      ]
     },
     "metadata": {},
     "output_type": "display_data"
    }
   ],
   "source": [
    "(succ 9) + (max 5 4) + 1"
   ]
  },
  {
   "cell_type": "markdown",
   "metadata": {},
   "source": [
    "따라서 `9 * 10`의 다음 수를 알고 싶다면, `succ 9 * 10`이 아니라 \n",
    "`succ (9 * 10)`로 작성해야한다."
   ]
  },
  {
   "cell_type": "code",
   "execution_count": 29,
   "metadata": {},
   "outputs": [
    {
     "data": {
      "text/plain": [
       "100"
      ]
     },
     "metadata": {},
     "output_type": "display_data"
    }
   ],
   "source": [
    "succ 9 * 10"
   ]
  },
  {
   "cell_type": "code",
   "execution_count": 30,
   "metadata": {},
   "outputs": [
    {
     "data": {
      "text/plain": [
       "91"
      ]
     },
     "metadata": {},
     "output_type": "display_data"
    }
   ],
   "source": [
    "succ (9 * 10)"
   ]
  },
  {
   "cell_type": "markdown",
   "metadata": {},
   "source": [
    "### 전위/중위 함수 변환 "
   ]
  },
  {
   "cell_type": "markdown",
   "metadata": {},
   "source": [
    "두 개의 인자를 받는 전위 함수를 역따옴표로 감싸서 중위 함수로 사용할 수 있다.\n",
    "예를 들어, `div` 함수는 두 개의 정수를 받아와 정수 사이의 몫을 계산하는 나눗셈을 수행한다."
   ]
  },
  {
   "cell_type": "code",
   "execution_count": 31,
   "metadata": {},
   "outputs": [
    {
     "data": {
      "text/plain": [
       "9"
      ]
     },
     "metadata": {},
     "output_type": "display_data"
    }
   ],
   "source": [
    "div 92 10"
   ]
  },
  {
   "cell_type": "markdown",
   "metadata": {},
   "source": [
    "하지만 이렇게 전위 함수 형식으로 호출하면, \n",
    "누가 누구를 나누는지 혼란스러울 수 있다. \n",
    "그래서 이 식을 더 명확하게 하기 위해 다음과 같이 \n",
    "전위 함수를 역 따옴표( &#96; ) 기호로 감싼 후 중위 함수 형식으로 호출할 수 있다."
   ]
  },
  {
   "cell_type": "code",
   "execution_count": 32,
   "metadata": {},
   "outputs": [
    {
     "data": {
      "text/plain": [
       "9"
      ]
     },
     "metadata": {},
     "output_type": "display_data"
    }
   ],
   "source": [
    "92 `div` 10"
   ]
  },
  {
   "cell_type": "markdown",
   "metadata": {},
   "source": [
    "반면에 임의의 중위 함수를 소괄호로 감싸면 전위 함수로 활용할 수 있다."
   ]
  },
  {
   "cell_type": "code",
   "execution_count": 33,
   "metadata": {},
   "outputs": [
    {
     "data": {
      "text/plain": [
       "4"
      ]
     },
     "metadata": {},
     "output_type": "display_data"
    }
   ],
   "source": [
    "(+) 1 3"
   ]
  },
  {
   "cell_type": "markdown",
   "metadata": {},
   "source": [
    "이제 아래 동치성이 성립하는 이유를 쉽게 파악할 수 있어야 한다."
   ]
  },
  {
   "cell_type": "code",
   "execution_count": 34,
   "metadata": {},
   "outputs": [
    {
     "data": {
      "text/plain": [
       "True"
      ]
     },
     "metadata": {},
     "output_type": "display_data"
    }
   ],
   "source": [
    "(1 + 2) * 3 == (*) ((+) 1 2) 3"
   ]
  },
  {
   "cell_type": "markdown",
   "metadata": {},
   "source": [
    "### 함수 정의"
   ]
  },
  {
   "cell_type": "markdown",
   "metadata": {},
   "source": [
    "함수를 호출하는 방법과 유사한 방식으로 함수를 정의한다.\n",
    "\n",
    "* 함수 이름 뒤에 공백으로 구분된 매개변수 나열한다.\n",
    "* 등호 기호(`=`) 오른편에 함수의 반환값을 지정하며, 함수 정의의 일반적인 형식은 다음과 같다.\n",
    "\n",
    "    ```haskell\n",
    "    함수이름 매개변수1 ... 매개변수n = 함수반환값\n",
    "    ```"
   ]
  },
  {
   "cell_type": "markdown",
   "metadata": {},
   "source": [
    "예를 들어, 하나의 인자를 받는 함수를 정의하는 방법은 다음과 같다."
   ]
  },
  {
   "cell_type": "code",
   "execution_count": 35,
   "metadata": {
    "attributes": {
     "classes": [
      "haskell:",
      "hs"
     ],
     "id": "",
     "name": "\"code\""
    }
   },
   "outputs": [],
   "source": [
    "doubleMe x = x + x"
   ]
  },
  {
   "cell_type": "markdown",
   "metadata": {},
   "source": [
    "이제 지정된 매개변수의 수만큼 인자를 사용하여 함수를 호출하면 된다."
   ]
  },
  {
   "cell_type": "code",
   "execution_count": 36,
   "metadata": {
    "attributes": {
     "classes": [
      "haskell:",
      "ghci"
     ],
     "id": "",
     "name": "\"code\""
    }
   },
   "outputs": [
    {
     "data": {
      "text/plain": [
       "18"
      ]
     },
     "metadata": {},
     "output_type": "display_data"
    }
   ],
   "source": [
    "doubleMe 9"
   ]
  },
  {
   "cell_type": "markdown",
   "metadata": {},
   "source": [
    "`+`는 정수 뿐만 아니라 부동소수점 등 숫자로 볼 수 있는 모든 값에 대해 \n",
    "적용할 수 있기에 부동소수점을 `doubleMe` 함수에 적용할 수 있다."
   ]
  },
  {
   "cell_type": "code",
   "execution_count": 37,
   "metadata": {
    "attributes": {
     "classes": [
      "haskell:",
      "ghci"
     ],
     "id": "",
     "name": "\"code\""
    }
   },
   "outputs": [
    {
     "data": {
      "text/plain": [
       "16.6"
      ]
     },
     "metadata": {},
     "output_type": "display_data"
    }
   ],
   "source": [
    "doubleMe 8.3"
   ]
  },
  {
   "cell_type": "markdown",
   "metadata": {},
   "source": [
    "두 개의 수를 인자로 받아 각 인자의 2배수의 합을 반환하는 함수는 다음과 같이 정의한다."
   ]
  },
  {
   "cell_type": "code",
   "execution_count": 38,
   "metadata": {
    "attributes": {
     "classes": [
      "haskell:",
      "hs"
     ],
     "id": "",
     "name": "\"code\""
    }
   },
   "outputs": [],
   "source": [
    "doubleUs x y = x*2 + y*2"
   ]
  },
  {
   "cell_type": "code",
   "execution_count": 39,
   "metadata": {
    "attributes": {
     "classes": [
      "haskell:",
      "ghci"
     ],
     "id": "",
     "name": "\"code\""
    }
   },
   "outputs": [
    {
     "data": {
      "text/plain": [
       "26"
      ]
     },
     "metadata": {},
     "output_type": "display_data"
    }
   ],
   "source": [
    "doubleUs 4 9"
   ]
  },
  {
   "cell_type": "code",
   "execution_count": 40,
   "metadata": {
    "attributes": {
     "classes": [
      "haskell:",
      "ghci"
     ],
     "id": "",
     "name": "\"code\""
    }
   },
   "outputs": [
    {
     "data": {
      "text/plain": [
       "73.0"
      ]
     },
     "metadata": {},
     "output_type": "display_data"
    }
   ],
   "source": [
    "doubleUs 2.3 34.2"
   ]
  },
  {
   "cell_type": "code",
   "execution_count": 41,
   "metadata": {
    "attributes": {
     "classes": [
      "haskell:",
      "ghci"
     ],
     "id": "",
     "name": "\"code\""
    }
   },
   "outputs": [
    {
     "data": {
      "text/plain": [
       "478"
      ]
     },
     "metadata": {},
     "output_type": "display_data"
    }
   ],
   "source": [
    "doubleUs 28 88 + doubleMe 123"
   ]
  },
  {
   "cell_type": "markdown",
   "metadata": {},
   "source": [
    "새로운 함수를 정의할 때, 이전에 정의한 함수를 이용할 수 있다.\n",
    "예를 들어, `doubleUs`를 아래처럼 재정의할 수 있다."
   ]
  },
  {
   "cell_type": "code",
   "execution_count": 42,
   "metadata": {
    "attributes": {
     "classes": [
      "haskell:",
      "hs"
     ],
     "id": "",
     "name": "\"code\""
    }
   },
   "outputs": [],
   "source": [
    "doubleUs x y = doubleMe x + doubleMe y"
   ]
  },
  {
   "cell_type": "markdown",
   "metadata": {},
   "source": [
    "위 정의는 간단한 기능을 수행하는 함수들을 먼저 정의한 후, \n",
    "그 함수들을 결합하여 보다 복잡한 기능을 수행하는 함수를 만드는 \n",
    "하스켈의 전형적인 함수 정의 방식을 보여준다.\n",
    "이 방식의 가장 큰 장점은 코드를 반복하여 작성하는 것을 피할 수 있다는 점이다.\n",
    "예를 들어, 인자들의 2배수의 합이 아닌 3배수의 합을 구하고자 할 때\n",
    "`doubleMe` 를 `x + x + x` 로 재정의하면 `doubleUs`는 굳이 수정할 필요가 없다. "
   ]
  },
  {
   "cell_type": "code",
   "execution_count": 43,
   "metadata": {
    "attributes": {
     "classes": [
      "haskell:",
      "hs"
     ],
     "id": "",
     "name": "\"code\""
    }
   },
   "outputs": [],
   "source": [
    "doubleMe x = x*3"
   ]
  },
  {
   "cell_type": "code",
   "execution_count": 44,
   "metadata": {
    "attributes": {
     "classes": [
      "haskell:",
      "hs"
     ],
     "id": "",
     "name": "\"code\""
    }
   },
   "outputs": [],
   "source": [
    "doubleUs x y = doubleMe x + doubleMe y"
   ]
  },
  {
   "cell_type": "code",
   "execution_count": 45,
   "metadata": {},
   "outputs": [
    {
     "data": {
      "text/plain": [
       "15"
      ]
     },
     "metadata": {},
     "output_type": "display_data"
    }
   ],
   "source": [
    "doubleUs 2 3"
   ]
  },
  {
   "cell_type": "markdown",
   "metadata": {},
   "source": [
    "__주의사항:__\n",
    "확장자가 `hs`인 하스켈 소스코드 파일을 작성한 후 컴파일하여 코드를 실행하는 경우 \n",
    "함수를 정의하는 순서는 아무 상관이 없다. \n",
    "예를 들어, `doubleUs`를 먼저 정의한 후에 `doubleMe`를 나중에 정의해도 된다.\n",
    "하지만 주피터 노트북에서는 경우에 따라 순서가 중요할 수 있다.\n",
    "예를 들어 아래와 같이 하나의 셀에서 정의되는 경우 순서가 중요하지 않지만,\n",
    "서로 다른 셀을 이용할 때는 정의 순서가 중요하다."
   ]
  },
  {
   "cell_type": "code",
   "execution_count": 46,
   "metadata": {
    "attributes": {
     "classes": [
      "haskell:",
      "hs"
     ],
     "id": "",
     "name": "\"code\""
    }
   },
   "outputs": [
    {
     "data": {
      "text/plain": [
       "15"
      ]
     },
     "metadata": {},
     "output_type": "display_data"
    }
   ],
   "source": [
    "doubleUs' x y = doubleMe' x + doubleMe' y\n",
    "doubleMe' x = x*3\n",
    "doubleUs' 2 3"
   ]
  },
  {
   "cell_type": "markdown",
   "metadata": {},
   "source": [
    "### if 표현식"
   ]
  },
  {
   "cell_type": "markdown",
   "metadata": {},
   "source": [
    "100보다 크지 않은 수에 대해서만 2배수를 계산하는 함수는 다음과 같이\n",
    "`if` 표현식을 이용한다. \n",
    "`if` 표현식을 한 줄로 표현할 수 있지만, 아래처럼 여러 줄로 표현하는 것이 가독성을 높혀준다."
   ]
  },
  {
   "cell_type": "code",
   "execution_count": 47,
   "metadata": {
    "attributes": {
     "classes": [
      "haskell:",
      "hs"
     ],
     "id": "",
     "name": "\"code\""
    }
   },
   "outputs": [],
   "source": [
    "doubleSmallNumber x = if x > 100 \n",
    "                        then x \n",
    "                        else x*2"
   ]
  },
  {
   "cell_type": "markdown",
   "metadata": {},
   "source": [
    "만약 위의 함수에서 생성된 모든 숫자에 1을 더하고 싶다면, 아래의 코드처럼 괄호를 사용해야 한다."
   ]
  },
  {
   "cell_type": "code",
   "execution_count": 48,
   "metadata": {
    "attributes": {
     "classes": [
      "haskell:",
      "hs"
     ],
     "id": "",
     "name": "\"code\""
    }
   },
   "outputs": [],
   "source": [
    "doubleSmallNumber' x = (if x > 100 then x else x*2) + 1"
   ]
  },
  {
   "cell_type": "code",
   "execution_count": 49,
   "metadata": {},
   "outputs": [
    {
     "data": {
      "text/plain": [
       "201"
      ]
     },
     "metadata": {},
     "output_type": "display_data"
    }
   ],
   "source": [
    "doubleSmallNumber' 100"
   ]
  },
  {
   "cell_type": "code",
   "execution_count": 50,
   "metadata": {},
   "outputs": [
    {
     "data": {
      "text/plain": [
       "201"
      ]
     },
     "metadata": {},
     "output_type": "display_data"
    }
   ],
   "source": [
    "doubleSmallNumber' 200"
   ]
  },
  {
   "cell_type": "markdown",
   "metadata": {},
   "source": [
    "괄호를 생략하면, `x`가 100보다 크지 않을 경우에만 1을 더해준다."
   ]
  },
  {
   "cell_type": "code",
   "execution_count": 51,
   "metadata": {
    "attributes": {
     "classes": [
      "haskell:",
      "hs"
     ],
     "id": "",
     "name": "\"code\""
    }
   },
   "outputs": [],
   "source": [
    "doubleSmallNumber'' x = if x > 100 then x else x*2 + 1"
   ]
  },
  {
   "cell_type": "code",
   "execution_count": 52,
   "metadata": {},
   "outputs": [
    {
     "data": {
      "text/plain": [
       "201"
      ]
     },
     "metadata": {},
     "output_type": "display_data"
    }
   ],
   "source": [
    "doubleSmallNumber'' 100"
   ]
  },
  {
   "cell_type": "code",
   "execution_count": 53,
   "metadata": {},
   "outputs": [
    {
     "data": {
      "text/plain": [
       "200"
      ]
     },
     "metadata": {},
     "output_type": "display_data"
    }
   ],
   "source": [
    "doubleSmallNumber'' 200"
   ]
  },
  {
   "cell_type": "markdown",
   "metadata": {},
   "source": [
    "__참고: 아포스트로피(`'`)__\n",
    "\n",
    "아포스트로피(`'`)는 하나의 유효한 문자이며, 함수 또는 매개변수 이름의 끝에 사용할 경우 \n",
    "기존에 정의된 함수 또는 매개변수를 조금 수정한 것임을 암시한다.\n",
    "아포스트로피를 또한 함수 또는 매개변수의 이름 중간에 임의로 사용할 수도 있다. \n",
    "단, 아포스트로피로 이름을 시작할 수는 없다."
   ]
  },
  {
   "cell_type": "code",
   "execution_count": 54,
   "metadata": {
    "attributes": {
     "classes": [
      "haskell:",
      "hs"
     ],
     "id": "",
     "name": "\"code\""
    }
   },
   "outputs": [],
   "source": [
    "conanO'Brien = \"It's a-me, Conan O'Brien!\""
   ]
  },
  {
   "cell_type": "markdown",
   "metadata": {},
   "source": [
    "__주의사항:__\n",
    "위 함수의 이름에서 Conan의 이름이 소문자로 시작한다.\n",
    "모든 함수의 이름은 무조건 소문자로 시작해야 한다."
   ]
  },
  {
   "cell_type": "markdown",
   "metadata": {},
   "source": [
    "__참고: 변수 대 함수__\n",
    "\n",
    "`conanO'Brien`은 C, 자바, 파이썬 등 명령형 프로그래밍언어에서 매우 중요한\n",
    "역할을 수행하는 __변수__가 아니라, \n",
    "아무런 인자 없이 호출되어 `\"It's a-me, Conan O'Brien!\"` 라는 문자열을 반환하는 __함수__이다. \n",
    "하스켈은 기본적으로 함수의 매개변수 이외의 변수 개념을 지원하지 않는다. \n",
    "다만 명령형 언어에서 사용하는 변수의 기능을 유사하게 지원하는데, 이에 대해서는 나중에 \n",
    "하스켈의 명령문을 다룰 때 자세히 설명할 것이다."
   ]
  },
  {
   "cell_type": "markdown",
   "metadata": {},
   "source": [
    "__참고: 표현식 대 명령문__\n",
    "\n",
    "* 표현식(expression)은 기본적으로 값을 반환하는 코드 조각이다.\n",
    "    예를 들어, `5`는 5를, `4 + 8`은 12를, `x + y`는 `x`와 `y`의 합을 반환하는 표현식이다.\n",
    "\n",
    "* C, Java, 파이썬 등 명령형 언어에서 `if` 는 명령문(command)을 작성할 때 사용된다.\n",
    "    따라서 `else` 문이 선택으로 사용될 수 있다. \n",
    "    \n",
    "* 하스켈의 `if`는 명령문이 아니라 값을 나타내는 __표현식__(statement)을 작성할 때 사용된다.\n",
    "    따라서 `else`가 필수적으로 항상 함께 해야 한다.\n",
    "    그렇지 않으면 `if` 조건이 성립하지 않는 경우 값이 정해지지 않는 표현식이 되어 오류가 발생한다.\n",
    "\n",
    "* 하스켈의 표현식과 명령문에 대한 보다 자세한 설명은 앞으로 조금씩 이루어질 것이다."
   ]
  },
  {
   "cell_type": "markdown",
   "metadata": {},
   "source": [
    "## 2.3 리스트와 문자열"
   ]
  },
  {
   "cell_type": "markdown",
   "metadata": {},
   "source": [
    "리스트는 하스켈에서 가장 많이 사용되는 데이터 구조이며 문제를 모델링하고 해결하기 위해 \n",
    "다양한 방법으로 사용될 수 있다. \n",
    "여기서는 리스트, 문자열, 리스트 조건제시법의 기본 활용법을 살펴본다."
   ]
  },
  {
   "cell_type": "markdown",
   "metadata": {},
   "source": [
    "### 리스트"
   ]
  },
  {
   "cell_type": "markdown",
   "metadata": {},
   "source": [
    "리스트는 여러 개의 값을 하나로 묶어서 다루는 데이터 구조이다.\n",
    "리스트에 포함되는 여러 개의 값들 모두 동일한 유형의 값이어야 하며,\n",
    "서로 쉼표로 구분된 상태에서 대괄호로 감싸인다.\n",
    "예를 들어, 정수로 이루어진 리스트를 반환하는 함수를 다음과 같이 정의한다."
   ]
  },
  {
   "cell_type": "code",
   "execution_count": 55,
   "metadata": {
    "attributes": {
     "classes": [
      "haskell:",
      "ghci"
     ],
     "id": "",
     "name": "\"code\""
    }
   },
   "outputs": [],
   "source": [
    "lostNumbers = [4,8,15,16,23,42]"
   ]
  },
  {
   "cell_type": "markdown",
   "metadata": {},
   "source": [
    "__참고:__ 대화형 GHC 컴파일러인 GHCi에서 이름을 바로 정의하려면 `let` 키워드를 사용해야 한다.\n",
    "반면에 하스켈 소스코드에서는 그럴 필요가 없다. \n",
    "주피터 노트북에서는 `let` 키워드 사용은 선택사항이다."
   ]
  },
  {
   "cell_type": "code",
   "execution_count": 56,
   "metadata": {
    "attributes": {
     "classes": [
      "haskell:",
      "ghci"
     ],
     "id": "",
     "name": "\"code\""
    }
   },
   "outputs": [],
   "source": [
    "let lostNumbers = [4,8,15,16,23,42]"
   ]
  },
  {
   "cell_type": "code",
   "execution_count": 57,
   "metadata": {
    "attributes": {
     "classes": [
      "haskell:",
      "ghci"
     ],
     "id": "",
     "name": "\"code\""
    }
   },
   "outputs": [
    {
     "data": {
      "text/plain": [
       "[4,8,15,16,23,42]"
      ]
     },
     "metadata": {},
     "output_type": "display_data"
    }
   ],
   "source": [
    "lostNumbers"
   ]
  },
  {
   "cell_type": "markdown",
   "metadata": {},
   "source": [
    "정수와 실수로 이루어진 리스트 또는 정수와 문자로 이루어진 리스트는 허영되지 않는다.\n",
    "만약 `[1,2,'a',3,'b','c',4]`을 시도한다면, 하스켈은 작은 따옴표 사이에 표기된 문자가 숫자가 아니라고 오류을 발생시킨다."
   ]
  },
  {
   "cell_type": "code",
   "execution_count": 58,
   "metadata": {},
   "outputs": [
    {
     "ename": "",
     "evalue": "",
     "output_type": "error",
     "traceback": [
      "<interactive>:1:2: error:\n    • No instance for (Num Char) arising from the literal ‘1’\n    • In the expression: 1\n      In the expression: [1, 2, 'a', 3, ....]\n      In an equation for ‘it’: it = [1, 2, 'a', ....]"
     ]
    }
   ],
   "source": [
    "[1,2,'a',3,'b','c',4]"
   ]
  },
  {
   "cell_type": "markdown",
   "metadata": {},
   "source": [
    "__참고:__ 다음 세 개의 리스트는 서로 다른 리스트를 나타낸다.\n",
    "\n",
    "```haskell\n",
    "[], [[]], [[],[],[]]\n",
    "```\n",
    "\n",
    "* `[]`: 공리스트, 즉 비어있는 리스트\n",
    "* `[[]]`: 공리스트 하나를 항목으로 갖는 리스트\n",
    "* `[[],[],[]]`: 세 개의 공리스트를 항목으로 갖는 리스트"
   ]
  },
  {
   "cell_type": "markdown",
   "metadata": {},
   "source": [
    "### 문자열"
   ]
  },
  {
   "cell_type": "markdown",
   "metadata": {},
   "source": [
    "문자열은 문자로 구성된 리스트이다.\n",
    "    \n",
    "* 문자 유형(`Char`): `'a'`, `'b'`, `'c'`, `'X'`, `'Y'`, `'Z'` 등 작은 따옴표로 감싸는 하나의 기호들의 유형이다.\n",
    "* 문자열: `\"hello\"`, `\"Haskell\"` 등 큰 따옴표로 감싸는 문자들의 나열을 가리킨다.\n",
    "    하지만, 예를 들어, `\"hello\"`는 단지 `['h','e','l','l','o']`를 예쁘게 포장한 것에 불과하다.\n",
    "    따라서 문자열의 유형이 따로 존재하는 것이 아님에 주의해야 한다."
   ]
  },
  {
   "cell_type": "code",
   "execution_count": 59,
   "metadata": {},
   "outputs": [
    {
     "data": {
      "text/plain": [
       "True"
      ]
     },
     "metadata": {},
     "output_type": "display_data"
    }
   ],
   "source": [
    "\"hello\" == ['h','e','l','l','o']"
   ]
  },
  {
   "cell_type": "code",
   "execution_count": 60,
   "metadata": {},
   "outputs": [
    {
     "data": {
      "text/plain": [
       "True"
      ]
     },
     "metadata": {},
     "output_type": "display_data"
    }
   ],
   "source": [
    "\"Haskell\" == ['H','a','s','k','e','l','l']"
   ]
  },
  {
   "cell_type": "markdown",
   "metadata": {},
   "source": [
    "### 리스트 관련 함수"
   ]
  },
  {
   "cell_type": "markdown",
   "metadata": {},
   "source": [
    "리스트를 다루는 기초적인 함수들을 살펴보고자 한다."
   ]
  },
  {
   "cell_type": "markdown",
   "metadata": {},
   "source": [
    "#### 이어붙이기(`++`) 함수 "
   ]
  },
  {
   "cell_type": "markdown",
   "metadata": {},
   "source": [
    "`++` 는 리스트 두 개를 이어붙혀서 새로운 리스트를 생성하여 반환하는 중위 함수이다. "
   ]
  },
  {
   "cell_type": "code",
   "execution_count": 61,
   "metadata": {
    "attributes": {
     "classes": [
      "haskell:",
      "ghci"
     ],
     "id": "",
     "name": "\"code\""
    }
   },
   "outputs": [
    {
     "data": {
      "text/plain": [
       "[1,2,3,4,9,10,11,12]"
      ]
     },
     "metadata": {},
     "output_type": "display_data"
    }
   ],
   "source": [
    "[1,2,3,4] ++ [9,10,11,12]"
   ]
  },
  {
   "cell_type": "markdown",
   "metadata": {},
   "source": [
    "__주의사항:__\n",
    "`++` 연산자의 첫째 인자로 사용되는 리스트가 많은 항목을 가진 경우 연산이 오래 걸릴 수 있다. \n",
    "이유는, 예를 들어, `[1,2,3] ++ [4]`를 계산하기 위해 내부적으로 아래와 같은 과정을 거치기 때문이다.\n",
    "마지막 줄에 있는 표현식이 바로 `[1,2,3,4]` 이다.\n",
    "\n",
    "```haskell\n",
    "[1,2,3] ++ [4] => 1 : ([2,3] ++ [4])\n",
    "               => 1 : 2 : ([3] ++ [4])\n",
    "               => 1 : 2 : 3 : ([] ++ [4])\n",
    "               => 1 : 2 : 3 : 4 : []\n",
    "```"
   ]
  },
  {
   "cell_type": "markdown",
   "metadata": {},
   "source": [
    "문자열이 리스트로 정의되었기에 문자열에서 리스트 관련 함수를 사용할 수 있다."
   ]
  },
  {
   "cell_type": "code",
   "execution_count": 62,
   "metadata": {
    "attributes": {
     "classes": [
      "haskell:",
      "ghci"
     ],
     "id": "",
     "name": "\"code\""
    }
   },
   "outputs": [
    {
     "data": {
      "text/plain": [
       "\"hello world\""
      ]
     },
     "metadata": {},
     "output_type": "display_data"
    }
   ],
   "source": [
    "\"hello\" ++ \" \" ++ \"world\""
   ]
  },
  {
   "cell_type": "code",
   "execution_count": 63,
   "metadata": {
    "attributes": {
     "classes": [
      "haskell:",
      "ghci"
     ],
     "id": "",
     "name": "\"code\""
    }
   },
   "outputs": [
    {
     "data": {
      "text/plain": [
       "\"Good!\""
      ]
     },
     "metadata": {},
     "output_type": "display_data"
    }
   ],
   "source": [
    "['G','o'] ++ ['o','d'] ++ ['!']"
   ]
  },
  {
   "cell_type": "markdown",
   "metadata": {},
   "source": [
    "#### `cons` 함수"
   ]
  },
  {
   "cell_type": "markdown",
   "metadata": {},
   "source": [
    "앞서 언급하였듯이 `[1,2,3,4]`는 `1 : 2 : 3 : 4 : []`를 간단하게 표현한 것에 불과하다.\n",
    "여기서 `(:)` 는 __콘스(cons)__ 라고 불리는 연산자이며 하나의 값을 \n",
    "이미 생성된 리스트의 맨 앞에 추가하는 방식으로 새로운 리스트를 생성하는 \n",
    "__리스트 생성자__ 역할을 수행하는 함수이다.\n",
    "생성자에 대해서는 나중에 자세히 다룬다."
   ]
  },
  {
   "cell_type": "code",
   "execution_count": 64,
   "metadata": {},
   "outputs": [
    {
     "data": {
      "text/plain": [
       "[1,2,3,4]"
      ]
     },
     "metadata": {},
     "output_type": "display_data"
    }
   ],
   "source": [
    "(:) 1 [2,3,4]"
   ]
  },
  {
   "cell_type": "markdown",
   "metadata": {},
   "source": [
    "cons 함수는 일반적으로 중위 함수로 사용된다."
   ]
  },
  {
   "cell_type": "code",
   "execution_count": 65,
   "metadata": {},
   "outputs": [
    {
     "data": {
      "text/plain": [
       "[1,2,3,4]"
      ]
     },
     "metadata": {},
     "output_type": "display_data"
    }
   ],
   "source": [
    "1 : [2,3,4]"
   ]
  },
  {
   "cell_type": "code",
   "execution_count": 66,
   "metadata": {
    "attributes": {
     "classes": [
      "haskell:",
      "ghci"
     ],
     "id": "",
     "name": "\"code\""
    }
   },
   "outputs": [
    {
     "data": {
      "text/plain": [
       "\"A SMALL CAT\""
      ]
     },
     "metadata": {},
     "output_type": "display_data"
    }
   ],
   "source": [
    "'A':\" SMALL CAT\""
   ]
  },
  {
   "cell_type": "markdown",
   "metadata": {},
   "source": [
    "#### 인덱싱(`!!`) 함수"
   ]
  },
  {
   "cell_type": "markdown",
   "metadata": {},
   "source": [
    "리스트의 각 항목은 왼편으로부터 0, 1, 2, 등으로 시작하는 위치정보를 가지며,\n",
    "그 위치정보를 각 항목의 __인덱스__(index) 라 부른다.\n",
    "인덱스가 주어졌을 때 해당 인덱스가 가리키는 항목을 확인하는 작업이 __인덱싱__(indexing)이며,\n",
    "인덱싱 함수를 `(!!)`로 표기한다."
   ]
  },
  {
   "cell_type": "code",
   "execution_count": 67,
   "metadata": {
    "attributes": {
     "classes": [
      "haskell:",
      "ghci"
     ],
     "id": "",
     "name": "\"code\""
    }
   },
   "outputs": [
    {
     "data": {
      "text/plain": [
       "'B'"
      ]
     },
     "metadata": {},
     "output_type": "display_data"
    }
   ],
   "source": [
    "\"Steve Buscemi\" !! 6"
   ]
  },
  {
   "cell_type": "code",
   "execution_count": 68,
   "metadata": {
    "attributes": {
     "classes": [
      "haskell:",
      "ghci"
     ],
     "id": "",
     "name": "\"code\""
    }
   },
   "outputs": [
    {
     "data": {
      "text/plain": [
       "33.2"
      ]
     },
     "metadata": {},
     "output_type": "display_data"
    }
   ],
   "source": [
    "[9.4,33.2,96.2,11.2,23.25] !! 1"
   ]
  },
  {
   "cell_type": "markdown",
   "metadata": {},
   "source": [
    "__주의사항:__\n",
    "인덱스는 0부터 시작한다. \n",
    "즉, 맨 왼편에 위치한 항목의 인덱스가 0이며, \n",
    "그 오른편의 항목의 인덱스는 1이다.\n",
    "따라서 마지막 항목의 인덱스는 항목의 수에서 1을 뺀 값이다."
   ]
  },
  {
   "cell_type": "code",
   "execution_count": 69,
   "metadata": {
    "attributes": {
     "classes": [
      "haskell:",
      "ghci"
     ],
     "id": "",
     "name": "\"code\""
    }
   },
   "outputs": [
    {
     "data": {
      "text/plain": [
       "9.4"
      ]
     },
     "metadata": {},
     "output_type": "display_data"
    }
   ],
   "source": [
    "[9.4,33.2,96.2,11.2,23.25] !! 0"
   ]
  },
  {
   "cell_type": "code",
   "execution_count": 70,
   "metadata": {
    "attributes": {
     "classes": [
      "haskell:",
      "ghci"
     ],
     "id": "",
     "name": "\"code\""
    }
   },
   "outputs": [
    {
     "data": {
      "text/plain": [
       "23.25"
      ]
     },
     "metadata": {},
     "output_type": "display_data"
    }
   ],
   "source": [
    "[9.4,33.2,96.2,11.2,23.25] !! (5-1)"
   ]
  },
  {
   "cell_type": "markdown",
   "metadata": {},
   "source": [
    "인덱싱을 리스트에 포함된 항목 개수보다 같거나 큰 인덱스에 대해 적용하면 오류가 발생한다."
   ]
  },
  {
   "cell_type": "code",
   "execution_count": 71,
   "metadata": {
    "attributes": {
     "classes": [
      "haskell:",
      "ghci"
     ],
     "id": "",
     "name": "\"code\""
    }
   },
   "outputs": [
    {
     "ename": "",
     "evalue": "",
     "output_type": "error",
     "traceback": [
      "Prelude.!!: index too large"
     ]
    }
   ],
   "source": [
    "[9.4,33.2,96.2,11.2,23.25] !! 5"
   ]
  },
  {
   "cell_type": "markdown",
   "metadata": {},
   "source": [
    "리스트의 항목은 하스켈이 지원하는 임의의 유형의 값을 가질 수 있다. \n",
    "예를 들어, 리스트로 구성된 리스트를 작성할 수 있다.\n",
    "여기서 주의할 점은 리스트의 길이가 다르다고 해서 다른 유형의 값이 되는 것은 아니라는 사실이다."
   ]
  },
  {
   "cell_type": "code",
   "execution_count": 72,
   "metadata": {
    "attributes": {
     "classes": [
      "haskell:",
      "ghci"
     ],
     "id": "",
     "name": "\"code\""
    }
   },
   "outputs": [
    {
     "data": {
      "text/plain": [
       "[[1,2,3,4],[1,2,2,3,4],[1,2,3]]"
      ]
     },
     "metadata": {},
     "output_type": "display_data"
    }
   ],
   "source": [
    "let b = [[1,2,3,4],[1,2,2,3,4],[1,2,3]]\n",
    "\n",
    "b"
   ]
  },
  {
   "cell_type": "code",
   "execution_count": 73,
   "metadata": {
    "attributes": {
     "classes": [
      "haskell:",
      "ghci"
     ],
     "id": "",
     "name": "\"code\""
    }
   },
   "outputs": [
    {
     "data": {
      "text/plain": [
       "[[1,2,3,4],[1,2,2,3,4],[1,2,3],[1,1,1,1,1,1]]"
      ]
     },
     "metadata": {},
     "output_type": "display_data"
    }
   ],
   "source": [
    "b ++ [[1,1,1,1,1,1]]"
   ]
  },
  {
   "cell_type": "code",
   "execution_count": 74,
   "metadata": {
    "attributes": {
     "classes": [
      "haskell:",
      "ghci"
     ],
     "id": "",
     "name": "\"code\""
    }
   },
   "outputs": [
    {
     "data": {
      "text/plain": [
       "[[6,6],[1,2,3,4],[1,2,2,3,4],[1,2,3]]"
      ]
     },
     "metadata": {},
     "output_type": "display_data"
    }
   ],
   "source": [
    "[6,6] : b"
   ]
  },
  {
   "cell_type": "code",
   "execution_count": 75,
   "metadata": {
    "attributes": {
     "classes": [
      "haskell:",
      "ghci"
     ],
     "id": "",
     "name": "\"code\""
    }
   },
   "outputs": [
    {
     "data": {
      "text/plain": [
       "[1,2,3]"
      ]
     },
     "metadata": {},
     "output_type": "display_data"
    }
   ],
   "source": [
    "b !! 2"
   ]
  },
  {
   "cell_type": "markdown",
   "metadata": {},
   "source": [
    "리스트의 항목으로 사용되는 리스트는 서로 길이가 다를 수는 있지만 유형이 다를 수는 없다.\n",
    "\n",
    "* `[1,2]`: 정수 리스트\n",
    "* `['a','b']`: 문자 리스트, 즉, 문자열"
   ]
  },
  {
   "cell_type": "code",
   "execution_count": 76,
   "metadata": {},
   "outputs": [
    {
     "ename": "",
     "evalue": "",
     "output_type": "error",
     "traceback": [
      "<interactive>:1:3: error:\n    • No instance for (Num Char) arising from the literal ‘1’\n    • In the expression: 1\n      In the expression: [1, 2]\n      In the expression: [[1, 2], ['a', 'b']]"
     ]
    }
   ],
   "source": [
    "[[1,2], ['a','b']]"
   ]
  },
  {
   "cell_type": "markdown",
   "metadata": {},
   "source": [
    "리스트에 포함된 항목들을 서로 비교할 수 있다면 리스트 사이의 사전식 비교가 가능해짐.\n",
    "\n",
    "* 비교 연산자: `<`, `<=`, `>`, `>=`\n",
    "\n",
    "* 사전식 비교: 두 리스트의 첫째 항목끼리 비교하고 같을 경우 둘째 항목, 같은 경우 셋째 항목 등등으로 비교"
   ]
  },
  {
   "cell_type": "code",
   "execution_count": 77,
   "metadata": {
    "attributes": {
     "classes": [
      "haskell:",
      "ghci"
     ],
     "id": "",
     "name": "\"code\""
    }
   },
   "outputs": [
    {
     "data": {
      "text/plain": [
       "True"
      ]
     },
     "metadata": {},
     "output_type": "display_data"
    }
   ],
   "source": [
    "[3,2,1] >= [2,1,0]"
   ]
  },
  {
   "cell_type": "code",
   "execution_count": 78,
   "metadata": {
    "attributes": {
     "classes": [
      "haskell:",
      "ghci"
     ],
     "id": "",
     "name": "\"code\""
    }
   },
   "outputs": [
    {
     "data": {
      "text/plain": [
       "True"
      ]
     },
     "metadata": {},
     "output_type": "display_data"
    }
   ],
   "source": [
    "[2,10,100] < [3]"
   ]
  },
  {
   "cell_type": "markdown",
   "metadata": {},
   "source": [
    "리스트 중에서 공리스트(empty list)가 크기가 가장 작다."
   ]
  },
  {
   "cell_type": "code",
   "execution_count": 79,
   "metadata": {},
   "outputs": [
    {
     "data": {
      "text/plain": [
       "True"
      ]
     },
     "metadata": {},
     "output_type": "display_data"
    }
   ],
   "source": [
    "[] < [0]"
   ]
  },
  {
   "cell_type": "markdown",
   "metadata": {},
   "source": [
    "이것이 아래 부등식이 성립하는 이유이다."
   ]
  },
  {
   "cell_type": "code",
   "execution_count": 80,
   "metadata": {
    "attributes": {
     "classes": [
      "haskell:",
      "ghci"
     ],
     "id": "",
     "name": "\"code\""
    }
   },
   "outputs": [
    {
     "data": {
      "text/plain": [
       "True"
      ]
     },
     "metadata": {},
     "output_type": "display_data"
    }
   ],
   "source": [
    "[3,4,2] > [3,4]"
   ]
  },
  {
   "cell_type": "markdown",
   "metadata": {},
   "source": [
    "두 리스트의 모든 항목이 동치(equal)이면 두 리스트 또한 동치이다."
   ]
  },
  {
   "cell_type": "code",
   "execution_count": 81,
   "metadata": {
    "attributes": {
     "classes": [
      "haskell:",
      "ghci"
     ],
     "id": "",
     "name": "\"code\""
    }
   },
   "outputs": [
    {
     "data": {
      "text/plain": [
       "True"
      ]
     },
     "metadata": {},
     "output_type": "display_data"
    }
   ],
   "source": [
    "[3,4,2] == [3*1,2+2,8/4]"
   ]
  },
  {
   "cell_type": "markdown",
   "metadata": {},
   "source": [
    "__참고:__ 린팅 기능을 다시 켜면 아래와 `3 * 1` 대신에 `3`을 사용할 것을 권장한다."
   ]
  },
  {
   "cell_type": "code",
   "execution_count": 82,
   "metadata": {
    "attributes": {
     "classes": [
      "haskell:",
      "ghci"
     ],
     "id": "",
     "name": "\"code\""
    }
   },
   "outputs": [],
   "source": [
    ":opt lint"
   ]
  },
  {
   "cell_type": "code",
   "execution_count": 83,
   "metadata": {
    "attributes": {
     "classes": [
      "haskell:",
      "ghci"
     ],
     "id": "",
     "name": "\"code\""
    }
   },
   "outputs": [
    {
     "data": {
      "text/html": [
       "<style>/* Styles used for the Hoogle display in the pager */\n",
       ".hoogle-doc {\n",
       "display: block;\n",
       "padding-bottom: 1.3em;\n",
       "padding-left: 0.4em;\n",
       "}\n",
       ".hoogle-code {\n",
       "display: block;\n",
       "font-family: monospace;\n",
       "white-space: pre;\n",
       "}\n",
       ".hoogle-text {\n",
       "display: block;\n",
       "}\n",
       ".hoogle-name {\n",
       "color: green;\n",
       "font-weight: bold;\n",
       "}\n",
       ".hoogle-head {\n",
       "font-weight: bold;\n",
       "}\n",
       ".hoogle-sub {\n",
       "display: block;\n",
       "margin-left: 0.4em;\n",
       "}\n",
       ".hoogle-package {\n",
       "font-weight: bold;\n",
       "font-style: italic;\n",
       "}\n",
       ".hoogle-module {\n",
       "font-weight: bold;\n",
       "}\n",
       ".hoogle-class {\n",
       "font-weight: bold;\n",
       "}\n",
       ".get-type {\n",
       "color: green;\n",
       "font-weight: bold;\n",
       "font-family: monospace;\n",
       "display: block;\n",
       "white-space: pre-wrap;\n",
       "}\n",
       ".show-type {\n",
       "color: green;\n",
       "font-weight: bold;\n",
       "font-family: monospace;\n",
       "margin-left: 1em;\n",
       "}\n",
       ".mono {\n",
       "font-family: monospace;\n",
       "display: block;\n",
       "}\n",
       ".err-msg {\n",
       "color: red;\n",
       "font-style: italic;\n",
       "font-family: monospace;\n",
       "white-space: pre;\n",
       "display: block;\n",
       "}\n",
       "#unshowable {\n",
       "color: red;\n",
       "font-weight: bold;\n",
       "}\n",
       ".err-msg.in.collapse {\n",
       "padding-top: 0.7em;\n",
       "}\n",
       ".highlight-code {\n",
       "white-space: pre;\n",
       "font-family: monospace;\n",
       "}\n",
       ".suggestion-warning { \n",
       "font-weight: bold;\n",
       "color: rgb(200, 130, 0);\n",
       "}\n",
       ".suggestion-error { \n",
       "font-weight: bold;\n",
       "color: red;\n",
       "}\n",
       ".suggestion-name {\n",
       "font-weight: bold;\n",
       "}\n",
       "</style><div class=\"suggestion-name\" style=\"clear:both;\">Evaluate</div><div class=\"suggestion-row\" style=\"float: left;\"><div class=\"suggestion-warning\">Found:</div><div class=\"highlight-code\" id=\"haskell\">3 * 1</div></div><div class=\"suggestion-row\" style=\"float: left;\"><div class=\"suggestion-warning\">Why Not:</div><div class=\"highlight-code\" id=\"haskell\">3</div></div>"
      ],
      "text/plain": [
       "Line 1: Evaluate\n",
       "Found:\n",
       "3 * 1\n",
       "Why not:\n",
       "3"
      ]
     },
     "metadata": {},
     "output_type": "display_data"
    },
    {
     "data": {
      "text/plain": [
       "True"
      ]
     },
     "metadata": {},
     "output_type": "display_data"
    }
   ],
   "source": [
    "[3,4,2] == [3*1,2+2,8/4]"
   ]
  },
  {
   "cell_type": "markdown",
   "metadata": {},
   "source": [
    "위와 같은 추천이 굳이 필요하지 않기에 앞으로 특별한 경우가 아니면 린팅 기능을 사용하지 않는다."
   ]
  },
  {
   "cell_type": "code",
   "execution_count": 84,
   "metadata": {
    "attributes": {
     "classes": [
      "haskell:",
      "ghci"
     ],
     "id": "",
     "name": "\"code\""
    }
   },
   "outputs": [],
   "source": [
    ":opt no-lint"
   ]
  },
  {
   "cell_type": "markdown",
   "metadata": {},
   "source": [
    "#### [`head`](https://hackage.haskell.org/package/base/docs/Prelude.html#v:head) 함수"
   ]
  },
  {
   "cell_type": "markdown",
   "metadata": {},
   "source": [
    "리스트의 머리(첫째 항목)를 반환한다."
   ]
  },
  {
   "cell_type": "code",
   "execution_count": 85,
   "metadata": {
    "attributes": {
     "classes": [
      "haskell:",
      "ghci"
     ],
     "id": "",
     "name": "\"code\""
    }
   },
   "outputs": [
    {
     "data": {
      "text/plain": [
       "5"
      ]
     },
     "metadata": {},
     "output_type": "display_data"
    }
   ],
   "source": [
    "head [5,4,3,2,1]"
   ]
  },
  {
   "cell_type": "markdown",
   "metadata": {},
   "source": [
    "#### [`tail`](https://hackage.haskell.org/package/base/docs/Prelude.html#v:tail)  함수"
   ]
  },
  {
   "cell_type": "markdown",
   "metadata": {},
   "source": [
    "리스트의 머리를 제외한 나머지 항목으로 이루어진 리스트를 반환환다."
   ]
  },
  {
   "cell_type": "code",
   "execution_count": 86,
   "metadata": {
    "attributes": {
     "classes": [
      "haskell:",
      "ghci"
     ],
     "id": "",
     "name": "\"code\""
    }
   },
   "outputs": [
    {
     "data": {
      "text/plain": [
       "[4,3,2,1]"
      ]
     },
     "metadata": {},
     "output_type": "display_data"
    }
   ],
   "source": [
    "tail [5,4,3,2,1]"
   ]
  },
  {
   "cell_type": "markdown",
   "metadata": {},
   "source": [
    "#### [`last`](https://hackage.haskell.org/package/base/docs/Prelude.html#v:last)  함수"
   ]
  },
  {
   "cell_type": "markdown",
   "metadata": {},
   "source": [
    "리스트의 가장 오른편에 위치한, 즉, 가장 마지막 항목을 반환한다."
   ]
  },
  {
   "cell_type": "code",
   "execution_count": 87,
   "metadata": {
    "attributes": {
     "classes": [
      "haskell:",
      "ghci"
     ],
     "id": "",
     "name": "\"code\""
    }
   },
   "outputs": [
    {
     "data": {
      "text/plain": [
       "1"
      ]
     },
     "metadata": {},
     "output_type": "display_data"
    }
   ],
   "source": [
    "last [5,4,3,2,1]"
   ]
  },
  {
   "cell_type": "markdown",
   "metadata": {},
   "source": [
    "#### [`init`](https://hackage.haskell.org/package/base/docs/Prelude.html#v:init) 함수"
   ]
  },
  {
   "cell_type": "markdown",
   "metadata": {},
   "source": [
    "리스트의 마지막 항목을 제외한 항목으로 이루어진 리스트를 반환한다."
   ]
  },
  {
   "cell_type": "code",
   "execution_count": 88,
   "metadata": {
    "attributes": {
     "classes": [
      "haskell:",
      "ghci"
     ],
     "id": "",
     "name": "\"code\""
    }
   },
   "outputs": [
    {
     "data": {
      "text/plain": [
       "[5,4,3,2]"
      ]
     },
     "metadata": {},
     "output_type": "display_data"
    }
   ],
   "source": [
    "init [5,4,3,2,1]"
   ]
  },
  {
   "cell_type": "markdown",
   "metadata": {},
   "source": [
    "`head`, `tail`, `last`, `init` 네 함수의 기능을 그림으로 표현해보면 다음과 같다.\n",
    "\n",
    "<img src=\"img/listmonster.png\" title=\"list monster\" style=\"\"/>"
   ]
  },
  {
   "cell_type": "markdown",
   "metadata": {},
   "source": [
    "__주의사항:__ 공리스트에 대해 앞서 소개한 네 개의 함수 모두 오류를 발생시킨다.\n",
    "이유는 네 함수 모두 첫째 항목 또는 마지막 항목의 존재를 요구하기 때문이다.\n",
    "이런 오류는 컴파일 과정에서 발각되지 않기에 위 함수들을 사용할 때 오류발생에 대한 예방조치를 \n",
    "취해야 한다.\n",
    "이후에 `error` 함수와  `Maybe` 유형을 활용하여 간단한 방식으로 오류를 예방하는 방식을\n",
    "다룰 것이다. "
   ]
  },
  {
   "cell_type": "code",
   "execution_count": 89,
   "metadata": {
    "attributes": {
     "classes": [
      "haskell:",
      "ghci"
     ],
     "id": "",
     "name": "\"code\""
    }
   },
   "outputs": [
    {
     "ename": "",
     "evalue": "",
     "output_type": "error",
     "traceback": [
      "Prelude.head: empty list"
     ]
    }
   ],
   "source": [
    "head []"
   ]
  },
  {
   "cell_type": "code",
   "execution_count": 90,
   "metadata": {
    "attributes": {
     "classes": [
      "haskell:",
      "ghci"
     ],
     "id": "",
     "name": "\"code\""
    }
   },
   "outputs": [
    {
     "ename": "",
     "evalue": "",
     "output_type": "error",
     "traceback": [
      "Prelude.tail: empty list"
     ]
    }
   ],
   "source": [
    "tail []"
   ]
  },
  {
   "cell_type": "code",
   "execution_count": 91,
   "metadata": {
    "attributes": {
     "classes": [
      "haskell:",
      "ghci"
     ],
     "id": "",
     "name": "\"code\""
    }
   },
   "outputs": [
    {
     "ename": "",
     "evalue": "",
     "output_type": "error",
     "traceback": [
      "Prelude.last: empty list"
     ]
    }
   ],
   "source": [
    "last []"
   ]
  },
  {
   "cell_type": "code",
   "execution_count": 92,
   "metadata": {
    "attributes": {
     "classes": [
      "haskell:",
      "ghci"
     ],
     "id": "",
     "name": "\"code\""
    }
   },
   "outputs": [
    {
     "ename": "",
     "evalue": "",
     "output_type": "error",
     "traceback": [
      "Prelude.init: empty list"
     ]
    }
   ],
   "source": [
    "init []"
   ]
  },
  {
   "cell_type": "markdown",
   "metadata": {},
   "source": [
    "#### [`length`](https://hackage.haskell.org/package/base/docs/Prelude.html#v:length) 함수"
   ]
  },
  {
   "cell_type": "markdown",
   "metadata": {},
   "source": [
    "리스트의 길이, 즉, 리스트에 포함된 항목의 수를 반환한다."
   ]
  },
  {
   "cell_type": "code",
   "execution_count": 93,
   "metadata": {
    "attributes": {
     "classes": [
      "haskell:",
      "ghci"
     ],
     "id": "",
     "name": "\"code\""
    }
   },
   "outputs": [
    {
     "data": {
      "text/plain": [
       "5"
      ]
     },
     "metadata": {},
     "output_type": "display_data"
    }
   ],
   "source": [
    "length [5,4,3,2,1]"
   ]
  },
  {
   "cell_type": "code",
   "execution_count": 94,
   "metadata": {
    "attributes": {
     "classes": [
      "haskell:",
      "ghci"
     ],
     "id": "",
     "name": "\"code\""
    }
   },
   "outputs": [
    {
     "data": {
      "text/plain": [
       "0"
      ]
     },
     "metadata": {},
     "output_type": "display_data"
    }
   ],
   "source": [
    "length []"
   ]
  },
  {
   "cell_type": "markdown",
   "metadata": {},
   "source": [
    "#### [`null`](https://hackage.haskell.org/package/base/docs/Prelude.html#v:null)  함수"
   ]
  },
  {
   "cell_type": "markdown",
   "metadata": {},
   "source": [
    "리스트가 비어있는지 여부를 확인한다. \n",
    "즉, 공리스트이면 `True`,\n",
    "그렇지 않으면 `False`를 반환한다."
   ]
  },
  {
   "cell_type": "code",
   "execution_count": 95,
   "metadata": {
    "attributes": {
     "classes": [
      "haskell:",
      "ghci"
     ],
     "id": "",
     "name": "\"code\""
    }
   },
   "outputs": [
    {
     "data": {
      "text/plain": [
       "False"
      ]
     },
     "metadata": {},
     "output_type": "display_data"
    }
   ],
   "source": [
    "null [1,2,3]"
   ]
  },
  {
   "cell_type": "code",
   "execution_count": 96,
   "metadata": {
    "attributes": {
     "classes": [
      "haskell:",
      "ghci"
     ],
     "id": "",
     "name": "\"code\""
    }
   },
   "outputs": [
    {
     "data": {
      "text/plain": [
       "True"
      ]
     },
     "metadata": {},
     "output_type": "display_data"
    }
   ],
   "source": [
    "null []"
   ]
  },
  {
   "cell_type": "markdown",
   "metadata": {},
   "source": [
    "리스트 이름을 `xs`라 할 때, `xs == []` 와 동일한 값을 반환한다."
   ]
  },
  {
   "cell_type": "code",
   "execution_count": 97,
   "metadata": {
    "attributes": {
     "classes": [
      "haskell:",
      "ghci"
     ],
     "id": "",
     "name": "\"code\""
    }
   },
   "outputs": [
    {
     "data": {
      "text/plain": [
       "True"
      ]
     },
     "metadata": {},
     "output_type": "display_data"
    }
   ],
   "source": [
    "null [1,2,3] == ([1,2,3] == [])"
   ]
  },
  {
   "cell_type": "code",
   "execution_count": 98,
   "metadata": {
    "attributes": {
     "classes": [
      "haskell:",
      "ghci"
     ],
     "id": "",
     "name": "\"code\""
    }
   },
   "outputs": [
    {
     "data": {
      "text/plain": [
       "True"
      ]
     },
     "metadata": {},
     "output_type": "display_data"
    }
   ],
   "source": [
    "null [] == ([] == [])"
   ]
  },
  {
   "cell_type": "markdown",
   "metadata": {},
   "source": [
    "__참고:__ 전위 함수의 우선순위가 가장 높기 때문에, \n",
    "위 두 표현식의 의미는 다음과 같다."
   ]
  },
  {
   "cell_type": "code",
   "execution_count": 99,
   "metadata": {
    "attributes": {
     "classes": [
      "haskell:",
      "ghci"
     ],
     "id": "",
     "name": "\"code\""
    }
   },
   "outputs": [
    {
     "data": {
      "text/plain": [
       "True"
      ]
     },
     "metadata": {},
     "output_type": "display_data"
    }
   ],
   "source": [
    "(null [1,2,3]) == ([1,2,3] == [])"
   ]
  },
  {
   "cell_type": "code",
   "execution_count": 100,
   "metadata": {
    "attributes": {
     "classes": [
      "haskell:",
      "ghci"
     ],
     "id": "",
     "name": "\"code\""
    }
   },
   "outputs": [
    {
     "data": {
      "text/plain": [
       "True"
      ]
     },
     "metadata": {},
     "output_type": "display_data"
    }
   ],
   "source": [
    "(null []) == ([] == [])"
   ]
  },
  {
   "cell_type": "markdown",
   "metadata": {},
   "source": [
    "#### [`reverse`](https://hackage.haskell.org/package/base/docs/Prelude.html#v:reverse) 함수"
   ]
  },
  {
   "cell_type": "markdown",
   "metadata": {},
   "source": [
    "주어진 리스트에 포함된 항목들의 순서를 거꾸로 해서 갖는 리스트를 반환한다."
   ]
  },
  {
   "cell_type": "code",
   "execution_count": 101,
   "metadata": {
    "attributes": {
     "classes": [
      "haskell:",
      "ghci"
     ],
     "id": "",
     "name": "\"code\""
    }
   },
   "outputs": [
    {
     "data": {
      "text/plain": [
       "[1,2,3,4,5]"
      ]
     },
     "metadata": {},
     "output_type": "display_data"
    }
   ],
   "source": [
    "reverse [5,4,3,2,1]"
   ]
  },
  {
   "cell_type": "markdown",
   "metadata": {},
   "source": [
    "#### [`take`](https://hackage.haskell.org/package/base/docs/Prelude.html#v:take) 함수"
   ]
  },
  {
   "cell_type": "markdown",
   "metadata": {},
   "source": [
    "리스트에서 지정한 수만큼의 항목만을 선택하여 만든 리스트를 반환한다.\n",
    "단, 항목은 0번 인덱스부터 지정한 수만큼 차례대로 선택한다."
   ]
  },
  {
   "cell_type": "code",
   "execution_count": 102,
   "metadata": {
    "attributes": {
     "classes": [
      "haskell:",
      "ghci"
     ],
     "id": "",
     "name": "\"code\""
    }
   },
   "outputs": [
    {
     "data": {
      "text/plain": [
       "[5,4,3]"
      ]
     },
     "metadata": {},
     "output_type": "display_data"
    }
   ],
   "source": [
    "take 3 [5,4,3,2,1]"
   ]
  },
  {
   "cell_type": "code",
   "execution_count": 103,
   "metadata": {
    "attributes": {
     "classes": [
      "haskell:",
      "ghci"
     ],
     "id": "",
     "name": "\"code\""
    }
   },
   "outputs": [
    {
     "data": {
      "text/plain": [
       "[3]"
      ]
     },
     "metadata": {},
     "output_type": "display_data"
    }
   ],
   "source": [
    "take 1 [3,9,3]"
   ]
  },
  {
   "cell_type": "markdown",
   "metadata": {},
   "source": [
    "지정한 수가 리스트의 길이보다 크면 리스트 전체를 반환한다."
   ]
  },
  {
   "cell_type": "code",
   "execution_count": 104,
   "metadata": {
    "attributes": {
     "classes": [
      "haskell:",
      "ghci"
     ],
     "id": "",
     "name": "\"code\""
    }
   },
   "outputs": [
    {
     "data": {
      "text/plain": [
       "[1,2]"
      ]
     },
     "metadata": {},
     "output_type": "display_data"
    }
   ],
   "source": [
    "take 5 [1,2]"
   ]
  },
  {
   "cell_type": "markdown",
   "metadata": {},
   "source": [
    "0개를 선택하라 하면 공리스트를 반환한다."
   ]
  },
  {
   "cell_type": "code",
   "execution_count": 105,
   "metadata": {
    "attributes": {
     "classes": [
      "haskell:",
      "ghci"
     ],
     "id": "",
     "name": "\"code\""
    }
   },
   "outputs": [
    {
     "data": {
      "text/plain": [
       "[]"
      ]
     },
     "metadata": {},
     "output_type": "display_data"
    }
   ],
   "source": [
    "take 0 [6,6,6]"
   ]
  },
  {
   "cell_type": "markdown",
   "metadata": {},
   "source": [
    "#### [`drop`](https://hackage.haskell.org/package/base/docs/Prelude.html#v:drop) 함수"
   ]
  },
  {
   "cell_type": "markdown",
   "metadata": {},
   "source": [
    "`take` 함수와는 달리 지정한 수만큼의 항목을 제외한 나머지 항목들로 이루어진 리스트를 반환한다.\n",
    "제외되는 항목은 0번 인덱스부터 지정한 수만큼 차례대로 선택된다."
   ]
  },
  {
   "cell_type": "code",
   "execution_count": 106,
   "metadata": {
    "attributes": {
     "classes": [
      "haskell:",
      "ghci"
     ],
     "id": "",
     "name": "\"code\""
    }
   },
   "outputs": [
    {
     "data": {
      "text/plain": [
       "[1,5,6]"
      ]
     },
     "metadata": {},
     "output_type": "display_data"
    }
   ],
   "source": [
    "drop 3 [8,4,2,1,5,6]"
   ]
  },
  {
   "cell_type": "code",
   "execution_count": 107,
   "metadata": {
    "attributes": {
     "classes": [
      "haskell:",
      "ghci"
     ],
     "id": "",
     "name": "\"code\""
    }
   },
   "outputs": [
    {
     "data": {
      "text/plain": [
       "[1,2,3,4]"
      ]
     },
     "metadata": {},
     "output_type": "display_data"
    }
   ],
   "source": [
    "drop 0 [1,2,3,4]"
   ]
  },
  {
   "cell_type": "code",
   "execution_count": 108,
   "metadata": {
    "attributes": {
     "classes": [
      "haskell:",
      "ghci"
     ],
     "id": "",
     "name": "\"code\""
    }
   },
   "outputs": [
    {
     "data": {
      "text/plain": [
       "[]"
      ]
     },
     "metadata": {},
     "output_type": "display_data"
    }
   ],
   "source": [
    "drop 100 [1,2,3,4]"
   ]
  },
  {
   "cell_type": "markdown",
   "metadata": {},
   "source": [
    "#### [`maximum`](https://hackage.haskell.org/package/base/docs/Prelude.html#v:maximum) / [`minimum`](https://hackage.haskell.org/package/base/docs/Prelude.html#v:minimum) 함수"
   ]
  },
  {
   "cell_type": "markdown",
   "metadata": {},
   "source": [
    "지정된 순서에 따라 크기를 비교할 수 있는 값으로 이루어진 리스트에서 가장 큰/작은 항목을 반환한다."
   ]
  },
  {
   "cell_type": "code",
   "execution_count": 109,
   "metadata": {
    "attributes": {
     "classes": [
      "haskell:",
      "ghci"
     ],
     "id": "",
     "name": "\"code\""
    }
   },
   "outputs": [
    {
     "data": {
      "text/plain": [
       "1"
      ]
     },
     "metadata": {},
     "output_type": "display_data"
    }
   ],
   "source": [
    "minimum [8,4,2,1,5,6]"
   ]
  },
  {
   "cell_type": "code",
   "execution_count": 110,
   "metadata": {
    "attributes": {
     "classes": [
      "haskell:",
      "ghci"
     ],
     "id": "",
     "name": "\"code\""
    }
   },
   "outputs": [
    {
     "data": {
      "text/plain": [
       "9"
      ]
     },
     "metadata": {},
     "output_type": "display_data"
    }
   ],
   "source": [
    "maximum [1,9,2,3,4]"
   ]
  },
  {
   "cell_type": "markdown",
   "metadata": {},
   "source": [
    "#### [`sum`](https://hackage.haskell.org/package/base/docs/Prelude.html#v:sum) / [`product`](https://hackage.haskell.org/package/base/docs/Prelude.html#v:product) 함수"
   ]
  },
  {
   "cell_type": "markdown",
   "metadata": {},
   "source": [
    "리스트에 포함된 항목들의 합/곱을 반환한다."
   ]
  },
  {
   "cell_type": "code",
   "execution_count": 111,
   "metadata": {
    "attributes": {
     "classes": [
      "haskell:",
      "ghci"
     ],
     "id": "",
     "name": "\"code\""
    }
   },
   "outputs": [
    {
     "data": {
      "text/plain": [
       "31"
      ]
     },
     "metadata": {},
     "output_type": "display_data"
    }
   ],
   "source": [
    "sum [5,2,1,6,3,2,5,7]"
   ]
  },
  {
   "cell_type": "code",
   "execution_count": 112,
   "metadata": {
    "attributes": {
     "classes": [
      "haskell:",
      "ghci"
     ],
     "id": "",
     "name": "\"code\""
    }
   },
   "outputs": [
    {
     "data": {
      "text/plain": [
       "24"
      ]
     },
     "metadata": {},
     "output_type": "display_data"
    }
   ],
   "source": [
    "product [6,2,1,2]"
   ]
  },
  {
   "cell_type": "code",
   "execution_count": 113,
   "metadata": {
    "attributes": {
     "classes": [
      "haskell:",
      "ghci"
     ],
     "id": "",
     "name": "\"code\""
    }
   },
   "outputs": [
    {
     "data": {
      "text/plain": [
       "0"
      ]
     },
     "metadata": {},
     "output_type": "display_data"
    }
   ],
   "source": [
    "product [1,2,5,6,7,9,2,0]"
   ]
  },
  {
   "cell_type": "markdown",
   "metadata": {},
   "source": [
    "#### [`elem`](https://hackage.haskell.org/package/base/docs/Prelude.html#v:elem) 함수"
   ]
  },
  {
   "cell_type": "markdown",
   "metadata": {},
   "source": [
    "리스트의 항목으로 포함되었는지 여부를 확인해준다.\n",
    "원래 전위 함수이지만 중위 함수로 사용하면 함수의 기능을 보다 쉽게 이해할 수 있다."
   ]
  },
  {
   "cell_type": "code",
   "execution_count": 114,
   "metadata": {
    "attributes": {
     "classes": [
      "haskell:",
      "ghci"
     ],
     "id": "",
     "name": "\"code\""
    }
   },
   "outputs": [
    {
     "data": {
      "text/plain": [
       "True"
      ]
     },
     "metadata": {},
     "output_type": "display_data"
    }
   ],
   "source": [
    "4 `elem` [3,4,5,6]"
   ]
  },
  {
   "cell_type": "code",
   "execution_count": 115,
   "metadata": {
    "attributes": {
     "classes": [
      "haskell:",
      "ghci"
     ],
     "id": "",
     "name": "\"code\""
    }
   },
   "outputs": [
    {
     "data": {
      "text/plain": [
       "False"
      ]
     },
     "metadata": {},
     "output_type": "display_data"
    }
   ],
   "source": [
    "10 `elem` [3,4,5,6]"
   ]
  },
  {
   "cell_type": "markdown",
   "metadata": {},
   "source": [
    "지금까지 리스트와 관련된 기초 함수들을 살펴보았다. \n",
    "보다 다양한 함수는 나중에 리스트 관련 모듈을 소개할 때 좀 더 다룰 것이다."
   ]
  },
  {
   "cell_type": "markdown",
   "metadata": {},
   "source": [
    "### 레인지(Range)"
   ]
  },
  {
   "cell_type": "markdown",
   "metadata": {},
   "source": [
    "하스켈에서 제공하는 레인지(range) 기능을 이용하여 특정 구간 내에서 특정 규칙을 따르는 \n",
    "값들로 이루어진 리스트를 간단하게 정의할 수 있다.\n",
    "단, 리스트의 항목에 사용되는 값들은 정수, 문자 등 __열거될 수 있는(enumerable)__ 특성을 가져야 한다. \n",
    "\n",
    "* 정수: 1, 2, 3, 4 ...\n",
    "* 문자: A, B, C, ..., Z, a, b, c, ... z 등등\n",
    "\n",
    "아래 리스트는 1부터 20까지의 자연수를 모두 포함하는 리스트를 레인지로 정의한다."
   ]
  },
  {
   "cell_type": "code",
   "execution_count": 116,
   "metadata": {
    "attributes": {
     "classes": [
      "haskell:",
      "ghci"
     ],
     "id": "",
     "name": "\"code\""
    }
   },
   "outputs": [
    {
     "data": {
      "text/plain": [
       "[1,2,3,4,5,6,7,8,9,10,11,12,13,14,15,16,17,18,19,20]"
      ]
     },
     "metadata": {},
     "output_type": "display_data"
    }
   ],
   "source": [
    "[1..20]"
   ]
  },
  {
   "cell_type": "markdown",
   "metadata": {},
   "source": [
    "`a`부터 `z`까지의 모든 소문자 알파벳으로 구성된 리스트는 다음과 같다. "
   ]
  },
  {
   "cell_type": "code",
   "execution_count": 117,
   "metadata": {
    "attributes": {
     "classes": [
      "haskell:",
      "ghci"
     ],
     "id": "",
     "name": "\"code\""
    }
   },
   "outputs": [
    {
     "data": {
      "text/plain": [
       "\"abcdefghijklmnopqrstuvwxyz\""
      ]
     },
     "metadata": {},
     "output_type": "display_data"
    }
   ],
   "source": [
    "['a'..'z']"
   ]
  },
  {
   "cell_type": "markdown",
   "metadata": {},
   "source": [
    "`K`부터 `Z`까지 모든 대문자 알파벳으로 구성된 리스트는 다음과 같다."
   ]
  },
  {
   "cell_type": "code",
   "execution_count": 118,
   "metadata": {
    "attributes": {
     "classes": [
      "haskell:",
      "ghci"
     ],
     "id": "",
     "name": "\"code\""
    }
   },
   "outputs": [
    {
     "data": {
      "text/plain": [
       "\"KLMNOPQRSTUVWXYZ\""
      ]
     },
     "metadata": {},
     "output_type": "display_data"
    }
   ],
   "source": [
    "['K'..'Z']"
   ]
  },
  {
   "cell_type": "markdown",
   "metadata": {},
   "source": [
    "__주의사항:__ \n",
    "문자열은 열거 기능이 없다. \n",
    "예를 들어, `\"Haskell\"` 다음에 어떤 문자열이 위치하는지 정할 수 없다."
   ]
  },
  {
   "cell_type": "markdown",
   "metadata": {},
   "source": [
    "#### 보폭(steps)"
   ]
  },
  {
   "cell_type": "markdown",
   "metadata": {},
   "source": [
    "예를 들어, 1부터 20 까지의 수 중에서 짝수만으로 이루어진 리스트를 원한다면 \n",
    "아래와 같이 보폭을 2로 하는 레인지로 정의하면 된다.\n",
    "보폭은 첫 두 항목의 차이로 지정한다."
   ]
  },
  {
   "cell_type": "code",
   "execution_count": 119,
   "metadata": {
    "attributes": {
     "classes": [
      "haskell:",
      "ghci"
     ],
     "id": "",
     "name": "\"code\""
    }
   },
   "outputs": [
    {
     "data": {
      "text/plain": [
       "[2,4,6,8,10,12,14,16,18,20]"
      ]
     },
     "metadata": {},
     "output_type": "display_data"
    }
   ],
   "source": [
    "[2,4..20]"
   ]
  },
  {
   "cell_type": "markdown",
   "metadata": {},
   "source": [
    "3부터 20 사이의 3의 배수로 이루어진 레인지는 다음과 같다."
   ]
  },
  {
   "cell_type": "code",
   "execution_count": 120,
   "metadata": {
    "attributes": {
     "classes": [
      "haskell:",
      "ghci"
     ],
     "id": "",
     "name": "\"code\""
    }
   },
   "outputs": [
    {
     "data": {
      "text/plain": [
       "[3,6,9,12,15,18]"
      ]
     },
     "metadata": {},
     "output_type": "display_data"
    }
   ],
   "source": [
    "[3,6..20]"
   ]
  },
  {
   "cell_type": "markdown",
   "metadata": {},
   "source": [
    "20부터 1까지의 숫자를 가진 리스트를 생성하려면 \n",
    "아래와 같이 해야한다."
   ]
  },
  {
   "cell_type": "code",
   "execution_count": 121,
   "metadata": {},
   "outputs": [
    {
     "data": {
      "text/plain": [
       "[20,19,18,17,16,15,14,13,12,11,10,9,8,7,6,5,4,3,2,1]"
      ]
     },
     "metadata": {},
     "output_type": "display_data"
    }
   ],
   "source": [
    "[20,19..1]"
   ]
  },
  {
   "cell_type": "markdown",
   "metadata": {},
   "source": [
    "보폭을 지정하지 않으면 의도치 않은 결과가 나올 수 있다."
   ]
  },
  {
   "cell_type": "code",
   "execution_count": 122,
   "metadata": {},
   "outputs": [
    {
     "data": {
      "text/plain": [
       "[]"
      ]
     },
     "metadata": {},
     "output_type": "display_data"
    }
   ],
   "source": [
    "[20..1]"
   ]
  },
  {
   "cell_type": "markdown",
   "metadata": {},
   "source": [
    "또한 아래처럼 보폭이 달라지는 리스트를 레인지로 정의할 수 없다."
   ]
  },
  {
   "cell_type": "code",
   "execution_count": 123,
   "metadata": {},
   "outputs": [
    {
     "ename": "",
     "evalue": "",
     "output_type": "error",
     "traceback": [
      "<interactive>:1:12: error: Variable not in scope: (...) :: Integer -> Integer -> a"
     ]
    }
   ],
   "source": [
    "[1,2,4,8,16...100]"
   ]
  },
  {
   "cell_type": "markdown",
   "metadata": {},
   "source": [
    "__주의사항:__ 부동소수점을 레인지와 함께 사용할 때는 많은 주의를 기울여야 한다.\n",
    "이유는 컴퓨터 자체가 부동소수점을 엄밀하게 다루지 못하기 때문이며,\n",
    "따라서 부동소수점을 레인지와 함께 사용하는 것은 기본적으로 권장되지 않는다."
   ]
  },
  {
   "cell_type": "code",
   "execution_count": 124,
   "metadata": {
    "attributes": {
     "classes": [
      "haskell:",
      "ghci"
     ],
     "id": "",
     "name": "\"code\""
    }
   },
   "outputs": [
    {
     "data": {
      "text/plain": [
       "[0.1,0.3,0.5,0.7,0.8999999999999999,1.0999999999999999]"
      ]
     },
     "metadata": {},
     "output_type": "display_data"
    }
   ],
   "source": [
    "[0.1, 0.3 .. 1]"
   ]
  },
  {
   "cell_type": "markdown",
   "metadata": {},
   "source": [
    "## 2.4 무한 리스트, 지연성, 조건제시법"
   ]
  },
  {
   "cell_type": "markdown",
   "metadata": {},
   "source": [
    "### 무한 리스트 "
   ]
  },
  {
   "cell_type": "markdown",
   "metadata": {},
   "source": [
    "레인지를 활용할 때 상한을 지정하지 않으면 \n",
    "길이가 무한인 리스트(infinite list)가 정의된다.\n",
    "예를 들어, 아래 레인지는 0, 1, 2, ... 등 모든 자연수를 항목으로 갖는 무한 리스트를 생성한다.\n",
    "\n",
    "```haskell\n",
    "[0..]\n",
    "```\n",
    "\n",
    "그런데 무한 리스트는 당연히 조심해서 다루어야 한다.\n",
    "그렇지 않으면 무한반복 실행이 발생할 수 있는데,\n",
    "위 정의를 직접 실행하는 일은 피해야 한다."
   ]
  },
  {
   "cell_type": "markdown",
   "metadata": {},
   "source": [
    "### 지연성 "
   ]
  },
  {
   "cell_type": "markdown",
   "metadata": {},
   "source": [
    "하스켈은 리스트의 항목을 정말로 활용해야 할 때까지 구체적으로 확인하지 않는다.\n",
    "이와같은 계산방식이 __지연 계산(lazy evaluation)__이며,\n",
    "이런 방식을 지원하는 프로그래밍언어의 __지연성(laziness)__이라 부른다.\n",
    "하스켈의 __지연성(laziness)__을 적절하게 활용하면 \n",
    "무한 리스트의 효용성을 극대화할 수 있는데,\n",
    "이는 하스켈만의 매우 독특한 특성이다. \n",
    "\n",
    "예를 들어, 13단에서 `13 * 1` 부터 `13 * 9`까지의 값을 다음처럼 생성할 수 있는데\n",
    "이유는 `take` 함수가 요구하는 첫 9개의 항목을 확인한 다음에 계산을 먼추기 때문이다."
   ]
  },
  {
   "cell_type": "code",
   "execution_count": 125,
   "metadata": {},
   "outputs": [
    {
     "data": {
      "text/plain": [
       "[13,26,39,52,65,78,91,104,117]"
      ]
     },
     "metadata": {},
     "output_type": "display_data"
    }
   ],
   "source": [
    "take 9 [13,26..]"
   ]
  },
  {
   "cell_type": "markdown",
   "metadata": {},
   "source": [
    "아래와 같이 할 수도 있지만 위 방식이 보다 다루기 쉽다."
   ]
  },
  {
   "cell_type": "code",
   "execution_count": 126,
   "metadata": {},
   "outputs": [
    {
     "data": {
      "text/plain": [
       "[13,26,39,52,65,78,91,104,117]"
      ]
     },
     "metadata": {},
     "output_type": "display_data"
    }
   ],
   "source": [
    "[13,26..13*9]"
   ]
  },
  {
   "cell_type": "markdown",
   "metadata": {},
   "source": [
    "__참고: 적극 계산(eager evaluation)__ \n",
    "\n",
    "* 지연 계산에 대비되는 개념이다. \n",
    "    예를 들어, `take 9 [13, 26...]`을 적극 계산 방식으로 계산하려 하면 계산이 멈추지 않을 것이다.\n",
    "    이유는 `take` 함수가 먼저 두 개의 인자를 정확하게 파악하려 하기에 둘째 인자인 무한 리스트의 \n",
    "    모든 항목을 확인하는 과정을 거쳐야 하기 때문이다.\n",
    "* C, 자바, 파이썬 등은 기본적으로 적극 계산 방식을 사용한다."
   ]
  },
  {
   "cell_type": "markdown",
   "metadata": {},
   "source": [
    "아래 두 함수 모두 무한 리스트를 생성하여 반환한다.\n",
    "\n",
    "* `cycle`: 하나의 리스트를 무한 반복시킨 리스트 생성.\n",
    "    \n",
    "* `repeat`: 하나의 값으로 이루어진 무한 리스트 생성.\n",
    "    \n",
    "위 두 함수가 반환한 무한 리스트를 위에서처럼 `take` 함수를 이용하여 유용하게 활용할 수 있다. "
   ]
  },
  {
   "cell_type": "code",
   "execution_count": 127,
   "metadata": {
    "attributes": {
     "classes": [
      "haskell:",
      "ghci"
     ],
     "id": "",
     "name": "\"code\""
    }
   },
   "outputs": [
    {
     "data": {
      "text/plain": [
       "[1,2,3,1,2,3,1,2,3,1]"
      ]
     },
     "metadata": {},
     "output_type": "display_data"
    }
   ],
   "source": [
    "take 10 (cycle [1,2,3])"
   ]
  },
  {
   "cell_type": "code",
   "execution_count": 128,
   "metadata": {
    "attributes": {
     "classes": [
      "haskell:",
      "ghci"
     ],
     "id": "",
     "name": "\"code\""
    }
   },
   "outputs": [
    {
     "data": {
      "text/plain": [
       "\"LOL LOL LOL \""
      ]
     },
     "metadata": {},
     "output_type": "display_data"
    }
   ],
   "source": [
    "take 12 (cycle \"LOL \")"
   ]
  },
  {
   "cell_type": "code",
   "execution_count": 129,
   "metadata": {
    "attributes": {
     "classes": [
      "haskell:",
      "ghci"
     ],
     "id": "",
     "name": "\"code\""
    }
   },
   "outputs": [
    {
     "data": {
      "text/plain": [
       "[5,5,5,5,5,5,5,5,5,5]"
      ]
     },
     "metadata": {},
     "output_type": "display_data"
    }
   ],
   "source": [
    "take 10 (repeat 5)"
   ]
  },
  {
   "cell_type": "markdown",
   "metadata": {},
   "source": [
    "__참고:__ 동일한 항목으로 이루어진 유한(finite) 리스트를 생성하려면\n",
    "`replicate` 함수를 사용는 것이 보다 간단하다."
   ]
  },
  {
   "cell_type": "code",
   "execution_count": 130,
   "metadata": {},
   "outputs": [
    {
     "data": {
      "text/plain": [
       "[5,5,5,5,5,5,5,5,5,5]"
      ]
     },
     "metadata": {},
     "output_type": "display_data"
    }
   ],
   "source": [
    "replicate 10 5"
   ]
  },
  {
   "cell_type": "markdown",
   "metadata": {},
   "source": [
    "### 리스트 조건제시법"
   ]
  },
  {
   "cell_type": "markdown",
   "metadata": {},
   "source": [
    "수학에서 집합을 정의할 때 사용하는 조건제시법 기술을 \n",
    "리스트를 생성할 때 활용할 수 있으며, \n",
    "레인지보다 훨씬 다양한 리스트를 쉽게 생성할 수 있도록 도와주다. \n",
    "\n",
    "리스트에 조건제시법을 적용하는 방법은 집합을 정의할 때와 사실상 동일하다.\n",
    "예를 들어, \n",
    "1부터 시작해서 10개의 짝수를 포함하는 집합을 조건제시법으로 정의하면 아래와 같다.\n",
    "\n",
    "$$\n",
    "\\{\\, 2 x \\mid x \\in \\mathbb{N}, x \\le 10\\, \\}\n",
    "$$\n",
    "\n",
    "위 조건제시법에 사용된 기호와 수식의 역할은 다음과 같다.\n",
    "\n",
    "* 막대기 모양의 기호 (`|`, 파이프라 부르기도 함) 왼편에 위치한 \\\n",
    "    표현식 $2 x$ 는 집합에 포함될 원소의 값을 표현하는 수식\n",
    "* $x$ 는 원소의 값을 표현하는 수식에 사용되는 변수\n",
    "* $\\mathbb{N}$ 은 주어진 집합\n",
    "* $x \\le 10$ 은 집합 원소로 포함될 조건을 담은 수식\n",
    "\n",
    "위 집합을 하스켈의 리스트로 다음과 같이 정의할 수 있다."
   ]
  },
  {
   "cell_type": "code",
   "execution_count": 131,
   "metadata": {
    "attributes": {
     "classes": [
      "haskell:",
      "ghci"
     ],
     "id": "",
     "name": "\"code\""
    }
   },
   "outputs": [
    {
     "data": {
      "text/plain": [
       "[2,4,6,8,10,12,14,16,18,20]"
      ]
     },
     "metadata": {},
     "output_type": "display_data"
    }
   ],
   "source": [
    "[x*2 | x <- [1..10]]"
   ]
  },
  {
   "cell_type": "markdown",
   "metadata": {},
   "source": [
    "__주의사항:__ 형식적으로는 아래와 같이 앞서 정의한 집합과 사실상 \n",
    "동일하게 정의할 수도 있다. \n",
    "하지만 아래 정의를 실행하면 무한반복에 빠진다.\n",
    "이유는 모든 양의 정수에 대해 10보다 같거나 작은지 여부를 검사하기 때문이다.\n",
    "\n",
    "```haskell\n",
    "[x*2 | x <- [1..], x <= 10]\n",
    "```"
   ]
  },
  {
   "cell_type": "markdown",
   "metadata": {},
   "source": [
    "앞서 살펴본 대로 하스켈의 지연성과 `take` 함수를 활용하여 \n",
    "10개의 2의 배수를 구하는 문제는 아래 방식으로도 가능하다."
   ]
  },
  {
   "cell_type": "code",
   "execution_count": 132,
   "metadata": {},
   "outputs": [
    {
     "data": {
      "text/plain": [
       "[2,4,6,8,10,12,14,16,18,20]"
      ]
     },
     "metadata": {},
     "output_type": "display_data"
    }
   ],
   "source": [
    "take 10 [x*2 | x <- [1..], x <= 10]"
   ]
  },
  {
   "cell_type": "markdown",
   "metadata": {},
   "source": [
    "물론 아래 방식이 보다 간단하다."
   ]
  },
  {
   "cell_type": "code",
   "execution_count": 133,
   "metadata": {},
   "outputs": [
    {
     "data": {
      "text/plain": [
       "[2,4,6,8,10,12,14,16,18,20]"
      ]
     },
     "metadata": {},
     "output_type": "display_data"
    }
   ],
   "source": [
    "take 10 [x*2 | x <- [1..]]"
   ]
  },
  {
   "cell_type": "markdown",
   "metadata": {},
   "source": [
    "방금 살펴본 대로 \n",
    "참(`True`) 또는 거짓(`False`)으로 계산될 수 있는\n",
    "부울 조건식(조건 표현식)을 활용하여 보다 다양한 리스트를 생성할 수 있다.\n",
    "예를 들어, 1부터 10까지 수를 두 배한 값들 중에서 12 이상인 값들만 항목으로 갖는 리스트를\n",
    "다음처럼 생성한다."
   ]
  },
  {
   "cell_type": "code",
   "execution_count": 134,
   "metadata": {
    "attributes": {
     "classes": [
      "haskell:",
      "ghci"
     ],
     "id": "",
     "name": "\"code\""
    }
   },
   "outputs": [
    {
     "data": {
      "text/plain": [
       "[12,14,16,18,20]"
      ]
     },
     "metadata": {},
     "output_type": "display_data"
    }
   ],
   "source": [
    "[x*2 | x <- [1..10], x*2 >= 12]"
   ]
  },
  {
   "cell_type": "markdown",
   "metadata": {},
   "source": [
    "50부터 100까지의 정수 중에서 7로 나누었을 때 나머지가 3인 정수들로 이루어진 리스트는\n",
    "`mod` 함수를 활용하면 된다."
   ]
  },
  {
   "cell_type": "code",
   "execution_count": 135,
   "metadata": {
    "attributes": {
     "classes": [
      "haskell:",
      "ghci"
     ],
     "id": "",
     "name": "\"code\""
    }
   },
   "outputs": [
    {
     "data": {
      "text/plain": [
       "[52,59,66,73,80,87,94]"
      ]
     },
     "metadata": {},
     "output_type": "display_data"
    }
   ],
   "source": [
    "[ x | x <- [50..100], x `mod` 7 == 3]"
   ]
  },
  {
   "cell_type": "markdown",
   "metadata": {},
   "source": [
    "#### 필터링"
   ]
  },
  {
   "cell_type": "markdown",
   "metadata": {},
   "source": [
    "조건식을 사용해 리스트의 항목을 걸러내는 작업을 __필터링(filtering)__ 이라 부른다.\n",
    "여러 개의 조건식이 사용되면 언급된 모든 조건식이 참이 되어야 한다.\n",
    "예를 들어, 0~20까지의 모든 정수 중에서 13, 15, 19를 제외한 \n",
    "정수만을 담은 리스트는 다음과 같다."
   ]
  },
  {
   "cell_type": "code",
   "execution_count": 136,
   "metadata": {
    "attributes": {
     "classes": [
      "haskell:",
      "ghci"
     ],
     "id": "",
     "name": "\"code\""
    }
   },
   "outputs": [
    {
     "data": {
      "text/plain": [
       "[10,11,12,14,16,17,18,20]"
      ]
     },
     "metadata": {},
     "output_type": "display_data"
    }
   ],
   "source": [
    "[ x | x <- [10..20], x /= 13, x /= 15, x /= 19]"
   ]
  },
  {
   "cell_type": "markdown",
   "metadata": {},
   "source": [
    "리스트에 포함된 항목들을 대상으로 모든 짝수를 제거하면서 동시에 \n",
    "10보다 큰 홀수는 `\"BANG!\"`으로, 10보다 작은 홀수는 `\"BOOM!\"`으로 \n",
    "변경해주는 함수 `boomBangs`을 아래처럼 정의할 수 있다."
   ]
  },
  {
   "cell_type": "code",
   "execution_count": 137,
   "metadata": {
    "attributes": {
     "classes": [
      "haskell:",
      "ghci"
     ],
     "id": "",
     "name": "\"code\""
    }
   },
   "outputs": [],
   "source": [
    "boomBangs xs = [ if x < 10 then \"BOOM!\" else \"BANG!\" | x <- xs, odd x]"
   ]
  },
  {
   "cell_type": "markdown",
   "metadata": {},
   "source": [
    "위 함수의 본체에 사용된 표현식과 함수는 다음과 같다.\n",
    "\n",
    "* `if` 표현식. 명령문 아니기에 가능함의 유의할 것.\n",
    "* `odd` 함수: 홀수이면 참, 아니면 거짓 반환\n",
    "    \n",
    "7부터 13까지의 정수를 담은 리스트에 대한 결과는 다음과 같다."
   ]
  },
  {
   "cell_type": "code",
   "execution_count": 138,
   "metadata": {
    "attributes": {
     "classes": [
      "haskell:",
      "hs"
     ],
     "id": "",
     "name": "\"code\""
    }
   },
   "outputs": [
    {
     "data": {
      "text/plain": [
       "[\"BOOM!\",\"BOOM!\",\"BANG!\",\"BANG!\"]"
      ]
     },
     "metadata": {},
     "output_type": "display_data"
    }
   ],
   "source": [
    "boomBangs [7..13]"
   ]
  },
  {
   "cell_type": "markdown",
   "metadata": {},
   "source": [
    "#### 다변수 조건제시법"
   ]
  },
  {
   "cell_type": "markdown",
   "metadata": {},
   "source": [
    "파이프(`|`) 왼편에 사용되는 항목 표현식에 여러 개의 변수가 활용될 수 있다.\n",
    "이런 경우 파이프 오른편에 각각의 변수에 대한 조건식이 포함되어야 한다.\n",
    "\n",
    "예를 들어, 아래 조건제시법은 12개의 항목을 갖는 리스트를 생성한다."
   ]
  },
  {
   "cell_type": "code",
   "execution_count": 139,
   "metadata": {
    "attributes": {
     "classes": [
      "haskell:",
      "ghci"
     ],
     "id": "",
     "name": "\"code\""
    }
   },
   "outputs": [
    {
     "data": {
      "text/plain": [
       "[16,20,22,30,40,50,55,75,80,100,110,150]"
      ]
     },
     "metadata": {},
     "output_type": "display_data"
    },
    {
     "data": {
      "text/plain": []
     },
     "metadata": {},
     "output_type": "display_data"
    }
   ],
   "source": [
    "[ x*y | x <- [2,5,10], y <- [8,10,11, 15]]"
   ]
  },
  {
   "cell_type": "markdown",
   "metadata": {},
   "source": [
    "여기서 12개의 항목이 만들어지는 순서는 다음과 같다.\n",
    "\n",
    "* 먼저 `x`가 2일 때, `y`값을 8, 10, 11, 15에 대해 곱한 값들이 맨 처음 네 자리를 차지함.\n",
    "* 다음은 `x`가 5일 때, `y`값을 8, 10, 11, 15에 대해 곱한 값들이 그 다음  네 자리를 차지함.\n",
    "* 끝으로 `x`가 10일 때, `y`값을 8, 10, 11, 15에 대해 곱한 값들이 마지막 네 자리를 차지함."
   ]
  },
  {
   "cell_type": "markdown",
   "metadata": {},
   "source": [
    "만약 곱셈의 결과가 50 이상인 경우만 알고 싶다면 아래 코드처럼 작성하면 된다."
   ]
  },
  {
   "cell_type": "code",
   "execution_count": 140,
   "metadata": {
    "attributes": {
     "classes": [
      "haskell:",
      "ghci"
     ],
     "id": "",
     "name": "\"code\""
    }
   },
   "outputs": [
    {
     "data": {
      "text/plain": [
       "[55,75,80,100,110,150]"
      ]
     },
     "metadata": {},
     "output_type": "display_data"
    }
   ],
   "source": [
    "[ x*y | x <- [2,5,10], y <- [8,10,11,15], x*y > 50]"
   ]
  },
  {
   "cell_type": "markdown",
   "metadata": {},
   "source": [
    "형용사를 포함한 리스트와 명사를 포함한 리스트를 결합한\n",
    "리스트는 다음과 같다."
   ]
  },
  {
   "cell_type": "code",
   "execution_count": 141,
   "metadata": {
    "attributes": {
     "classes": [
      "haskell:",
      "ghci"
     ],
     "id": "",
     "name": "\"code\""
    }
   },
   "outputs": [
    {
     "data": {
      "text/plain": [
       "[\"lazy hobo\",\"lazy frog\",\"lazy pope\",\"grouchy hobo\",\"grouchy frog\",\"grouchy pope\",\"scheming hobo\",\"scheming frog\",\"scheming pope\"]"
      ]
     },
     "metadata": {},
     "output_type": "display_data"
    }
   ],
   "source": [
    "let nouns = [\"hobo\",\"frog\",\"pope\"]\n",
    "let adjectives = [\"lazy\",\"grouchy\",\"scheming\"]\n",
    "[adjective ++ \" \" ++ noun | adjective <- adjectives, noun <- nouns]"
   ]
  },
  {
   "cell_type": "markdown",
   "metadata": {},
   "source": [
    "__참고: 밑줄 활용__\n",
    "\n",
    "조건제시법에 사용되는 변수의 이름이 중요하지 않은 경우 밑줄(`_`)을 활용한다.\n",
    "밑줄(`_`)은 이름으로 사용되지 못하기 때문에 파이프 왼편 수식에서 사용될 수 없다.\n",
    "\n",
    "예를 들어, 아래 정의에서 리스트의 항목은 리스트 `xs` 항목을 가리키는 \n",
    "변수와 상관없이 무조건 숫자 1로 지정되며,\n",
    "1이 모두 `xs` 길이만큼 포함된다."
   ]
  },
  {
   "cell_type": "code",
   "execution_count": 142,
   "metadata": {
    "attributes": {
     "classes": [
      "haskell:",
      "hs"
     ],
     "id": "",
     "name": "\"code\""
    }
   },
   "outputs": [],
   "source": [
    "length' xs = sum [1 | _ <- xs]"
   ]
  },
  {
   "cell_type": "markdown",
   "metadata": {},
   "source": [
    "__참고:__ 밑줄을 언더바(underbar)라고 부르는 경우가 \n",
    "있는데 옳지 않은 표현이다.\n",
    "밑줄의 영어 표현은 언더스코어(underscore)이다."
   ]
  },
  {
   "cell_type": "markdown",
   "metadata": {},
   "source": [
    "#### 문자열과 조건제시법 "
   ]
  },
  {
   "cell_type": "markdown",
   "metadata": {},
   "source": [
    "문자열도 리스트이기에, 문자열을 처리하고 생성하는데 리스트 조건제시법을 \n",
    "사용할 수 있다.\n",
    "아래 함수는 문자열에 포함된 문자 중에서 대문자 알파벳만 선택해서 \n",
    "새로운 리스트를 생성한다."
   ]
  },
  {
   "cell_type": "code",
   "execution_count": 143,
   "metadata": {
    "attributes": {
     "classes": [
      "haskell:",
      "hs"
     ],
     "id": "",
     "name": "\"code\""
    }
   },
   "outputs": [],
   "source": [
    "removeNonUppercase str = [ c | c <- str, c `elem` ['A'..'Z']]"
   ]
  },
  {
   "cell_type": "code",
   "execution_count": 144,
   "metadata": {
    "attributes": {
     "classes": [
      "haskell:",
      "ghci"
     ],
     "id": "",
     "name": "\"code\""
    }
   },
   "outputs": [
    {
     "data": {
      "text/plain": [
       "\"HA\""
      ]
     },
     "metadata": {},
     "output_type": "display_data"
    }
   ],
   "source": [
    "removeNonUppercase \"Hahaha! Ahahaha!\""
   ]
  },
  {
   "cell_type": "code",
   "execution_count": 145,
   "metadata": {
    "attributes": {
     "classes": [
      "haskell:",
      "ghci"
     ],
     "id": "",
     "name": "\"code\""
    }
   },
   "outputs": [
    {
     "data": {
      "text/plain": [
       "\"ILIKEFROGS\""
      ]
     },
     "metadata": {},
     "output_type": "display_data"
    }
   ],
   "source": [
    "removeNonUppercase \"IdontLIKEFROGS\""
   ]
  },
  {
   "cell_type": "markdown",
   "metadata": {},
   "source": [
    "#### 중첩 조건제시법"
   ]
  },
  {
   "cell_type": "markdown",
   "metadata": {},
   "source": [
    "중첩 리스트를 조건제시법과 함께 활용하기 위해 \n",
    "중첩 조건제시법을 사용한다.\n",
    "아래 예제는 정수들의 리스트로 이루어진 이중 리스트에서 홀수를 제거하는 방법을 보여준다."
   ]
  },
  {
   "cell_type": "code",
   "execution_count": 146,
   "metadata": {
    "attributes": {
     "classes": [
      "haskell:",
      "ghci"
     ],
     "id": "",
     "name": "\"code\""
    }
   },
   "outputs": [
    {
     "data": {
      "text/plain": [
       "[[2,2,4],[2,4,6],[2,4,2,6,2,6]]"
      ]
     },
     "metadata": {},
     "output_type": "display_data"
    }
   ],
   "source": [
    "let xxs = [[1,3,5,2,3,1,2,4,5],[1,2,3,4,5,6,7],[1,2,4,2,1,6,3,1,3,2,3,6]]\n",
    "\n",
    "[ [ x | x <- xs, even x ] | xs <- xxs]"
   ]
  },
  {
   "cell_type": "markdown",
   "metadata": {},
   "source": [
    "먼저 `xs`를 기준으로 삼는다. 즉, 바깥쪽에 위치한 파이프의 오른편에 사용된 변수가 먼저 사용된다.\n",
    "이후 `xs`에 포함된 항목들 중에서 짝수만 선택하는 조건제시법이 사용되었다."
   ]
  },
  {
   "cell_type": "markdown",
   "metadata": {},
   "source": [
    "__참고:__ \n",
    "리스트 조건제시법을 여러 줄에 거쳐 작성할 수 있다. \n",
    "특히 중첩된 경우와 같이 리스트 조건제시법이 길어질 경우에는 여러 줄로 나누어서 작성하는\n",
    "것이 권장된다.\n",
    "예를 들어, 아래 조건제시법은 `xxs`에서 길이가 8보다 큰 리스트에 대해서만\n",
    "선택 과정이 작동한다. "
   ]
  },
  {
   "cell_type": "code",
   "execution_count": 147,
   "metadata": {
    "attributes": {
     "classes": [
      "haskell:",
      "ghci"
     ],
     "id": "",
     "name": "\"code\""
    }
   },
   "outputs": [
    {
     "data": {
      "text/plain": [
       "[[2,2,4],[2,4,2,6,2,6]]"
      ]
     },
     "metadata": {},
     "output_type": "display_data"
    }
   ],
   "source": [
    "[ [ x | x <- xs, even x ] | xs <- xxs,\n",
    "                            length xs > 8 ]"
   ]
  },
  {
   "cell_type": "markdown",
   "metadata": {},
   "source": [
    "## 2.5 튜플(Tuple)"
   ]
  },
  {
   "cell_type": "markdown",
   "metadata": {},
   "source": [
    "튜플 또한 여러 개의 값을 묶어 하나의 값으로 다루는 기능을 제공한다.\n",
    "튜플과 리스트의 차이점은 다음과 같다.\n",
    "\n",
    "| 리스트 | 튜플 |\n",
    "| --- | --- |\n",
    "| 대괄호 사용 | 소괄호 사용 |\n",
    "| 포함된 항목의 유형이 동일 | 서로 다른 유형의 항목 포함 가능 |\n",
    "| 유형이 리스트의 길이와 무관 | 유형이 길이에 의존 |\n",
    "| 무한 리스트 가능 | 유한 튜플만 가능 |\n",
    "| 길이가 0 또는 1인 리스트 가능 | 길이가 2 이상 |"
   ]
  },
  {
   "cell_type": "markdown",
   "metadata": {},
   "source": [
    "__*예제*:__ 2차원 벡터"
   ]
  },
  {
   "cell_type": "markdown",
   "metadata": {},
   "source": [
    "2차원 벡터를 리스트를 이용하여 다음과 같이 정의할 수 있다."
   ]
  },
  {
   "cell_type": "code",
   "execution_count": 148,
   "metadata": {},
   "outputs": [
    {
     "data": {
      "text/plain": [
       "[[1,2],[8,11],[4,5]]"
      ]
     },
     "metadata": {},
     "output_type": "display_data"
    }
   ],
   "source": [
    "[[1,2],[8,11],[4,5]]"
   ]
  },
  {
   "cell_type": "markdown",
   "metadata": {},
   "source": [
    "하지만 위 값의 유형은 다음과 같은 리스트도 포함한다.\n",
    "이유는 리스트의 유형은 길이와 무관하기 때문이다."
   ]
  },
  {
   "cell_type": "code",
   "execution_count": 149,
   "metadata": {},
   "outputs": [
    {
     "data": {
      "text/plain": [
       "[[1,2],[8,11,5],[4,5]]"
      ]
     },
     "metadata": {},
     "output_type": "display_data"
    }
   ],
   "source": [
    "[[1,2],[8,11,5],[4,5]]"
   ]
  },
  {
   "cell_type": "markdown",
   "metadata": {},
   "source": [
    "튜플을 이용하여 이런 단점을 해결할 수 있다.\n",
    "이유는 튜플의 유형은 튜플의 길이에도 의존하기 때문이다.\n",
    "예를 들어, \n",
    "\n",
    "```haskell\n",
    "(1,2)\n",
    "```\n",
    "\n",
    "와\n",
    "\n",
    "```haskell\n",
    "(8,11,5)\n",
    "```\n",
    "\n",
    "는 서로 다른 유형의 튜플이다. \n",
    "따라서 아래와 같은 튜플 리스트는 허용되지 않는다."
   ]
  },
  {
   "cell_type": "code",
   "execution_count": 150,
   "metadata": {
    "attributes": {
     "classes": [
      "haskell:",
      "ghci"
     ],
     "id": "",
     "name": "\"code\""
    }
   },
   "outputs": [
    {
     "ename": "",
     "evalue": "",
     "output_type": "error",
     "traceback": [
      "<interactive>:1:8: error:\n    • Couldn't match expected type ‘(a, b)’ with actual type ‘(Integer, Integer, Integer)’\n    • In the expression: (8, 11, 5)\n      In the expression: [(1, 2), (8, 11, 5), (4, 5)]\n      In an equation for ‘it’: it = [(1, 2), (8, 11, 5), (4, 5)]\n    • Relevant bindings include it :: [(a, b)] (bound at <interactive>:1:1)"
     ]
    }
   ],
   "source": [
    "[(1,2),(8,11,5),(4,5)]"
   ]
  },
  {
   "cell_type": "markdown",
   "metadata": {},
   "source": [
    "또한 `[(1,2),(\"One\",2)]`와 같은 리스트도 만들 수 없다.\n",
    "이유는 리스트의 첫 번째 항목은 숫자로 구성된 튜플이지만, \n",
    "두 번째 항목은 문자열과 숫자로 구성된 튜플이라서 \n",
    "두 튜플의 유형이 다르기 때문이다. "
   ]
  },
  {
   "cell_type": "markdown",
   "metadata": {},
   "source": [
    "### 튜플의 특징 요약 "
   ]
  },
  {
   "cell_type": "markdown",
   "metadata": {},
   "source": [
    "* 임의의 유형의 값이 튜플의 항목으로 사용될 수 있다.\n",
    "    위 예제에서 보았듯이, 예를 들어, 리스트도 튜플의 항목으로 사용될 수 있다."
   ]
  },
  {
   "cell_type": "code",
   "execution_count": 151,
   "metadata": {},
   "outputs": [
    {
     "data": {
      "text/plain": [
       "(1,'a',[2,3],[\"cd\",\"efg\"])"
      ]
     },
     "metadata": {},
     "output_type": "display_data"
    }
   ],
   "source": [
    "(1,'a',[2,3],[['c','d'],['e','f','g']])"
   ]
  },
  {
   "cell_type": "markdown",
   "metadata": {},
   "source": [
    "* 튜플의 길이는 임의로 길어도 된다. 단, 무한 튜플은 허용되지 않는다.\n",
    "\n",
    "* 데이터에 포함되어야 하는 원소의 수를 미리 알고 있는 경우 튜플 사용을 권장한다.\n",
    "\n",
    "* 리스트와 달리 길이를 달리할 수 없기 때문에 보다 안정적으로 데이터를 저장할 수 있다.\n",
    "    즉, 데이터를 임의적으로 추가하거나 삭제할 수 없다.\n",
    "\n",
    "* 튜플의 길이는 2 이상이어야 한다. \n",
    "* 길이가 1인 튜플은 존재하지 않는다.\n",
    "    하나의 값을 소괄호로 감싸면 단순히 값을 구분하기 위한 용도로 인식된다.   "
   ]
  },
  {
   "cell_type": "code",
   "execution_count": 152,
   "metadata": {},
   "outputs": [
    {
     "data": {
      "text/plain": [
       "True"
      ]
     },
     "metadata": {},
     "output_type": "display_data"
    }
   ],
   "source": [
    "'a' == ('a')"
   ]
  },
  {
   "cell_type": "markdown",
   "metadata": {},
   "source": [
    "* 항목을 전혀 갖지 않은 튜플도 없다. \n",
    "\n",
    "__주의사항:__ `()`는 하스켈에서 단 하나의 값으로만 구성된 유닛(unit) 유형 \n",
    "또는 그 유형의 유일한 값을 가리킨다. \n",
    "유닛 유형은 나중에 다시 살펴볼 것이다."
   ]
  },
  {
   "cell_type": "markdown",
   "metadata": {},
   "source": [
    "* 튜플의 항목에 대해 동치성/크기 비교를 할 수 있으면 \n",
    "    튜플 자체도 동치성/크기 비교가 가능하다."
   ]
  },
  {
   "cell_type": "code",
   "execution_count": 153,
   "metadata": {},
   "outputs": [
    {
     "data": {
      "text/plain": [
       "True"
      ]
     },
     "metadata": {},
     "output_type": "display_data"
    }
   ],
   "source": [
    "(1,2,3) <= (5,6,7)"
   ]
  },
  {
   "cell_type": "code",
   "execution_count": 154,
   "metadata": {},
   "outputs": [
    {
     "data": {
      "text/plain": [
       "True"
      ]
     },
     "metadata": {},
     "output_type": "display_data"
    }
   ],
   "source": [
    "(5,7) == (3+2,8-1)"
   ]
  },
  {
   "cell_type": "markdown",
   "metadata": {},
   "source": [
    "* 길이가 다른 커플은 비교 불가능이다. \n",
    "    이유는 서로 유형이 다르기 때문이다."
   ]
  },
  {
   "cell_type": "code",
   "execution_count": 155,
   "metadata": {},
   "outputs": [
    {
     "ename": "",
     "evalue": "",
     "output_type": "error",
     "traceback": [
      "<interactive>:1:10: error:\n    • Couldn't match expected type ‘(Integer, Integer)’ with actual type ‘(Integer, Integer, Integer)’\n    • In the second argument of ‘(<=)’, namely ‘(5, 6, 7)’\n      In the expression: (1, 2) <= (5, 6, 7)\n      In an equation for ‘it’: it = (1, 2) <= (5, 6, 7)"
     ]
    }
   ],
   "source": [
    "(1,2) <= (5,6,7)"
   ]
  },
  {
   "cell_type": "markdown",
   "metadata": {},
   "source": [
    "### 튜플 관련 함수"
   ]
  },
  {
   "cell_type": "markdown",
   "metadata": {},
   "source": [
    "튜플을 활용하는 함수 세 개를 소개한다."
   ]
  },
  {
   "cell_type": "markdown",
   "metadata": {},
   "source": [
    "#### [`fst`](https://hackage.haskell.org/package/base/docs/Prelude.html#v:fst) 함수"
   ]
  },
  {
   "cell_type": "markdown",
   "metadata": {},
   "source": [
    "길이가 2인 튜플의 첫째 항목을 반환한다."
   ]
  },
  {
   "cell_type": "code",
   "execution_count": 156,
   "metadata": {
    "attributes": {
     "classes": [
      "haskell:",
      "ghci"
     ],
     "id": "",
     "name": "\"code\""
    }
   },
   "outputs": [
    {
     "data": {
      "text/plain": [
       "8"
      ]
     },
     "metadata": {},
     "output_type": "display_data"
    }
   ],
   "source": [
    "fst (8,11)"
   ]
  },
  {
   "cell_type": "code",
   "execution_count": 157,
   "metadata": {
    "attributes": {
     "classes": [
      "haskell:",
      "ghci"
     ],
     "id": "",
     "name": "\"code\""
    }
   },
   "outputs": [
    {
     "data": {
      "text/plain": [
       "\"Wow\""
      ]
     },
     "metadata": {},
     "output_type": "display_data"
    }
   ],
   "source": [
    "fst (\"Wow\", False)"
   ]
  },
  {
   "cell_type": "markdown",
   "metadata": {},
   "source": [
    "#### [`snd`](https://hackage.haskell.org/package/base/docs/Prelude.html#v:snd) 함수"
   ]
  },
  {
   "cell_type": "markdown",
   "metadata": {},
   "source": [
    "길이가 2인 튜플의 둘째 항목을 반환한다."
   ]
  },
  {
   "cell_type": "code",
   "execution_count": 158,
   "metadata": {
    "attributes": {
     "classes": [
      "haskell:",
      "ghci"
     ],
     "id": "",
     "name": "\"code\""
    }
   },
   "outputs": [
    {
     "data": {
      "text/plain": [
       "11"
      ]
     },
     "metadata": {},
     "output_type": "display_data"
    }
   ],
   "source": [
    "snd (8,11)"
   ]
  },
  {
   "cell_type": "code",
   "execution_count": 159,
   "metadata": {
    "attributes": {
     "classes": [
      "haskell:",
      "ghci"
     ],
     "id": "",
     "name": "\"code\""
    }
   },
   "outputs": [
    {
     "data": {
      "text/plain": [
       "False"
      ]
     },
     "metadata": {},
     "output_type": "display_data"
    }
   ],
   "source": [
    "snd (\"Wow\", False)"
   ]
  },
  {
   "cell_type": "markdown",
   "metadata": {},
   "source": [
    "__참고:__ \n",
    "`fst` 함수와 `snd` 함수는 길이가 3 이상인 튜플에는 적용할 수 없다.\n",
    "나중에 임의의 길이의 튜플에서 항목을 선택하는 방법에 대해 알아볼 것이다."
   ]
  },
  {
   "cell_type": "markdown",
   "metadata": {},
   "source": [
    "#### [`zip`](https://hackage.haskell.org/package/base/docs/Prelude.html#v:zip) 함수"
   ]
  },
  {
   "cell_type": "markdown",
   "metadata": {},
   "source": [
    "두 개의 리스트가 주어졌을 때 각 리스트의 항목으로 구성된 길이가 2인 튜플들의 리스트를 반환한다.\n",
    "\n",
    "각 튜플의 항목은 각 리스트에서 동일한 인덱스를 가져야 한다.\n",
    "즉, 첫째 항목끼리, 둘째 항목 끼리 등등으로 튜플을 생성하여 리스트에 포함시킨다.\n",
    "두 개의 리스트를 특정 방식으로 결합하거나 두 리스트의 항목을 동시에 \n",
    "차례대로 확인할 때 매우 유용하다."
   ]
  },
  {
   "cell_type": "code",
   "execution_count": 160,
   "metadata": {
    "attributes": {
     "classes": [
      "haskell:",
      "ghci"
     ],
     "id": "",
     "name": "\"code\""
    }
   },
   "outputs": [
    {
     "data": {
      "text/plain": [
       "[(1,5),(2,5),(3,5),(4,5),(5,5)]"
      ]
     },
     "metadata": {},
     "output_type": "display_data"
    }
   ],
   "source": [
    "zip [1,2,3,4,5] [5,5,5,5,5]"
   ]
  },
  {
   "cell_type": "markdown",
   "metadata": {},
   "source": [
    "사용되는 두 리스트의 유형과 상관없이 작동한다."
   ]
  },
  {
   "cell_type": "code",
   "execution_count": 161,
   "metadata": {
    "attributes": {
     "classes": [
      "haskell:",
      "ghci"
     ],
     "id": "",
     "name": "\"code\""
    }
   },
   "outputs": [
    {
     "data": {
      "text/plain": [
       "[(1,\"one\"),(2,\"two\"),(3,\"three\"),(4,\"four\"),(5,\"five\")]"
      ]
     },
     "metadata": {},
     "output_type": "display_data"
    }
   ],
   "source": [
    "zip [1 .. 5] [\"one\", \"two\", \"three\", \"four\", \"five\"]"
   ]
  },
  {
   "cell_type": "markdown",
   "metadata": {},
   "source": [
    "두 리스트의 길이가 다르면 짧은 길이에 맞추어 순서쌍을 생성한다."
   ]
  },
  {
   "cell_type": "code",
   "execution_count": 162,
   "metadata": {
    "attributes": {
     "classes": [
      "haskell:",
      "ghci"
     ],
     "id": "",
     "name": "\"code\""
    }
   },
   "outputs": [
    {
     "data": {
      "text/plain": [
       "[(5,\"im\"),(3,\"a\"),(2,\"turtle\")]"
      ]
     },
     "metadata": {},
     "output_type": "display_data"
    }
   ],
   "source": [
    "zip [5,3,2,6,2,7,2,5,4,6,6] [\"im\",\"a\",\"turtle\"]"
   ]
  },
  {
   "cell_type": "markdown",
   "metadata": {},
   "source": [
    "즉, 보다 긴 리스트는 짧은 리스트의 길이에 맞춰 잘려버려진다. \n",
    "따라서 하스켈의 지연성을 이횽하면 무한 리스트와 유한 리스트를 `zip`으로 압축할 수 있다."
   ]
  },
  {
   "cell_type": "code",
   "execution_count": 163,
   "metadata": {
    "attributes": {
     "classes": [
      "haskell:",
      "ghci"
     ],
     "id": "",
     "name": "\"code\""
    }
   },
   "outputs": [
    {
     "data": {
      "text/plain": [
       "[(1,\"apple\"),(2,\"orange\"),(3,\"cherry\"),(4,\"mango\")]"
      ]
     },
     "metadata": {},
     "output_type": "display_data"
    }
   ],
   "source": [
    "zip [1..] [\"apple\", \"orange\", \"cherry\", \"mango\"]"
   ]
  },
  {
   "cell_type": "markdown",
   "metadata": {},
   "source": [
    "__*예제*:__ 직각삼각형의 둘레"
   ]
  },
  {
   "cell_type": "markdown",
   "metadata": {},
   "source": [
    "각 변의 길의가 정수인 직각삼각형 중에서 세 변의 길이의 합이 24인 직각삼각형을 찾아보자.\n",
    "단, 모든 변의 길이는 10 이하이다."
   ]
  },
  {
   "cell_type": "markdown",
   "metadata": {},
   "source": [
    "<img src=\"img/pythag.png\" title=\"look at meee\" style=\"margin-left:auto;margin-right:auto;\" />"
   ]
  },
  {
   "cell_type": "markdown",
   "metadata": {},
   "source": [
    "조건제시법을 활용할 수 있다. \n",
    "이어지는 설명은 사용되는 조건식을 추가하는 방식으로 조건제시법을 이용한다.\n",
    "\n",
    "먼저 변의 길이가 10보다 작거나 같은 삼각형의 세 변으로 구성된\n",
    "튜플들의 리스트를 조건제시법으로 아래와 같이 정의하자."
   ]
  },
  {
   "cell_type": "code",
   "execution_count": 164,
   "metadata": {
    "attributes": {
     "classes": [
      "haskell:",
      "ghci"
     ],
     "id": "",
     "name": "\"code\""
    }
   },
   "outputs": [],
   "source": [
    "let triangles = [ (a,b,c) | c <- [1..10], b <- [1..10], a <- [1..10] ]"
   ]
  },
  {
   "cell_type": "markdown",
   "metadata": {},
   "source": [
    "__주의:__ 위 리스트의 길이는 1,000임. 따라서 리스트를 직접 확인하는 일은 부적절함."
   ]
  },
  {
   "cell_type": "markdown",
   "metadata": {},
   "source": [
    "이제 피타고라스 정리를 이용하여 직각삼각형의 세 변만 포함하도록 수정할 수 있다.\n",
    "또한, 빗변의 길이가 다른 두 변의 길이보다 커야 하는 조건도 자연스럽게 포함시킬 수 있다."
   ]
  },
  {
   "cell_type": "code",
   "execution_count": 165,
   "metadata": {
    "attributes": {
     "classes": [
      "haskell:",
      "ghci"
     ],
     "id": "",
     "name": "\"code\""
    }
   },
   "outputs": [],
   "source": [
    "let rightTriangles = [ (a,b,c) | c <- [1..10], b <- [1..c], a <- [1..b], \n",
    "                        a^2 + b^2 == c^2 ]"
   ]
  },
  {
   "cell_type": "markdown",
   "metadata": {},
   "source": [
    "마지막으로 삼각형의 둘레가 24라는 조건을 추가하면 된다."
   ]
  },
  {
   "cell_type": "code",
   "execution_count": 166,
   "metadata": {
    "attributes": {
     "classes": [
      "haskell:",
      "ghci"
     ],
     "id": "",
     "name": "\"code\""
    }
   },
   "outputs": [],
   "source": [
    "let rightTriangles' = [ (a,b,c) | c <- [1..10], b <- [1..c], a <- [1..b], \n",
    "                        a^2 + b^2 == c^2, \n",
    "                        a+b+c == 24 ]"
   ]
  },
  {
   "cell_type": "markdown",
   "metadata": {},
   "source": [
    "결과는 다음과 같다."
   ]
  },
  {
   "cell_type": "code",
   "execution_count": 167,
   "metadata": {
    "attributes": {
     "classes": [
      "haskell:",
      "ghci"
     ],
     "id": "",
     "name": "\"code\""
    }
   },
   "outputs": [
    {
     "data": {
      "text/plain": [
       "[(6,8,10)]"
      ]
     },
     "metadata": {},
     "output_type": "display_data"
    }
   ],
   "source": [
    "rightTriangles'"
   ]
  },
  {
   "cell_type": "markdown",
   "metadata": {},
   "source": [
    "즉, 위 조건을 만족하는 직각삼각형은 하나만 존재한다는 사실을 확인하였다."
   ]
  },
  {
   "cell_type": "markdown",
   "metadata": {},
   "source": [
    "__참고:__\n",
    "위 문제를 풀어가는 방식이 함수형 프로그래밍에서 일반적으로 사용되는 문제풀이 패턴이다.\n",
    "즉, 좀 더 일반적인 해를 설정한 후에 필터링을 원하는 답을 구할 때까지 반복 적용한다."
   ]
  }
 ],
 "metadata": {
  "kernelspec": {
   "display_name": "Haskell",
   "language": "haskell",
   "name": "haskell"
  },
  "language_info": {
   "codemirror_mode": "Haskell",
   "file_extension": ".hs",
   "mimetype": "text/x-haskell",
   "name": "haskell",
   "pygments_lexer": "Haskell",
   "version": "8.8.4"
  }
 },
 "nbformat": 4,
 "nbformat_minor": 4
}
