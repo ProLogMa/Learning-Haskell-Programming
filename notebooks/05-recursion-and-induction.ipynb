{
 "cells": [
  {
   "cell_type": "markdown",
   "metadata": {},
   "source": [
    "# 5장 재귀와 귀납법(Recursion and Induction)"
   ]
  },
  {
   "cell_type": "markdown",
   "metadata": {},
   "source": [
    "__*아래 주피터 노트북은 James Brock의 [learn-you-a-haskell-notebook](https://github.com/jamesdbrock/learn-you-a-haskell-notebook)을 기본틀로 사용합니다.*__"
   ]
  },
  {
   "cell_type": "markdown",
   "metadata": {},
   "source": [
    "__참고:__ 린팅(linting) 기능 끄기\n",
    "\n",
    "* 린팅(linting): IHaskell에서 HLint라고 불리는 린터(linter)에 의해 보다 적절하다고 판단하는 표현식을 제안하는 기능\n",
    "* 보다 세련된 표현식(expression)을 제안하는 도구임. 하지만 반드시 필요한 기능은 아니다\n",
    "* 참조: [IHaskell의 린팅 기능 설정하기](https://github.com/gibiansky/IHaskell/wiki#opt-no-lint)"
   ]
  },
  {
   "cell_type": "code",
   "execution_count": 1,
   "metadata": {},
   "outputs": [],
   "source": [
    ":opt no-lint"
   ]
  },
  {
   "cell_type": "markdown",
   "metadata": {},
   "source": [
    "하스켈과 같은 함수형 프로그래밍언어에서는 재귀함수의 역할이 매우 크다. \n",
    "다른 거의 모든 프로그래밍언어에서도 재귀함수를 지원하지만 그 역할이 상대적으로 미약하다. \n",
    "\n",
    "__참고:__ 여러 이유가 있지만 기본적으로 C, 자바, 파이썬 등의 명령형 프로그래밍언어는 \n",
    "__어떻게(*how*) 메모리를 관리할 것인가__에 보다 집중하기 때문이다. \n",
    "반면에 하스켈은 __이것의 정의는 이것이다(*is*)__라는 방식을 사용하며, 따라서\n",
    "재귀함수를 대신하는 역할을 수행하는 `while` 또는 `for` 반목문(loop)을 지원하지 않는다. "
   ]
  },
  {
   "cell_type": "markdown",
   "metadata": {},
   "source": [
    "## 5.1 재귀함수(Recursive Functions)"
   ]
  },
  {
   "cell_type": "markdown",
   "metadata": {},
   "source": [
    "재귀(recursion)는 함수를 정의하는 과정에서 해당 함수를 다시 활용하는 기법이며 \n",
    "수학에서 자주 활용된다. \n",
    "예를 들어, 피보나찌(Fibonacci) 수열의 처음 두 값은 0과 1이며, \n",
    "연속으로 위치한 두 피보나찌 수의 합이 그 다음 피보나찌 수이다. \n",
    "이 성질을 점화식으로 표현하면 다음과 같다.\n",
    "\n",
    "```haskell\n",
    "fib(0) = 0\n",
    "fib(1) = 1\n",
    "fib(n) = fib(n-1) + fib(n-2)\n",
    "```\n",
    "\n",
    "하스켈에서 `fib` 함수를 아래와 같이 매우 간단하게 재귀함수로 정의할 수 있다.\n",
    "\n",
    "__주의:__ 하스켈을 포함한 대다수의 프로그래밍언어에서는 0을 자연수로 취급하며,\n",
    "리스트의 인덱스처럼 0이 첫째 항목을 가리킨다. "
   ]
  },
  {
   "cell_type": "code",
   "execution_count": 2,
   "metadata": {},
   "outputs": [],
   "source": [
    "fib :: Integer -> Integer\n",
    "fib 0 = 0\n",
    "fib 1 = 1\n",
    "fib n = fib (n-1) + fib (n-2)"
   ]
  },
  {
   "cell_type": "markdown",
   "metadata": {},
   "source": [
    "위 정의에 의하면, `n >= 2` 인 경우, `fib n`을 계산하려면 \n",
    "`fib (n-1)` 과 `fib (n-2)` 를 먼저 계산해야 한다.\n",
    "이와 같이 함수를 정의할 때 해당 함수를 활용하는 방식을 __재귀__(recursion)라 부른다. \n",
    "\n",
    "예를 들어, `fib(3)`가 계산되는 과정은 다음과 같다. \n",
    "\n",
    "```haskell\n",
    "fib 3 = fib 2 + fib 1\n",
    "      = (fib 1 + fib 0) + fib 1\n",
    "      = (1 + fib 0) + fib 1\n",
    "      = (1 + 0) + fib 1\n",
    "      = 1 + fib 1\n",
    "      = 1 + 1\n",
    "      = 2\n",
    "```\n",
    "\n",
    "__참고__ \n",
    "\n",
    "* 소괄호를 이용하여 표현된 계산 순서에 주의하라. \n",
    "    예를 들어, 첫째 등호 오른편이 가리키는 값을 계산하기 위해 \n",
    "    `fib 1`의 계산은 `fib 2`의 계산이 완료될 때까지 기다려야 한다.\n",
    "* `fib` 함수는 음수에 대해서는 계산과정이 절대로 멈추지 않는다.\n",
    "* `fib` 함수가 조금만 커져도 계산과정이 매우 오래 걸릴 수 있다.\n",
    "    실제로 `fib n`을 계산하는 과정에서 `fib` 함수의 호출 횟수는 `n`이 커짐에 따라 기하급수적으로 늘어난다. "
   ]
  },
  {
   "cell_type": "markdown",
   "metadata": {},
   "source": [
    "### 시작단계와 재귀단계"
   ]
  },
  {
   "cell_type": "markdown",
   "metadata": {},
   "source": [
    "`fib 3`의 계산과정에서 볼 수 있듯이, 0과 1이 __시작단계__(base case 또는 edge condition)의 \n",
    "역할을 수행하며, 만약 이 시작단계가 없었다면 `fib 3`의 계산이 절대 끝나지 않을 것이다.\n",
    "이처럼 재귀함수를 정의할 때 시작단계를 명시하는 일이 매우 중요하다. \n",
    "반면에 `n >= 2` 인 경우는 __재귀단계__(recursive step)라 부른다. \n",
    "\n",
    "정리하면, 재귀함수를 작성할 때 아래 두 사항을 고려해야 한다.\n",
    "\n",
    "* 시작단계: 인자와 반환값을 구체적으로 지정하는 단계\n",
    "* 재귀단계: 인자를 특정 변수 또는 패턴으로 지정한 후 \n",
    "    사용된 변수를 이용한 인자에 대한 해당 함수의 반환값을 활용하는 단계\n",
    "    \n",
    "예를 들어, `fib` 함수의 경우 시작단계와 재귀단계는 다음과 같다.\n",
    "\n",
    "* 시작단계: `fib 0 = 0` 과 `fib 1 = 1`\n",
    "* 재귀단계: `fib n = fib (n-1) + fib (n-2)`\n",
    "    * `n` 을 이용한 인자: `n-1` 과 `n-2`\n",
    "    * 주의: 패턴 매칭에 의해 `n >= 2`가 가정되었음"
   ]
  },
  {
   "cell_type": "markdown",
   "metadata": {},
   "source": [
    "## 5.2 구조적 재귀(Structural Recursion)"
   ]
  },
  {
   "cell_type": "markdown",
   "metadata": {},
   "source": [
    "재귀함수를 정의할 때 사용되는 시작단계와 재귀단계 중에서\n",
    "재귀단계에 구조적 제약을 가하는 방식으로\n",
    "__구조적 재귀__(structural recursion)이며,\n",
    "기본 양식은 다음과 같다. \n",
    "\n",
    "* 시작단계: 인자와 반환값을 구체적으로 지정하는 단계\n",
    "* 재귀단계: 인자를 특정 패턴으로 지정한 후 해당 패턴의 하위 패턴(subpattern)에 대한 반환값을 활용하는 단계\n",
    "\n",
    "__하위 패턴__(subpattern)은 기존의 패턴에 하나의 구성품으로 사용된 패턴을 의미한다.\n",
    "구조적 재귀를 이용한 재귀함수 예제 몇 개를 살펴보면서 구조적 재귀의 특성을 살펴 보자."
   ]
  },
  {
   "cell_type": "markdown",
   "metadata": {},
   "source": [
    "__예제:__ `maximum` 함수 구현\n",
    "\n",
    "`maximum` 함수는 크기순으로 정렬될 수 있는 값들의 리스트를 인자로 받아 그 중에 가장 큰 값을 반환한다. \n",
    "즉, 인자는 `Ord` 유형 클래스에 속하는 유형의 값이어야 한다. \n",
    "`maximum` 함수를 재귀로 구현하려면 시작단계와 재귀단계의 경우는 다음과 같이 정할 수 있다.\n",
    "\n",
    "* 시작단계: \n",
    "    * 공리스트인 경우: 반환값 없음. 오류 발생해야 함.\n",
    "    * 한 개의 항목으로 구성된 리스트의 경우: 해당 항목이 최대값임.\n",
    "* 재귀단계: 공리스트가 아닌 경우\n",
    "    * 꼬리(tail)의 최댓값과 머리(head)를 비교하여 큰 값을 반환함.\n",
    "    \n",
    "재귀단계에서 사용되는 '꼬리(tail)의 최댓값'이 바로 구조적 재귀에 해당하며\n",
    "실제로 구현하면 다음과 같다. \n",
    "\n",
    "__주의:__ `maximum` 함수는 이미 정의되어 있기에 여기서는 아포스트로피를 사용하여 새로운 이름으로 정의한다.\n",
    "이후 소개되는 예제에서도 동일한 방식을 사용하여 기존에 정의된 함수를 재정의한다."
   ]
  },
  {
   "cell_type": "code",
   "execution_count": 3,
   "metadata": {
    "attributes": {
     "classes": [
      "haskell:hs"
     ],
     "id": "",
     "name": "\"code\""
    }
   },
   "outputs": [],
   "source": [
    "maximum' :: (Ord a) => [a] -> a\n",
    "maximum' [] = error \"maximum of empty list\"\n",
    "maximum' [x] = x\n",
    "maximum' (x:xs)\n",
    "    | x > maxTail = x\n",
    "    | otherwise = maxTail\n",
    "    where maxTail = maximum' xs"
   ]
  },
  {
   "cell_type": "markdown",
   "metadata": {},
   "source": [
    "첫째, 둘째 패턴 매칭은 시작단계에 해당한다.\n",
    "마지막 셋째 패턴 매칭은 재귀단계이며, 두 개 이상의 항목을 갖는 원소를 나타내기 위해\n",
    "`x:xs`를 패턴으로 사용하였다. \n",
    "위 정의가 구조적 재귀인 이유는 재귀단계의 반환값에 사용된 `maximum' xs`에 사용된 인자가\n",
    "`xs`인데 이 패턴이 애초에 주어진 `x:xs`의 하위 패턴이기 때문이다.\n",
    "실제로 `x:xs`는 `x`와 `xs`라는 두 개의 하위 패턴으로 구성되어 있다. \n",
    "\n",
    "위 함수에서는 `maximum' xs`가 가드(guards)와 더불어 `where` 절에서 `maxTail` 값을 지정하기 위해\n",
    "사용되어서 구조적 재귀의 모습이 덜 선명하다.\n",
    "반면에 `max` 함수를 이용하는 아래 정의는 구조적 재귀의 활용을 보다 명확하게 보여준다. "
   ]
  },
  {
   "cell_type": "code",
   "execution_count": 4,
   "metadata": {
    "attributes": {
     "classes": [
      "haskell:hs"
     ],
     "id": "",
     "name": "\"code\""
    }
   },
   "outputs": [],
   "source": [
    "maximum' :: (Ord a) => [a] -> a\n",
    "maximum' [] = error \"maximum of empty list\"\n",
    "maximum' [x] = x\n",
    "maximum' (x:xs) = max x (maximum' xs)"
   ]
  },
  {
   "cell_type": "markdown",
   "metadata": {},
   "source": [
    "예를 들어, `maximum' [2,5,1]`이 재귀적으로 계산되는 과정은 다음과 같다.\n",
    "\n",
    "```haskell\n",
    "maximum' [2,5,1] = max 2 (maximum' [5,1])\n",
    "                = max 2 (max 5 (maximum' [1]))\n",
    "                = max 2 (max 5 1)\n",
    "                = max 2 5\n",
    "                = 5\n",
    "```"
   ]
  },
  {
   "cell_type": "markdown",
   "metadata": {},
   "source": [
    "__참고:__ 대부분의 명령형 프로그래밍언어는 패턴매칭을 지원하지 않는다.\n",
    "따라서 재귀함수를 정의할 때 패턴매칭 대신에 많은 `if ... else ...` 명령문을 사용해야 한다. \n",
    "아니면 `while` 또는 `for` 반복문을 이용한다. \n",
    "예를 들어, `maximum'` 함수의 경우 `while` 또는 `for` 반복문을 이용하여 \n",
    "리스트에 포함된 전체 항목을 대상으로 최댓값을 업데이트 하는 방식으로 반환값을 지정할 수 있다. "
   ]
  },
  {
   "cell_type": "markdown",
   "metadata": {},
   "source": [
    "__예제:__ `revese` 함수 구현\n",
    "\n",
    "`reverse` simply reverses a list. \n",
    "The edge condition is the empty list! An empty list reversed equals the\n",
    "empty list itself. \n",
    "What about the rest of it? \n",
    "If we split a list to a head and a tail, the reversed list is equal\n",
    "to the reversed tail and then the head at the end."
   ]
  },
  {
   "cell_type": "code",
   "execution_count": 5,
   "metadata": {
    "attributes": {
     "classes": [
      "haskell:hs"
     ],
     "id": "",
     "name": "\"code\""
    }
   },
   "outputs": [],
   "source": [
    "reverse' :: [a] -> [a]\n",
    "reverse' [] = []\n",
    "reverse' (x:xs) = reverse' xs ++ [x]"
   ]
  },
  {
   "cell_type": "markdown",
   "metadata": {},
   "source": [
    "__예제:__ `zip` 함수 구현\n",
    "\n",
    "`zip` takes two lists and zips them together. `zip [1,2,3] [2,3]` returns\n",
    "`[(1,2),(2,3)]`, because it truncates the longer list to match the length\n",
    "of the shorter one. \n",
    "\n",
    "How about if we zip something with an empty list?\n",
    "Well, we get an empty list back then. \n",
    "So there's our edge condition.\n",
    "However, `zip` takes two lists as parameters, so there are actually two\n",
    "edge conditions."
   ]
  },
  {
   "cell_type": "code",
   "execution_count": 6,
   "metadata": {
    "attributes": {
     "classes": [
      "haskell:hs"
     ],
     "id": "",
     "name": "\"code\""
    }
   },
   "outputs": [],
   "source": [
    "zip' :: [a] -> [b] -> [(a,b)]\n",
    "zip' _ [] = []\n",
    "zip' [] _ = []\n",
    "zip' (x:xs) (y:ys) = (x,y):zip' xs ys"
   ]
  },
  {
   "cell_type": "markdown",
   "metadata": {},
   "source": [
    "First two patterns say that if the first list or second list is empty,\n",
    "we get an empty list. The third one says that two lists zipped are equal\n",
    "to pairing up their heads and then tacking on the zipped tails. Zipping\n",
    "`[1,2,3]` and `['a','b']` will eventually try to zip `[3]` with `[]`. The edge\n",
    "condition patterns kick in and so the result is `(1,'a'):(2,'b'):[]`,\n",
    "which is exactly the same as `[(1,'a'),(2,'b')]`."
   ]
  },
  {
   "cell_type": "markdown",
   "metadata": {},
   "source": [
    "__예제:__ `elem` 함수 구현\n",
    "\n",
    "Let's implement one more standard library function — `elem`. \n",
    "It takes an element and a list and sees if that element is in the list. \n",
    "The edge condition, as is most of the times with lists, is the empty list. \n",
    "We know that an empty list contains no elements, so it certainly doesn't\n",
    "have the droids we're looking for."
   ]
  },
  {
   "cell_type": "code",
   "execution_count": 7,
   "metadata": {
    "attributes": {
     "classes": [
      "haskell:hs"
     ],
     "id": "",
     "name": "\"code\""
    }
   },
   "outputs": [],
   "source": [
    "elem' :: (Eq a) => a -> [a] -> Bool\n",
    "elem' a [] = False\n",
    "elem' a (x:xs)\n",
    "    | a == x    = True\n",
    "    | otherwise = a `elem'` xs"
   ]
  },
  {
   "cell_type": "markdown",
   "metadata": {},
   "source": [
    "Pretty simple and expected. If the head isn't the element then we check\n",
    "the tail. If we reach an empty list, the result is [`False`](https://hackage.haskell.org/package/base/docs/Prelude.html#v:False)."
   ]
  },
  {
   "cell_type": "code",
   "execution_count": null,
   "metadata": {},
   "outputs": [],
   "source": []
  },
  {
   "cell_type": "code",
   "execution_count": null,
   "metadata": {},
   "outputs": [],
   "source": []
  },
  {
   "cell_type": "markdown",
   "metadata": {},
   "source": [
    "구조적 재귀의 장점은 사용된 인자의 패턴, 즉 모양에만 의존하여 반환값을 지정한다는 것이다.\n",
    "즉, 사용된 인자의 의미를 생각할 필요없이 겉모습만 보면 해당 인자의 값을 계산할 수 있다.\n",
    "반면에 구조적 재귀가 아닌 경우는 사용되는 인자의 겉모습 뿐만 아니라 의미 또한 반환값을 \n",
    "지정할 때 함께 고려해야 한다. \n",
    "\n",
    "예를 들어, ..."
   ]
  },
  {
   "cell_type": "markdown",
   "metadata": {},
   "source": [
    "엄밀히 따지면 위 `factorial` 함수의 정의는 구조적 재귀를 따르지 않는다.\n",
    "이유는 변수 `n`이 패턴이 아닌 기타의 경우를 다루는 단순한 (패턴)변수이며,\n",
    "따라서 `(n-1)`이 `n`의 __하위 구조__(substructure)는 아니기 때문이다.\n",
    "\n",
    "`(n-1)`이 의미상 `n` 보다 작은 값을 표현한다는 것과 하위 구조라는 것은\n",
    "서로 별개이며, 구조적 재귀로 작성된 함수는 시작단계를 적절하게 정의한 경우\n",
    "기본적으로 모든 계산이 항상 특정 값을 반환하고 실행을 멈춘다.\n",
    "하지만 여기서는 `factorial` 함수의 경우 구조적 재귀함수로 간주해도 전혀 문제가 없다는 \n",
    "점만 언급하고 자세한 설명은 생략한다. \n",
    "\n",
    "모든 재귀함수를 항상 구조적 재귀함수로 정의할 수는 없다.\n",
    "구조적 재귀를 사용하지 않는 재귀함수는 경우에 따라 계산 실행이 언제 멈출지 알 수 없는 경우가\n",
    "발생하며, 일반적으로 판단이 불가능하다 \n",
    "([튜링의 정지문제 동영상](https://www.youtube.com/watch?v=92WHN-pAFCs&t=389s) 참조). \n",
    "\n",
    "<img src=\"img/halting-problem.png\"/>\n",
    "\n",
    "잠시 뒤에 콜라츠 추측(Collatz conjecture)을 설명하면서 계산실행이 언젠가는 멈추기는 하지만 \n",
    "얼마나 오래 걸리는지 예측하는 방법은 아직 알려지지 않은 재귀함수를 살펴볼 것이다."
   ]
  },
  {
   "cell_type": "markdown",
   "metadata": {},
   "source": [
    "__예제__\n",
    "\n",
    "Now that we know how to generally think recursively, let's implement a\n",
    "few functions using recursion. \n",
    "\n",
    "First off, we'll implement `replicate`.\n",
    "`replicate` takes an `Int` and some element and returns a list that has\n",
    "several repetitions of the same element. \n",
    "For instance, `replicate 3 5`\n",
    "returns `[5,5,5]`. Let's think about the edge condition. My guess is that\n",
    "the edge condition is 0 or less. If we try to replicate something zero\n",
    "times, it should return an empty list. Also for negative numbers,\n",
    "because it doesn't really make sense."
   ]
  },
  {
   "cell_type": "code",
   "execution_count": 8,
   "metadata": {
    "attributes": {
     "classes": [
      "haskell:hs"
     ],
     "id": "",
     "name": "\"code\""
    }
   },
   "outputs": [],
   "source": [
    "replicate' :: (Num i, Ord i) => i -> a -> [a]\n",
    "replicate' n x\n",
    "    | n <= 0    = []\n",
    "    | otherwise = x:replicate' (n-1) x"
   ]
  },
  {
   "cell_type": "markdown",
   "metadata": {},
   "source": [
    "We used guards here instead of patterns because we're testing for a\n",
    "boolean condition. \n",
    "If `n` is less than or equal to 0, return an empty\n",
    "list. Otherwise return a list that has `x` as the first element and then `x`\n",
    "replicated n-1 times as the tail. Eventually, the `(n-1)` part will cause\n",
    "our function to reach the edge condition."
   ]
  },
  {
   "cell_type": "markdown",
   "metadata": {},
   "source": [
    "__참고:__ `Num` is not a subclass of `Ord`. That means that what constitutes\n",
    "for a number doesn't really have to adhere to an ordering. So that's why\n",
    "we have to specify both the `Num` and `Ord` class constraints when doing\n",
    "addition or subtraction and also comparison."
   ]
  },
  {
   "cell_type": "markdown",
   "metadata": {},
   "source": [
    "__예제__\n",
    "\n",
    "Next up, we'll implement `take`. It takes a certain number of elements\n",
    "from a list. For instance, `take 3 [5,4,3,2,1]` will return `[5,4,3]`. If we\n",
    "try to take 0 or less elements from a list, we get an empty list. Also\n",
    "if we try to take anything from an empty list, we get an empty list.\n",
    "Notice that those are two edge conditions right there. So let's write\n",
    "that out:"
   ]
  },
  {
   "cell_type": "code",
   "execution_count": 9,
   "metadata": {
    "attributes": {
     "classes": [
      "haskell:hs"
     ],
     "id": "",
     "name": "\"code\""
    }
   },
   "outputs": [],
   "source": [
    "take' :: (Num i, Ord i) => i -> [a] -> [a]\n",
    "take' n _\n",
    "    | n <= 0   = []\n",
    "take' _ []     = []\n",
    "take' n (x:xs) = x : take' (n-1) xs"
   ]
  },
  {
   "cell_type": "markdown",
   "metadata": {},
   "source": [
    "The first pattern specifies that if we try to take a 0 or negative\n",
    "number of elements, we get an empty list. Notice that we're using `_` to\n",
    "match the list because we don't really care what it is in this case.\n",
    "\n",
    "Also notice that we use a guard, but without an `otherwise` part. That\n",
    "means that if `n` turns out to be more than 0, the matching will fall\n",
    "through to the next pattern. The second pattern indicates that if we try\n",
    "to take anything from an empty list, we get an empty list. The third\n",
    "pattern breaks the list into a head and a tail. And then we state that\n",
    "taking `n` elements from a list equals a list that has `x` as the head and\n",
    "then a list that takes `n-1` elements from the tail as a tail. \n",
    "\n",
    "예를 들어, `take' 3 [4,3,2,1]`이 계산되는 과정은 다음과 같다.\n",
    "\n",
    "```haskell\n",
    "take' 3 [4,3,2,1] = 4 : take' 2 [3,2,1]\n",
    "                  = 4 : 3 : take' 1 [2,1]\n",
    "                  = 4 : 3 : 2 : take' 0 [1]\n",
    "                  = 4 : 3 : 2 : []\n",
    "                  = [4,3,2]\n",
    "```"
   ]
  },
  {
   "cell_type": "markdown",
   "metadata": {},
   "source": [
    "__예제__\n",
    "\n",
    "구조적 패턴이 아닌 재귀함수 예제\n",
    "\n",
    "* 최대공약수 구하기 알고리즘, 유클리드 호제법\n",
    "* 퀵정렬(아래 소개됨)"
   ]
  },
  {
   "cell_type": "markdown",
   "metadata": {},
   "source": [
    "Because Haskell supports infinite lists, our recursion doesn't really\n",
    "have to have an edge condition. \n",
    "But if it doesn't have it, it will\n",
    "either keep churning at something infinitely or produce an infinite data\n",
    "structure, like an infinite list. \n",
    "The good thing about infinite lists\n",
    "though is that we can cut them where we want. "
   ]
  },
  {
   "cell_type": "markdown",
   "metadata": {},
   "source": [
    "__예제__\n",
    "\n",
    "예를 들어, `repeat` takes an element and returns an infinite list that just has that element. \n",
    "A recursive implementation of that is really easy, watch."
   ]
  },
  {
   "cell_type": "code",
   "execution_count": 10,
   "metadata": {
    "attributes": {
     "classes": [
      "haskell:hs"
     ],
     "id": "",
     "name": "\"code\""
    }
   },
   "outputs": [],
   "source": [
    "repeat' :: a -> [a]\n",
    "repeat' x = x:repeat' x"
   ]
  },
  {
   "cell_type": "markdown",
   "metadata": {},
   "source": [
    "Calling `repeat 3` will give us a list that starts with `3` and then has an\n",
    "infinite amount of 3's as a tail. So calling `repeat 3` would evaluate\n",
    "like `3:repeat 3`, which is `3:(3:repeat 3)`, which is `3:(3:(3:repeat 3))`,\n",
    "etc. `repeat 3` will never finish evaluating, whereas `take 5 (repeat 3)`\n",
    "will give us a list of five 3's. So essentially it's like doing\n",
    "`replicate 5 3`."
   ]
  },
  {
   "cell_type": "markdown",
   "metadata": {},
   "source": [
    "__예제: 퀵정렬(Quick Sort)__"
   ]
  },
  {
   "cell_type": "markdown",
   "metadata": {},
   "source": [
    "We have a list of items that can be sorted. Their type is an instance of\n",
    "the `Ord` typeclass. And now, we want to sort them! There's a very cool\n",
    "algorithm for sorting called quicksort. It's a very clever way of sorting\n",
    "items. While it takes upwards of 10 lines to implement quicksort in\n",
    "imperative languages, the implementation is much shorter and elegant in\n",
    "Haskell.\n",
    "Therefore, let's implement it here\n",
    "\n",
    "So, the type signature is going to be\n",
    "`quicksort :: (Ord a) => [a] -> [a]`.\n",
    "\n",
    "The edge condition? Empty list, as is expected.\n",
    "A sorted empty list is an empty list. \n",
    "\n",
    "퀵정렬 작동법:\n",
    "\n",
    "a sorted list is a list that has all the values smaller than (or equal\n",
    "to) the head of the list in front (and those values are sorted), then\n",
    "comes the head of the list in the middle and then come all the values\n",
    "that are bigger than the head (they're also sorted).\n",
    "\n",
    "Notice that we\n",
    "said *sorted* two times in this definition, so we'll probably have to\n",
    "make the recursive call twice! \n",
    "\n",
    "Also notice that we defined it using the\n",
    "verb *is* to define the algorithm instead of saying *do this, do that,\n",
    "then do that ...*. That's the beauty of functional programming! \n",
    "\n",
    "How are\n",
    "we going to filter the list so that we get only the elements smaller\n",
    "than the head of our list and only elements that are bigger? List\n",
    "comprehensions. "
   ]
  },
  {
   "cell_type": "code",
   "execution_count": 11,
   "metadata": {
    "attributes": {
     "classes": [
      "haskell:hs"
     ],
     "id": "",
     "name": "\"code\""
    }
   },
   "outputs": [],
   "source": [
    "quicksort :: (Ord a) => [a] -> [a]\n",
    "quicksort [] = []\n",
    "quicksort (x:xs) =\n",
    "    let smallerSorted = quicksort [a | a <- xs, a <= x]\n",
    "        biggerSorted = quicksort [a | a <- xs, a > x]\n",
    "    in  smallerSorted ++ [x] ++ biggerSorted"
   ]
  },
  {
   "cell_type": "markdown",
   "metadata": {},
   "source": [
    "Let's give it a small test run to see if it appears to behave correctly."
   ]
  },
  {
   "cell_type": "code",
   "execution_count": 12,
   "metadata": {
    "attributes": {
     "classes": [
      "haskell:ghci"
     ],
     "id": "",
     "name": "\"code\""
    }
   },
   "outputs": [
    {
     "data": {
      "text/plain": [
       "[1,2,2,3,3,4,4,5,6,7,8,9,10]"
      ]
     },
     "metadata": {},
     "output_type": "display_data"
    }
   ],
   "source": [
    "quicksort [10,2,5,3,1,6,7,4,2,3,4,8,9]"
   ]
  },
  {
   "cell_type": "code",
   "execution_count": 13,
   "metadata": {
    "attributes": {
     "classes": [
      "haskell:ghci"
     ],
     "id": "",
     "name": "\"code\""
    }
   },
   "outputs": [
    {
     "data": {
      "text/plain": [
       "\"        abcdeeefghhijklmnoooopqrrsttuuvwxyz\""
      ]
     },
     "metadata": {},
     "output_type": "display_data"
    }
   ],
   "source": [
    "quicksort \"the quick brown fox jumps over the lazy dog\""
   ]
  },
  {
   "cell_type": "markdown",
   "metadata": {},
   "source": [
    "예를 들어, `quicksort [5,1,9,4,6,7,3]`가 계산되는 과정은 아래 그림과 같다. \n",
    "\n",
    "<img src=\"img/quicksort.png\" title=\"quicksort\" style=\"\" />\n",
    "\n",
    "An element that is in place and won't move anymore is represented in\n",
    "<span style=\"color:darkorange;font-weight:bold\">orange</span>. If you read them from left to right, you'll see the sorted list.\n",
    "Although we chose to compare all the elements to the heads, we could\n",
    "have used any element to compare against. In quicksort, an element that\n",
    "you compare against is called a pivot. They're in <span style=\"color:green;font-weight:bold;\">green</span> here. We chose\n",
    "the head because it's easy to get by pattern matching. The elements that\n",
    "are smaller than the pivot are <span style=\"color:lightgreen;font-weight:bold;\">light green</span> and elements larger than the\n",
    "pivot are dark green. The yellowish gradient thing represents an\n",
    "application of quicksort."
   ]
  },
  {
   "cell_type": "markdown",
   "metadata": {},
   "source": [
    "__참고__ \n",
    "\n",
    "위 설명은 완벽하지 않다.\n",
    "이유는 퀵정렬 알고리즘의 기본적인 이해를 위해서는 충분한 반면에,\n",
    "`quicksort` 함수가 재귀호출되는 순서는 정확하게 명시되지 않기 때문이다. \n",
    "예를 들어, 아래 단계 이후에 어떤 재귀호출이 먼저 되는지 확실하지 않다. \n",
    "\n",
    "```haskell\n",
    "quicksort [5,1,9,4,6,7,3] \n",
    "    = quicksort [1,4,3] ++ [5] ++ quicksort [9,6,7]\n",
    "```\n",
    "\n",
    "그런데 `quicksort`의 정의에 따르면 왼편에 위치한 `quicksort [1,4,3]`이 먼저 호출된다.\n",
    "반면에 `quicksort [9,6,7]`은 `quicksort [1,4,3]`의 계산이 완료될 때까지 기다려야 한다. \n",
    "즉, `quicksort [1,4,3]`이 `[1,3,4]`로 정렬 된 이후에야 `quicksort [9,6,7]`의 계산이 시작된다.\n",
    "따라서 실제 계산과정을 요약하면 다음과 같다.\n",
    "\n",
    "```haskell\n",
    "quicksort [5,1,9,4,6,7,3] \n",
    "    = quicksort [1,4,3] ++ [5] ++ quicksort [9,6,7]\n",
    "    = (quicksort [] ++ [1] + [4,3]) ++ [5] ++ quicksort [9,6,7]\n",
    "    = ...\n",
    "    = [1,3,4] ++ [5] ++ quicksort [9,6,7]\n",
    "    = [1,3,4] ++ [5] ++ (quicksort [6,7] + [9] + quicksort [])\n",
    "    = ...\n",
    "    = [1,3,4] ++ [5] ++ [6,7,9]\n",
    "    = [1,3,4,5,6,7,9]\n",
    "```"
   ]
  },
  {
   "cell_type": "markdown",
   "metadata": {},
   "source": [
    "앞서 설명한 내용을 좀 더 자세히 이해하기 위해 \n",
    "[YouTube 퀵정렬 설명 동영상](http://www.youtube.com/watch?v=7BDzle2n47c)을 \n",
    "시청할 것을 권유한다.\n",
    "\n",
    "<img src=\"img/quicksort01.png\" />\n",
    "\n",
    "위 동영상은 피벗(pivot)을 임의로 선정하는 점이 앞서의 설명과 다르지만 \n",
    "퀵정렬 알고리즘의 작동방식은 완전히 동일하다. \n",
    "(6분25초 정도까지만 시청해도 됨. 이후엔 자바 언어를 이용한 알고리즘 구현을 설명함.)"
   ]
  },
  {
   "cell_type": "markdown",
   "metadata": {},
   "source": [
    "## 5.3 재귀와 귀납법"
   ]
  },
  {
   "cell_type": "markdown",
   "metadata": {},
   "source": [
    "앞서 살펴본 모든 재귀함수 정의는 패턴 매칭을 사용한다. \n",
    "\n",
    "We did quite a bit of recursion so far and as you've probably noticed,\n",
    "there's a pattern here. Usually you define an edge case and then you\n",
    "define a function that does something between some element and the\n",
    "function applied to the rest. It doesn't matter if it's a list, a tree\n",
    "or any other data structure. A sum is the first element of a list plus\n",
    "the sum of the rest of the list. A product of a list is the first\n",
    "element of the list times the product of the rest of the list. The\n",
    "length of a list is one plus the length of the tail of the list.\n",
    "Ekcetera, ekcetera ...\n",
    "\n",
    "\n",
    "Of course, these also have edge cases. Usually the edge case is some\n",
    "scenario where a recursive application doesn't make sense. When dealing\n",
    "with lists, the edge case is most often the empty list. If you're\n",
    "dealing with trees, the edge case is usually a node that doesn't have\n",
    "any children."
   ]
  },
  {
   "cell_type": "markdown",
   "metadata": {},
   "source": [
    "It's similar when you're dealing with numbers recursively. Usually it\n",
    "has to do with some number and the function applied to that number\n",
    "modified. We did the factorial function earlier and it's the product of\n",
    "a number and the factorial of that number minus one. Such a recursive\n",
    "application doesn't make sense with zero, because factorials are defined\n",
    "only for positive integers. \n",
    "\n",
    "(흠...) \n",
    "Often the edge case value turns out to be an\n",
    "identity. The identity for multiplication is 1 because if you multiply\n",
    "something by 1, you get that something back. Also when doing sums of\n",
    "lists, we define the sum of an empty list as 0 and 0 is the identity for\n",
    "addition. In quicksort, the edge case is the empty list and the identity\n",
    "is also the empty list, because if you add an empty list to a list, you\n",
    "just get the original list back.\n",
    "\n",
    "So when trying to think of a recursive way to solve a problem, try to\n",
    "think of when a recursive solution doesn't apply and see if you can use\n",
    "that as an edge case, think about identities and think about whether\n",
    "you'll break apart the parameters of the function (for instance, lists\n",
    "are usually broken into a head and a tail via pattern matching) and on\n",
    "which part you'll use the recursive call."
   ]
  },
  {
   "cell_type": "markdown",
   "metadata": {},
   "source": [
    "## 5.4 부록: 재귀함수의 정지문제"
   ]
  },
  {
   "cell_type": "markdown",
   "metadata": {},
   "source": [
    "[콜라츠 추측(Collatz Conjecture)](https://ko.wikipedia.org/wiki/콜라츠_추측)에서\n",
    "언급된 함수를 이용하여 구조적 재귀를 사용하지 않는 재귀함수의 정지문제의 판단이 \n",
    "매우 어렵거나 경우에 따라 판단이 불가능할 수 있음을 설명한다."
   ]
  },
  {
   "cell_type": "markdown",
   "metadata": {},
   "source": [
    "### 콜라츠 추측"
   ]
  },
  {
   "cell_type": "markdown",
   "metadata": {},
   "source": [
    "콜라츠 추측에서 사용된 재귀함수는 다음과 같다.\n",
    "\n",
    "$$\n",
    "f(n) = \n",
    "\\begin{cases}\n",
    "1,           & n = 1 \\\\\n",
    "f(\\frac{n}{2}), & n \\text{은 짝수} \\\\\n",
    "f(3 n + 1),     &  n \\text{은 1보다 큰 홀수}\n",
    "\\end{cases}\n",
    "$$\n",
    "\n",
    "예를 들어, $f(3)$이 계산되는 과정은 다음과 같다."
   ]
  },
  {
   "cell_type": "markdown",
   "metadata": {},
   "source": [
    "```haskell\n",
    "f(3) => 3*3+1 = 10 \n",
    "     => 10/2  = 5\n",
    "     => 3*5+1 = 16\n",
    "     => 16/2  = 8\n",
    "     => 8/2   = 4\n",
    "     => 4/2   = 2\n",
    "     => 2/2   = 1\n",
    "     => 1\n",
    "```"
   ]
  },
  {
   "cell_type": "markdown",
   "metadata": {},
   "source": [
    "콜라츠 추측은 함수 $f$가 임의의 양의 정수 $n$에 대해 항상 1을 반환하며 \n",
    "실행을 멈춘다는 내용이다. \n",
    "하지만 이에 대한 어떠한 증명도 지금까지 알려지지 않았다."
   ]
  },
  {
   "cell_type": "markdown",
   "metadata": {},
   "source": [
    "### 콜라츠 재귀함수의 정지문제"
   ]
  },
  {
   "cell_type": "markdown",
   "metadata": {},
   "source": [
    "아래 함수는 위 함수 $f$가 각 인자에 대해 재귀적으로 몇 번 호출되는가를 세어주는 함수이며\n",
    "가드를 활용하여 정의되었다."
   ]
  },
  {
   "cell_type": "code",
   "execution_count": 14,
   "metadata": {},
   "outputs": [],
   "source": [
    "collatz :: Integer -> Integer\n",
    "collatz n\n",
    "    | n <= 1           = 1\n",
    "    | (n `mod` 2) == 0 = collatz (n `div` 2) + 1\n",
    "    | (n `mod` 2) == 1 = collatz (3 * n + 1) + 1"
   ]
  },
  {
   "cell_type": "markdown",
   "metadata": {},
   "source": [
    "콜라츠 추측에서 주장하듯이 몇 개의 입력값을 사용해 보면 모두 실행이 끝남을 \n",
    "확인할 수 있다.\n",
    "사실 지금까지 콜라츠 추측이 틀렸음을 입증하는 반례가 알려지지 않았다.\n",
    "하지만 임의의 수를 입력할 때 실행이 언제 멈출 것인가 또한 \n",
    "앞서 언급한 대로 아직 아무도 모른다.\n",
    "\n",
    "예를 들어, 3을 인자로 사용하면 8번 먼에 실행을 멈춘다."
   ]
  },
  {
   "cell_type": "code",
   "execution_count": 15,
   "metadata": {},
   "outputs": [
    {
     "data": {
      "text/plain": [
       "8"
      ]
     },
     "metadata": {},
     "output_type": "display_data"
    }
   ],
   "source": [
    "collatz 3"
   ]
  },
  {
   "cell_type": "markdown",
   "metadata": {},
   "source": [
    "인자 100에 대해서는 함수 $f$가 26번 호출된다."
   ]
  },
  {
   "cell_type": "code",
   "execution_count": 16,
   "metadata": {},
   "outputs": [
    {
     "data": {
      "text/plain": [
       "26"
      ]
     },
     "metadata": {},
     "output_type": "display_data"
    }
   ],
   "source": [
    "collatz 100"
   ]
  },
  {
   "cell_type": "markdown",
   "metadata": {},
   "source": [
    "인자 171에 대해서는 125번 호출된다."
   ]
  },
  {
   "cell_type": "code",
   "execution_count": 17,
   "metadata": {},
   "outputs": [
    {
     "data": {
      "text/plain": [
       "125"
      ]
     },
     "metadata": {},
     "output_type": "display_data"
    }
   ],
   "source": [
    "collatz 171"
   ]
  },
  {
   "cell_type": "markdown",
   "metadata": {},
   "source": [
    "1부터 10,000까지를 대상으로 했을 때 함수 $f$가 가장 많이 호출되는 횟수는 다음과 같다.\n",
    "\n",
    "* 앞서 언급한 `map` 함수를 이용하여 1부터 10,000까지의 정수에 `collatz` 함수를 적용한 후\n",
    "    `maximum` 함수를 이용하여 최댓값을 찾는다. "
   ]
  },
  {
   "cell_type": "code",
   "execution_count": 18,
   "metadata": {},
   "outputs": [],
   "source": [
    "collaztNumbers = map collatz [1..10000]"
   ]
  },
  {
   "cell_type": "code",
   "execution_count": 19,
   "metadata": {},
   "outputs": [
    {
     "data": {
      "text/plain": [
       "262"
      ]
     },
     "metadata": {},
     "output_type": "display_data"
    }
   ],
   "source": [
    "maximum collaztNumbers"
   ]
  },
  {
   "cell_type": "markdown",
   "metadata": {},
   "source": [
    "함수 $f$를 262 번 호출하도록 하는 인자는 \n",
    "`Data.List` 모듈에 포함된 `elemIndices` 함수를 이용하여 확인할 수 있다. \n",
    "\n",
    "* 모듈 활용법은 나중에 자세히 설명한다.\n",
    "    여기서는 먼저 특정 모듈을 아래와 같이 불러온다(import)는 것만 기억해두면 된다."
   ]
  },
  {
   "cell_type": "code",
   "execution_count": 20,
   "metadata": {},
   "outputs": [],
   "source": [
    "import Data.List"
   ]
  },
  {
   "cell_type": "markdown",
   "metadata": {},
   "source": [
    "이제 262가 위치한 자리의 인덱스는 6170 하나인 것으로 확인된다. "
   ]
  },
  {
   "cell_type": "code",
   "execution_count": 21,
   "metadata": {},
   "outputs": [
    {
     "data": {
      "text/plain": [
       "[6170]"
      ]
     },
     "metadata": {},
     "output_type": "display_data"
    }
   ],
   "source": [
    "elemIndices 262 collaztNumbers"
   ]
  },
  {
   "cell_type": "markdown",
   "metadata": {},
   "source": [
    "리스트 `[1..10000]` 에서 6170 인덱스를 갖는 값은 6171이다(인덱스는 0부터 시작하기 때문임).\n",
    "실제로 6171을 `collatz` 함수의 인자로 사용하면 262가 반환된다."
   ]
  },
  {
   "cell_type": "code",
   "execution_count": 22,
   "metadata": {},
   "outputs": [
    {
     "data": {
      "text/plain": [
       "262"
      ]
     },
     "metadata": {},
     "output_type": "display_data"
    }
   ],
   "source": [
    "collatz 6171"
   ]
  }
 ],
 "metadata": {
  "kernelspec": {
   "display_name": "Haskell",
   "language": "haskell",
   "name": "haskell"
  },
  "language_info": {
   "codemirror_mode": "Haskell",
   "file_extension": ".hs",
   "mimetype": "text/x-haskell",
   "name": "haskell",
   "pygments_lexer": "Haskell",
   "version": "8.8.4"
  }
 },
 "nbformat": 4,
 "nbformat_minor": 4
}
