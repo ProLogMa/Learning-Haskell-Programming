{
 "cells": [
  {
   "cell_type": "markdown",
   "metadata": {},
   "source": [
    "# 서문"
   ]
  },
  {
   "cell_type": "markdown",
   "metadata": {},
   "source": [
    "\"하스켈 프로그래밍 배우기\"는 '**프로그래밍, 수리논리, 수학은 하나다**' 라는 주제하에 진행되는 \n",
    "강좌 시리즈의 첫번째 강좌이며, 하스켈 프로그래밍을 먼저 소개하는 이유는 다음과 같습니다.\n",
    "\n",
    "* 프로그래밍 기초 학습\n",
    "* 유형이론(type theory) 기초 활용\n",
    "* 수학과 프로그래밍의 연관성 소개\n",
    "\n",
    "<p>다루는 내용은 \n",
    "    <a href=\"https://creativecommons.org/licenses/by-nc-sa/3.0/deed.ko\">Creative Commons Attribution-Noncommercial-Share Alike 3.0 Unported License</a>\n",
    "    조건으로 무료 공개된 Miran Lipova&ccaron;a의\n",
    "    <a href=\"http://learnyouahaskell.com/\">Learn You a Haskell for Great Good!</a>을\n",
    "    기본으로 하면서 다음 자료를 참조한 내용을 담고 있습니다.</p>\n",
    "\n",
    "* [A Gentle Introduction To Haskell](https://www.haskell.org/tutorial/), \n",
    "    Paul Hudak, John Peterson, and Joseph Fasel\n",
    "* [Programming in Haskell](https://www.cambridge.org/core/books/programming-in-haskell/8FED82E807EF12D390DE0D16FDE217E4), \n",
    "    Graham Hutton\n",
    "* [The Haskell Road to Logic, Maths and Programming](https://staff.fnwi.uva.nl/d.j.n.vaneijck2/HR/), \n",
    "    Kees Doets and Jan van Eijck\n",
    "* [Wikibooks Haskell](https://en.wikibooks.org/wiki/Haskell/Print_version)\n",
    "    (번역본: [Wikibooks Haskell](https://wikidocs.net/book/204))\n",
    "\n",
    "함께 제공되는 주피터 노트북은 James Brock의 \n",
    "[learn-you-a-haskell-notebook](https://github.com/jamesdbrock/learn-you-a-haskell-notebook)을 \n",
    "기본틀로 사용합니다.\n",
    "학습 및 프로그래밍 환경을 설정하는 방식은 \n",
    "[하스켈 프로그래밍 배우기 홈페이지](https://prologma.github.io/learn-you-a-haskell/) 를\n",
    "참조하면 됩니다."
   ]
  },
  {
   "cell_type": "markdown",
   "metadata": {},
   "source": [
    "__감사의 말(Acknowledgement)__\n",
    "\n",
    "<p>학습환경 설정에 사용되는 mybinder의 서버와 도커 이미지는 James Brock의 \n",
    "<a href=\"https://github.com/jamesdbrock/learn-you-a-haskell-notebook\">learn-you-a-haskell-notebook</a>에서 \n",
    "제공한 것을 활용합니다.\n",
    "주피터 노트북 서버에 사용되는 하스켈 해석기는 \n",
    "<a href=\"https://downloads.haskell.org/~ghc/latest/docs/html/users_guide/ghci.html\">GHCi</a>를 \n",
    "Jupyter Project에 적용한 Andrew Gibiansky의 \n",
    "<a href=\"https://github.com/gibiansky/IHaskell\">IHaskell</a>입니다.\n",
    "<a href=\"http://learnyouahaskell.com/\">Learn You a Haskell for Great Good!</a> 책을 무료로 공개한\n",
    "Miran Lipova&ccaron;a를 포함하여 세 사람에게 무한한 감사를 드립니다.</p>"
   ]
  }
 ],
 "metadata": {
  "kernelspec": {
   "display_name": "Haskell",
   "language": "haskell",
   "name": "haskell"
  },
  "language_info": {
   "codemirror_mode": "Haskell",
   "file_extension": ".hs",
   "mimetype": "text/x-haskell",
   "name": "haskell",
   "pygments_lexer": "Haskell",
   "version": "8.8.4"
  }
 },
 "nbformat": 4,
 "nbformat_minor": 4
}
